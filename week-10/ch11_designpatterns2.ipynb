{
 "cells": [
  {
   "cell_type": "markdown",
   "metadata": {
    "slideshow": {
     "slide_type": "slide"
    }
   },
   "source": [
    "# Python Design Patterns II\n",
    "- The adapter pattern \n",
    "- The facade pattern \n",
    "- Lazy initialization and the flyweight pattern \n",
    "- The command pattern \n",
    "- The compositon pattern \n",
    "\n",
    "__By Will Norris__"
   ]
  },
  {
   "cell_type": "markdown",
   "metadata": {
    "slideshow": {
     "slide_type": "slide"
    }
   },
   "source": [
    "## Patterns: \n",
    "- Developed by the \"Gang of Four\" in their book \n",
    "    - Ralph Johnson, Richarch Helm, John Clissides, Erich Gamma \n",
    "- They define a set of object oriented programming patterns that can help provide standards and best practice for object oriented programming "
   ]
  },
  {
   "cell_type": "markdown",
   "metadata": {
    "slideshow": {
     "slide_type": "subslide"
    }
   },
   "source": [
    "![](https://imgur.com/muxOZxM.png)"
   ]
  },
  {
   "cell_type": "markdown",
   "metadata": {
    "slideshow": {
     "slide_type": "slide"
    }
   },
   "source": [
    "## Three Kinds of Patterns: \n",
    "1. __Creational__ \n",
    "    - Provide ways to instantiate single objects or groups of related objects \n",
    "2. __Structural__\n",
    "    - Provide a manner to define relationships between classes \n",
    "3. __Behavioral__\n",
    "    - Define manners of communication between classes and objects"
   ]
  },
  {
   "cell_type": "markdown",
   "metadata": {
    "slideshow": {
     "slide_type": "slide"
    }
   },
   "source": [
    "## The Adapter Pattern\n",
    "- __Structural Pattern__\n",
    "- Adapters are used to allow two pre-existing objects to work together, even if their interfaces are not compatible "
   ]
  },
  {
   "cell_type": "markdown",
   "metadata": {},
   "source": [
    "__What is it good for?__ \n",
    "- Converting arguments to a different format \n",
    "- Rearranging the order of arguments \n",
    "- Calling a differently named method \n",
    "- Supplying default arguments \n",
    "\n",
    "__Essentially__ they are just the \"connection\" that links two different objects (like dongles for our computers) "
   ]
  },
  {
   "cell_type": "markdown",
   "metadata": {
    "slideshow": {
     "slide_type": "slide"
    }
   },
   "source": [
    "#### Structure: \n",
    "- Similar to simplified decorator pattern\n",
    "- Map between two different interaces \n",
    "    - Whereas decorators provide the same interface they replace \n",
    " "
   ]
  },
  {
   "cell_type": "markdown",
   "metadata": {
    "slideshow": {
     "slide_type": "slide"
    }
   },
   "source": [
    "![Adapter Patterns- SOURCE](https://i.imgur.com/qkyXVp8.png)"
   ]
  },
  {
   "cell_type": "markdown",
   "metadata": {
    "slideshow": {
     "slide_type": "-"
    }
   },
   "source": [
    "- ```Interface1``` is expecting to call a method called ```make_action(some, arguments)```\n",
    "- We already have ```Interface2``` class that does the things we want \n",
    "    - However, it provides a method called ```different_actin(other, arguments)``` instead!\n",
    "- The ```Adapter``` class implements the ```make_action``` interface and maps the arguments to the existing interface. \n"
   ]
  },
  {
   "cell_type": "markdown",
   "metadata": {
    "slideshow": {
     "slide_type": "slide"
    }
   },
   "source": [
    "### What's the Advantage to Adapters: \n",
    "- Code that maps from one interface to another is all in one place \n",
    "    - If we didn't do this we would have to convert whenever we wanted to use that code!!"
   ]
  },
  {
   "cell_type": "code",
   "execution_count": 1,
   "metadata": {
    "slideshow": {
     "slide_type": "slide"
    }
   },
   "outputs": [],
   "source": [
    "class AgeCalculator:\n",
    "    def __init__(self, birthday):\n",
    "        # this class formats the year month, day into int's from strings\n",
    "        self.year, self.month, self.day = (\n",
    "            int(x) for x in birthday.split('-'))\n",
    "        \n",
    "    def calculate_age(self,date):\n",
    "        year, month, day = (\n",
    "                int(x) for x in date.split('-'))\n",
    "        age = year - self.year\n",
    "        if (month,day) < (self.month,self.day):\n",
    "            age -= 1\n",
    "        return age "
   ]
  },
  {
   "cell_type": "markdown",
   "metadata": {},
   "source": [
    "### What's Wrong Here? \n",
    "- Class takes in a string for a birthday\n",
    "    - Many pythonistas 🐍 might expect to input a datetime object instead \n",
    "    - Datetime objects are far more flexible and easier to build on top of later!!"
   ]
  },
  {
   "cell_type": "markdown",
   "metadata": {
    "slideshow": {
     "slide_type": "subslide"
    }
   },
   "source": [
    "__Solutions__: \n",
    "1. We could __rewrite the class__ to accept datetime ☀️\n",
    "    - not always an option! ☹️\n",
    "2. We could just __convert strings to datetime on the fly__ with ```datetime.date.strftime('%Y-%m-%d')``` ⛈\n",
    "    - But honestly, do you want to do that over and over again? \n",
    "    - Leaves you exposed to mistypes ('%M') is minutes whereas ('%m') is months!\n",
    "3. We could __write an adapter__ that allows a normal date to be entered into a normal ```AgeCalculator``` class 🌤"
   ]
  },
  {
   "cell_type": "code",
   "execution_count": 2,
   "metadata": {
    "slideshow": {
     "slide_type": "slide"
    }
   },
   "outputs": [],
   "source": [
    "import datetime\n",
    "class DateAgeAdapter:\n",
    "    def _str_date(self, date):\n",
    "        return date.strftime(\"%Y-%m-%d\")\n",
    "    \n",
    "    def __init__(self, birthday):\n",
    "        birthday = self._str_date(birthday)\n",
    "        self.calculator = AgeCalculator(birthday)\n",
    "        \n",
    "    def get_age(self, date): # method name can be different, and arguments can change\n",
    "        date = self._str_date(date)\n",
    "        return self.calculator.calculate_age(date)"
   ]
  },
  {
   "cell_type": "markdown",
   "metadata": {},
   "source": [
    "Now we can enter datetime objects instead of strings but use our existing codebase:"
   ]
  },
  {
   "cell_type": "code",
   "execution_count": 3,
   "metadata": {},
   "outputs": [
    {
     "name": "stdout",
     "output_type": "stream",
     "text": [
      "Adapter Implementation: 44\n",
      "String Implementation: 44\n"
     ]
    }
   ],
   "source": [
    "d = DateAgeAdapter(datetime.date(1975,1,1))\n",
    "print(\"Adapter Implementation: {}\".format(d.get_age(datetime.date.today())))\n",
    "\n",
    "d1 = AgeCalculator(\"1975-01-01\")\n",
    "print(\"String Implementation: {}\".format(d1.calculate_age(\"2019-03-17\")))"
   ]
  },
  {
   "cell_type": "markdown",
   "metadata": {
    "slideshow": {
     "slide_type": "slide"
    }
   },
   "source": [
    "### Downsides to Class Adapaters: \n",
    "- Over time we forget why we need this interface unless it's really clear \n",
    "- Unless there is significant downsides to restructuring the original code we don't want to keep adding more adapters to keep  old classes useable\n",
    "    - More classes = more overhead\n",
    "__Alternatives to Classes__:\n",
    "- We can often monkey patch at runtime \n",
    "- WE can often times use a simple function as an adapter "
   ]
  },
  {
   "cell_type": "markdown",
   "metadata": {
    "slideshow": {
     "slide_type": "slide"
    }
   },
   "source": [
    "## The Facade Pattern: \n",
    "- __Structural Pattern__\n",
    "- Designed to provide a simple interface to a complex system of components.\n",
    "    - If a system is really complex, we don't usually want to interact with it directly \n",
    "    - We often have a set of \"typical\" use cases \n",
    "- __Facade patterns allow us to create a set of simplified operations to simplify your interaction with complex objects without compromising the ability to interact directly__\n",
    "\n",
    "![](https://imgur.com/Y6bA3K3.png)"
   ]
  },
  {
   "cell_type": "markdown",
   "metadata": {
    "slideshow": {
     "slide_type": "slide"
    }
   },
   "source": [
    "### Facade vs Adapter \n",
    "- Facade trying to abstract a simpler inferface from a complex one\n",
    "- Adapter is trying to map one existing interface to another"
   ]
  },
  {
   "cell_type": "markdown",
   "metadata": {
    "slideshow": {
     "slide_type": "slide"
    }
   },
   "source": [
    "### Now, an Example:\n",
    "Let's create a facade for an email application. \n",
    "- There are two libraries for receiving email messages,```smtplib```/```imaplib```, and they are quite complex!\n",
    "- Let's write a facade that allows us to send an email and list the emails in our inbox on either an ```IMAP``` or ```SMTP``` connection.\n",
    "\n",
    "__Structure:__\n",
    "- Makes assumptions about the connection \n",
    "    - Host for SMTP and IMAP are same\n",
    "    - Username and password for each is same \n",
    "    - They both use standard ports \n",
    "\n",
    "This will cover most email needs, but nothing is preventing a programming from cracking open the hood and accessing the core functionality\n"
   ]
  },
  {
   "cell_type": "code",
   "execution_count": 2,
   "metadata": {
    "slideshow": {
     "slide_type": "slide"
    }
   },
   "outputs": [],
   "source": [
    "import smtplib\n",
    "import smtplib\n",
    "\n",
    "class EmailFacade:\n",
    "    def __init__(self, host, username, password):\n",
    "        self.host = host\n",
    "        self.username = username\n",
    "        self.password = password\n",
    "    \n",
    "    def send_email(self, to_email, subject, message):\n",
    "        if not \"@\" in self.username: # is username wino6687 or wino6687@colorado.edu\n",
    "            from_email = \"{0}@{1}\".format(\n",
    "                    self.username, self.host)\n",
    "        else:\n",
    "            from_email = self.username\n",
    "        message = (\"From: {0}\\r\\n\"\n",
    "                  \"To: {1}\\r\\n\"\n",
    "                  \"Subject: {2}\\r\\n\\r\\n{3}\").format(\n",
    "                            from_email,\n",
    "                            to_email,\n",
    "                            subject,\n",
    "                            message)\n",
    "        \n",
    "        smtp = smtplib.SMTP(self.host)\n",
    "        smtp.login(self.username, self.password)\n",
    "        smtp.sendmail(from_email, [to_email],message)    "
   ]
  },
  {
   "cell_type": "code",
   "execution_count": 5,
   "metadata": {
    "slideshow": {
     "slide_type": "subslide"
    }
   },
   "outputs": [],
   "source": [
    "def get_inbox(self):\n",
    "    mailbox = imap.IMAP4(self.host)\n",
    "    mailbox.login(bytes(self.username, 'utf8'),\n",
    "                 bytes(self.password, 'utf8'))\n",
    "    mailbox.select()\n",
    "    x,data = mailbox.search(None, 'ALL')\n",
    "    messages = []\n",
    "    for num in data[0].split():\n",
    "        x,message = mailbox.fetch(num, '(RFC822)')\n",
    "        messages.append(message[0][1])\n",
    "    return messages"
   ]
  },
  {
   "cell_type": "markdown",
   "metadata": {},
   "source": [
    "- Now we can send and receive email relatively simply\n",
    "    - Easily abstracting away the complexity we don't need \n",
    "- This is a very pythonic thing to do \n",
    "    - The python language as whole likes to offer abstractions to make your life esier (for loop structure, list comprehensions, generators) "
   ]
  },
  {
   "cell_type": "markdown",
   "metadata": {
    "slideshow": {
     "slide_type": "slide"
    }
   },
   "source": [
    "## The Flyweight Pattern\n",
    "- __Structural Pattern__\n",
    "- Memory optimization pattern (useful when # of objects > 100)\n",
    "- Tempting to ignore memory  and let Python's wonderful garbage collector to do all of our work for us 🚛\n",
    "    - But __as things grow, paying attention to memory can be critical!__ Especially if you are working on a local machine or limited cloud resources\n",
    "    \n",
    "__Concept__:\n",
    "- Ensures that objects that share a state can use the same memory for that shared state. \n",
    "- Often implemented after a program has demonstrated memory problems \n",
    "    - Don't have to start with this in mind \n",
    "    - __\"Premature optimization is the most effective way to create a program that is too complicated to maintain\"__"
   ]
  },
  {
   "cell_type": "markdown",
   "metadata": {
    "slideshow": {
     "slide_type": "subslide"
    }
   },
   "source": [
    "![flyweight](https://imgur.com/NRGX2uu.png)"
   ]
  },
  {
   "cell_type": "markdown",
   "metadata": {},
   "source": [
    "- Each ```Flyweight``` has no specific state; any time it needs to perform an operation on ```SpecificState```, that state needs to be passed into the ```Flyweight``` by the calling code\n",
    "- The factory that returns a flyweight is a seperate object\n",
    "    - it's purpose is to return a flyweight for a given key identifying that flyweight. \n",
    "    - If the flyweight exists, we return it; if not, we create a new one"
   ]
  },
  {
   "cell_type": "markdown",
   "metadata": {
    "slideshow": {
     "slide_type": "slide"
    }
   },
   "source": [
    "__Example: Let's Build an Inventory System for Cars__\n",
    "- Each individual car has a unique serial number and color\n",
    "    - But most of the details about that car are the same for all of the cars of that model \n",
    "- Normally we would have to store a list of all of the attributes a given car does or doesn't have \n",
    "    - If you have a lot of car models, then this will waste memory fast \n",
    "\n",
    "__Goal:__ If we use the flyweight pattern we can make shared objects for the list of features for each model, and reference the model with the serial number and color to find an individual vehicle!"
   ]
  },
  {
   "cell_type": "markdown",
   "metadata": {
    "slideshow": {
     "slide_type": "slide"
    }
   },
   "source": [
    "__Strategy:__\n",
    "- We can use the ```__new__``` constructur to implement the flyweight pattern \n",
    "    - However, this will only return one instance of the class, and we want to have different instances depending on the keys \n",
    "- We could try using a dictionary to store the items and look up based on key\n",
    "    - BUT, when we sold out of one model of a car, it would still exist in the dictionary and thus still take up memory \n",
    "    - Instead, let's use python's garbage collector to solve this for us \n",
    "    \n",
    "Using the ```weakref``` module: \n",
    "- provides a ```WeakValueDictionary``` object\n",
    "- If we end up with an object reference location that has no values stored at that time, the garbage collector will come along and clean it"
   ]
  },
  {
   "cell_type": "markdown",
   "metadata": {
    "slideshow": {
     "slide_type": "slide"
    }
   },
   "source": [
    "#### 1. Build Factory\n",
    "- We use a factory to build and construct flyweight instances\n",
    "    - We need a factory for each type of flyweight instance\n",
    "- Whenever we construct a new flyweight with a given name, we look up that name in the weak referenced dict\n",
    "    - If it exists $\\rightarrow$ return the model \n",
    "    - If not $\\rightarrow$ create new model\n",
    "- Regardless, we will call the ```__init__``` method of the flyweight every time"
   ]
  },
  {
   "cell_type": "code",
   "execution_count": 3,
   "metadata": {
    "slideshow": {
     "slide_type": "subslide"
    }
   },
   "outputs": [],
   "source": [
    "import weakref\n",
    "class CarModel:\n",
    "    _models = weakref.WeakValueDictionary()\n",
    "    \n",
    "    def __new__(cls, model_name, *args, **kwargs):\n",
    "        model = cls._models.get(model_name)\n",
    "        if not model: \n",
    "            model = super().__new__(cls)\n",
    "            cls._models[model_name] = model\n",
    "            \n",
    "        return model\n",
    "    \n",
    "    def __init__(self, model_name, air = False, tilt = False,\n",
    "                cruise_control=False, power_locks=False,\n",
    "                alloy_wheels=False, usb_charger=False):\n",
    "        if not hasattr(self,\"initted\"): # ensure we only initialize object once\n",
    "            self.model_name = model_name\n",
    "            self.air = air\n",
    "            self.tilt = tilt\n",
    "            self.cruise_control = cruise_control\n",
    "            self.power_locks = power_locks\n",
    "            self.alloy_wheels = alloy_wheels\n",
    "            self.usb_charger = usb_charger\n",
    "            self.initted=True\n",
    "            \n",
    "    def check_serial(self, serial_number):\n",
    "        print(\"Sorry, we can't check that\"\n",
    "             \"The serial number {0} on the {1}\"\n",
    "             \"at this time\".format(\n",
    "             serial_number, self.model_name))"
   ]
  },
  {
   "cell_type": "markdown",
   "metadata": {
    "slideshow": {
     "slide_type": "slide"
    }
   },
   "source": [
    "__Define class that stores additional info and references the flyweight:__"
   ]
  },
  {
   "cell_type": "code",
   "execution_count": 4,
   "metadata": {},
   "outputs": [],
   "source": [
    "class Car: \n",
    "    def __init__(self, model, color, serial):\n",
    "        self.model = model\n",
    "        self.color = color \n",
    "        self.serial = serial\n",
    "        \n",
    "    def check_serial(self):\n",
    "        return self.model.check_serial(self.serial)"
   ]
  },
  {
   "cell_type": "code",
   "execution_count": 7,
   "metadata": {
    "slideshow": {
     "slide_type": "slide"
    }
   },
   "outputs": [],
   "source": [
    "dx = CarModel(\"FIT DX\")\n",
    "lx = CarModel(\"FIT LX\", air=True, cruise_control=True,\n",
    "              power_locks=True, tilt=True)\n",
    "car1 = Car(dx, \"blue\", \"122345\")\n",
    "car2 = Car(dx, \"black\", \"12346\")\n",
    "car3 = Car(lx, \"red\", \"12347\")"
   ]
  },
  {
   "cell_type": "code",
   "execution_count": 8,
   "metadata": {},
   "outputs": [
    {
     "name": "stdout",
     "output_type": "stream",
     "text": [
      "4533179504\n"
     ]
    },
    {
     "data": {
      "text/plain": [
       "0"
      ]
     },
     "execution_count": 8,
     "metadata": {},
     "output_type": "execute_result"
    }
   ],
   "source": [
    "print(id(lx))\n",
    "del lx\n",
    "del car3\n",
    "\n",
    "import gc\n",
    "gc.collect()"
   ]
  },
  {
   "cell_type": "code",
   "execution_count": 9,
   "metadata": {},
   "outputs": [
    {
     "name": "stdout",
     "output_type": "stream",
     "text": [
      "4533178832\n",
      "4533178832\n",
      "True\n"
     ]
    }
   ],
   "source": [
    "lx = CarModel(\"FIT LX\", air=True, cruise_control=True,\n",
    "             power_locks=True, tilt=True)\n",
    "print(id(lx))\n",
    "\n",
    "lx = CarModel(\"FIT LX\")\n",
    "print(id(lx))\n",
    "\n",
    "print(lx.air)"
   ]
  },
  {
   "cell_type": "markdown",
   "metadata": {
    "slideshow": {
     "slide_type": "slide"
    }
   },
   "source": [
    "## The Command Pattern: \n",
    "- __Behavioural Pattern__\n",
    "    - Express a request, including the call to be made and all of its required paraemtersl, in a command object \n",
    "    - Can be used any time\n",
    "- Adds a level of abstraction between actions that must be done, and the object that invokes those actions, normally at a later time.\n",
    "![](https://imgur.com/uP6s72c.png)\n",
    "\n"
   ]
  },
  {
   "cell_type": "markdown",
   "metadata": {
    "slideshow": {
     "slide_type": "slide"
    }
   },
   "source": [
    "![](https://imgur.com/uP6s72c.png)\n",
    "\n",
    "- We have client code that creates a ```Command``` object that can be executed at a later date. \n",
    "- This object knows about a receiver object that manages its own internal state when the command is executed on it \n",
    "- The ```Command``` object implements a specific interface, typically it has an ```execute``` or ```do_action``` method, and also keeps track of any arguments required to perform the action \n",
    "- Lastly, one or more Invoker objects execute the command at the correct time "
   ]
  },
  {
   "cell_type": "markdown",
   "metadata": {
    "slideshow": {
     "slide_type": "slide"
    }
   },
   "source": [
    "### Common Use for Command Pattern: Graphical Windows\n",
    "- Buttons that exist in a simple GUI are essentially just functionility that is built and ready but waiting to be executed \n",
    "    - Executing something when it is selected is called __invoking__\n",
    "- Actions that occur when you select a menu item, a keyboard shortcut, or a toolbar icon are all examples of invoker objects!\n",
    "\n",
    "__Example:__ Simple command pattern to provide ```Save``` and ```Exit``` actions "
   ]
  },
  {
   "cell_type": "code",
   "execution_count": 11,
   "metadata": {
    "slideshow": {
     "slide_type": "slide"
    }
   },
   "outputs": [],
   "source": [
    "import sys \n",
    "\n",
    "class Window:\n",
    "    def exit(self):\n",
    "        sys.exit(0)\n",
    "\n",
    "class Document:\n",
    "    def __init__(self,filename):\n",
    "        self.filename = filename \n",
    "        self.contents = \"This file cannot be modified\"\n",
    "    def save(self):\n",
    "        with open(self.filename, 'w') as file:\n",
    "            file.write(self.contents)"
   ]
  },
  {
   "cell_type": "markdown",
   "metadata": {},
   "source": [
    "__Note__: \n",
    "- These objects are trivially simple. \n",
    "- In a real environment the Window would need to handle things like mouse clicks and movement. The document would need to handle things like insertion and deletion. "
   ]
  },
  {
   "cell_type": "code",
   "execution_count": 12,
   "metadata": {
    "slideshow": {
     "slide_type": "slide"
    }
   },
   "outputs": [],
   "source": [
    "# define invoker classes\n",
    "class ToolbarButton:\n",
    "    def __init__(self,name, iconname):\n",
    "        self.name = name \n",
    "        self.iconname = iconname\n",
    "    \n",
    "    def click(self):\n",
    "        self.command.execute()\n",
    "    \n",
    "class MenuItem:\n",
    "    def __init__(self, menu_name, menuitem_name):\n",
    "        self.menu = menu_name \n",
    "        self.item = menuitem_name\n",
    "        \n",
    "    def click(self):\n",
    "        self.command.execute()\n",
    "\n",
    "class KeyboardShortcut:\n",
    "    def __init__(self, key, modifier):\n",
    "        self.key = key \n",
    "        self.modifier = modifier \n",
    "        \n",
    "    def keypress(self):\n",
    "        self.command.execute()"
   ]
  },
  {
   "cell_type": "code",
   "execution_count": 13,
   "metadata": {
    "slideshow": {
     "slide_type": "subslide"
    }
   },
   "outputs": [],
   "source": [
    "# hook up the commands \n",
    "class SaveCommand:\n",
    "    def __init__(self, document):\n",
    "        self.document = document \n",
    "    \n",
    "    def execute(self):\n",
    "        self.document.save()\n",
    "        \n",
    "class ExitCommand:\n",
    "    def __init__(self, window):\n",
    "        self.window = window\n",
    "    \n",
    "    def execute(self):\n",
    "        self.window.exit()"
   ]
  },
  {
   "cell_type": "code",
   "execution_count": 42,
   "metadata": {},
   "outputs": [],
   "source": [
    "window = Window()\n",
    "document = Document(\"a_document.txt\")\n",
    "save = SaveCommand(document)\n",
    "exit = ExitCommand(window)\n",
    "\n",
    "# create save button that can be used later \n",
    "save_button = ToolbarButton('save', 'save.png')\n",
    "save_button.command = save\n",
    "save_keystroke = KeyboardShortcut(\"s\", \"ctrl\")\n",
    "save_keystroke.command = save\n",
    "exit_menu = MenuItem(\"File\", \"Exit\")\n",
    "exit_menu.command = exit"
   ]
  },
  {
   "cell_type": "markdown",
   "metadata": {
    "slideshow": {
     "slide_type": "slide"
    }
   },
   "source": [
    "## The Composite Pattern: \n",
    "- Allows complex tree-like structures to be built from simple components \n",
    "    - Components are called composite objects \n",
    "        - behave like a container and kinda like a variable depending on whether they have child components\n",
    "- __Generally__, each component object is either a leaf node that can't contain other objects or it is a composite node\n"
   ]
  },
  {
   "cell_type": "markdown",
   "metadata": {
    "slideshow": {
     "slide_type": "subslide"
    }
   },
   "source": [
    "![](https://imgur.com/lw5mZOz.png)"
   ]
  },
  {
   "cell_type": "markdown",
   "metadata": {
    "slideshow": {
     "slide_type": "subslide"
    }
   },
   "source": [
    "![](https://imgur.com/HiwM1Cp.png)"
   ]
  },
  {
   "cell_type": "markdown",
   "metadata": {
    "slideshow": {
     "slide_type": "slide"
    }
   },
   "source": [
    "__Why is the Composite Pattern Useful?__\n",
    "- The purpose of a composite is to compose objects into tree structres to represent part-whole hierarchies\n",
    "- Allows clients to treat individual objects and composositions uniformly\n",
    "\n",
    "__Structure:__\n",
    "- Collection of nodes \n",
    "- Node is an abstract base class, and its derivatives are either leaves or collections of other nodes\n",
    "- When an operation is performed on the parent, that operation is recursively passed down the hierarchy"
   ]
  },
  {
   "cell_type": "markdown",
   "metadata": {
    "slideshow": {
     "slide_type": "subslide"
    }
   },
   "source": [
    "- For each composite object, we keep a dictionary of children (usually a list is enough) \n",
    "    - Using a dictionary to allow us to lookup children by name\n",
    "    \n",
    "__Example: File System__\n",
    "- We want to have objects for Folders and Files\n",
    "- We need to be able to access both (as both have unique methods) \n",
    "- We want to be able to essentially mix the objects in a tree, which means we need a parent class to manage a tree of objects (component)"
   ]
  },
  {
   "cell_type": "code",
   "execution_count": 43,
   "metadata": {
    "slideshow": {
     "slide_type": "slide"
    }
   },
   "outputs": [],
   "source": [
    "class Component:\n",
    "    def __init__(self, name):\n",
    "        self.name = name\n",
    "    def move(self, new_path):\n",
    "        new_folder = get_path(new_path)\n",
    "        del self.parent.children[self.name]\n",
    "        new_folder.children[self.name] = self\n",
    "        self.parent = new_folder \n",
    "    def delete(self):\n",
    "        del self.parent.children[self.name]\n",
    "        \n",
    "class Folder(Component):\n",
    "    def __init__(self, name):\n",
    "        super().__init__(name)\n",
    "        self.children = {}\n",
    "    def add_child(self, child):\n",
    "        child.parent = self\n",
    "        self.children[child.name] = child\n",
    "    def copy(self, new_path):\n",
    "        pass\n",
    "    \n",
    "class File(Component):\n",
    "    def __init__(self, name, contents):\n",
    "        super().__init__(name)\n",
    "        self.contents = contents\n",
    "    def copy(self, new_path):\n",
    "        pass"
   ]
  },
  {
   "cell_type": "code",
   "execution_count": 44,
   "metadata": {
    "slideshow": {
     "slide_type": "subslide"
    }
   },
   "outputs": [],
   "source": [
    "root = Folder('')\n",
    "def get_path(path):\n",
    "    names = path.split('/')[1:]\n",
    "    node = root\n",
    "    for name in names:\n",
    "        node = node.children[name]\n",
    "    return node"
   ]
  },
  {
   "cell_type": "code",
   "execution_count": 45,
   "metadata": {
    "slideshow": {
     "slide_type": "slide"
    }
   },
   "outputs": [
    {
     "data": {
      "text/plain": [
       "{'file21': <__main__.File at 0x106499f28>}"
      ]
     },
     "execution_count": 45,
     "metadata": {},
     "output_type": "execute_result"
    }
   ],
   "source": [
    "folder1 = Folder('folder1')\n",
    "folder2 = Folder('folder2')\n",
    "root.add_child(folder1)\n",
    "root.add_child(folder2)\n",
    "folder11 = Folder('folder11')\n",
    "folder1.add_child(folder11)\n",
    "file111 = File('file111', 'contents')\n",
    "folder11.add_child(file111)\n",
    "file21 = File('file21', 'other contents')\n",
    "folder2.add_child(file21)\n",
    "folder2.children"
   ]
  },
  {
   "cell_type": "code",
   "execution_count": 40,
   "metadata": {},
   "outputs": [
    {
     "data": {
      "text/plain": [
       "{'file111': <__main__.File at 0x106476940>,\n",
       " 'folder2': <__main__.Folder at 0x106476d68>}"
      ]
     },
     "execution_count": 40,
     "metadata": {},
     "output_type": "execute_result"
    }
   ],
   "source": [
    "folder2.move('/folder1/folder11')\n",
    "folder11.children"
   ]
  }
 ],
 "metadata": {
  "celltoolbar": "Slideshow",
  "kernelspec": {
   "display_name": "Python 3",
   "language": "python",
   "name": "python3"
  },
  "language_info": {
   "codemirror_mode": {
    "name": "ipython",
    "version": 3
   },
   "file_extension": ".py",
   "mimetype": "text/x-python",
   "name": "python",
   "nbconvert_exporter": "python",
   "pygments_lexer": "ipython3",
   "version": "3.6.7"
  }
 },
 "nbformat": 4,
 "nbformat_minor": 2
}
