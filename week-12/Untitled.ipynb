{
 "cells": [
  {
   "cell_type": "code",
   "execution_count": 1,
   "metadata": {},
   "outputs": [
    {
     "data": {
      "text/plain": [
       "defined \u001b[32mtrait\u001b[39m \u001b[36mOrdering\u001b[39m"
      ]
     },
     "execution_count": 1,
     "metadata": {},
     "output_type": "execute_result"
    }
   ],
   "source": [
    "trait Ordering {\n",
    "    def compare(i:Int, j:Int) = { i < j}\n",
    "    def specialCompare(i:Int, j:Int)\n",
    "}"
   ]
  },
  {
   "cell_type": "code",
   "execution_count": 1,
   "metadata": {},
   "outputs": [
    {
     "name": "stderr",
     "output_type": "stream",
     "text": [
      "cmd1.sc:1: trait Ordering is abstract; cannot be instantiated\n",
      "val o = new Ordering \n",
      "        ^Compilation Failed"
     ]
    },
    {
     "ename": "",
     "evalue": "",
     "output_type": "error",
     "traceback": [
      "Compilation Failed"
     ]
    }
   ],
   "source": [
    "val o = new Ordering "
   ]
  },
  {
   "cell_type": "code",
   "execution_count": 2,
   "metadata": {},
   "outputs": [
    {
     "data": {
      "text/plain": [
       "defined \u001b[32mclass\u001b[39m \u001b[36mMySpecialOrder\u001b[39m"
      ]
     },
     "execution_count": 2,
     "metadata": {},
     "output_type": "execute_result"
    }
   ],
   "source": [
    "class MySpecialOrder extends Ordering {\n",
    "    def specialCompare(i:Int, j:Int) = {i + j}\n",
    "}"
   ]
  },
  {
   "cell_type": "code",
   "execution_count": 3,
   "metadata": {},
   "outputs": [
    {
     "data": {
      "text/plain": [
       "defined \u001b[32mtrait\u001b[39m \u001b[36mOrdering\u001b[39m"
      ]
     },
     "execution_count": 3,
     "metadata": {},
     "output_type": "execute_result"
    }
   ],
   "source": [
    "trait Ordering {\n",
    "    def leq(i: Int, j:Int): Boolean\n",
    "    def geq(i: Int, j: Int): Boolean = {leq(j, i)}\n",
    "    def eq(i:Int, j: Int): Boolean = {leq(i,j) && leq(j,i)}\n",
    "    def neq(i:Int, j:Int): Boolean = {!eq(i,j)}\n",
    "}"
   ]
  },
  {
   "cell_type": "code",
   "execution_count": 4,
   "metadata": {},
   "outputs": [
    {
     "data": {
      "text/plain": [
       "defined \u001b[32mclass\u001b[39m \u001b[36mMySpecialOrder\u001b[39m"
      ]
     },
     "execution_count": 4,
     "metadata": {},
     "output_type": "execute_result"
    }
   ],
   "source": [
    "class MySpecialOrder extends Ordering {\n",
    "    override def leq(i:Int, j:Int): Boolean = {\n",
    "        i - j <= i + j\n",
    "    }\n",
    "    override def eq(i: Int, j: Int): Boolean = {\n",
    "        i - j == j*j\n",
    "    }\n",
    "}"
   ]
  },
  {
   "cell_type": "code",
   "execution_count": 5,
   "metadata": {},
   "outputs": [
    {
     "data": {
      "text/plain": [
       "defined \u001b[32mtrait\u001b[39m \u001b[36mOrdering\u001b[39m"
      ]
     },
     "execution_count": 5,
     "metadata": {},
     "output_type": "execute_result"
    }
   ],
   "source": [
    "trait Ordering[T] {\n",
    "    def leq(i: T, j:T): Boolean\n",
    "    def geq(i: T, j: T): Boolean = {leq(j, i)}\n",
    "    def eq(i:T, j: T): Boolean = {leq(i,j) && leq(j,i)}\n",
    "    def neq(i:T, j:T): Boolean = {!eq(i,j)}\n",
    "}"
   ]
  },
  {
   "cell_type": "code",
   "execution_count": 6,
   "metadata": {},
   "outputs": [
    {
     "data": {
      "text/plain": [
       "defined \u001b[32mclass\u001b[39m \u001b[36mLexOrdering\u001b[39m"
      ]
     },
     "execution_count": 6,
     "metadata": {},
     "output_type": "execute_result"
    }
   ],
   "source": [
    "class LexOrdering extends Ordering[(Int, Int)] {\n",
    "    override def leq(i: (Int, Int), j: (Int, Int)): Boolean = {\n",
    "        val (i1, i2) = i\n",
    "        val (j1, j2) = j\n",
    "        (i1 <= j1) || (i1 == j1 && i2 <= j2)\n",
    "    }\n",
    "}"
   ]
  },
  {
   "cell_type": "code",
   "execution_count": 7,
   "metadata": {},
   "outputs": [
    {
     "data": {
      "text/plain": [
       "defined \u001b[32mclass\u001b[39m \u001b[36mStringOrdering\u001b[39m"
      ]
     },
     "execution_count": 7,
     "metadata": {},
     "output_type": "execute_result"
    }
   ],
   "source": [
    "class StringOrdering extends Ordering[String] {\n",
    "    override def leq(i:String, j:String):Boolean = {\n",
    "        i < j\n",
    "    }\n",
    "}"
   ]
  },
  {
   "cell_type": "code",
   "execution_count": null,
   "metadata": {},
   "outputs": [],
   "source": [
    "class Sorter[T] {\n",
    "    def sort(input:List[T]):List[T] = {\n",
    "        //write generic sorting fucntion \n",
    "    }\n",
    "}"
   ]
  },
  {
   "cell_type": "markdown",
   "metadata": {},
   "source": [
    "- If a class has undefined methods than it must either be a trait or an abstract class \n"
   ]
  },
  {
   "cell_type": "code",
   "execution_count": null,
   "metadata": {},
   "outputs": [],
   "source": []
  }
 ],
 "metadata": {
  "kernelspec": {
   "display_name": "Scala",
   "language": "scala",
   "name": "scala"
  },
  "language_info": {
   "codemirror_mode": "text/x-scala",
   "file_extension": ".scala",
   "mimetype": "text/x-scala",
   "name": "scala",
   "nbconvert_exporter": "script",
   "version": "2.12.8"
  }
 },
 "nbformat": 4,
 "nbformat_minor": 2
}
