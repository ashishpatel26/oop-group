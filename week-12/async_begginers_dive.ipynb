{
 "cells": [
  {
   "cell_type": "code",
   "execution_count": 24,
   "metadata": {},
   "outputs": [],
   "source": [
    "import time"
   ]
  },
  {
   "cell_type": "code",
   "execution_count": 25,
   "metadata": {},
   "outputs": [],
   "source": [
    "def lucas(): # similar to fib function \n",
    "    yield 2\n",
    "    a = 2\n",
    "    b = 1\n",
    "    while True:\n",
    "        yield b\n",
    "        a,b = b, a + b"
   ]
  },
  {
   "cell_type": "code",
   "execution_count": 26,
   "metadata": {},
   "outputs": [],
   "source": [
    "from itertools import islice "
   ]
  },
  {
   "cell_type": "code",
   "execution_count": 27,
   "metadata": {},
   "outputs": [
    {
     "data": {
      "text/plain": [
       "[2, 1, 3, 4, 7, 11, 18, 29, 47, 76]"
      ]
     },
     "execution_count": 27,
     "metadata": {},
     "output_type": "execute_result"
    }
   ],
   "source": [
    "list(islice(lucas(), 10))"
   ]
  },
  {
   "cell_type": "markdown",
   "metadata": {},
   "source": [
    "**No Concurrency Example**\n",
    "- Simple search method \n",
    "    - we take in an iterable (like a sentence) and search for the item that satifies our ```predicate()``` function \n",
    "- This runs synchronously"
   ]
  },
  {
   "cell_type": "code",
   "execution_count": 28,
   "metadata": {},
   "outputs": [],
   "source": [
    "def search(iterable, predicate):\n",
    "    for item in iterable: \n",
    "        if predicate(item):\n",
    "            return item \n",
    "    raise ValueError(\"Not found\")"
   ]
  },
  {
   "cell_type": "code",
   "execution_count": 29,
   "metadata": {},
   "outputs": [
    {
     "data": {
      "text/plain": [
       "103682"
      ]
     },
     "execution_count": 29,
     "metadata": {},
     "output_type": "execute_result"
    }
   ],
   "source": [
    "search(lucas(), lambda x: len(str(x)) >= 6)"
   ]
  },
  {
   "cell_type": "markdown",
   "metadata": {},
   "source": [
    "**How do we convert a program to be asynchronous?**\n",
    "- One major player in making programs asynchronous in Python are ```generators```\n",
    "    - Generators allow us to break up the computation of a loop\n",
    "    - This makes it possible to introduce some managable control flow "
   ]
  },
  {
   "cell_type": "code",
   "execution_count": 30,
   "metadata": {},
   "outputs": [],
   "source": [
    "def async_search(iterable, predicate):\n",
    "    for item in iterable: \n",
    "        if predicate(item):\n",
    "            return item\n",
    "        yield\n",
    "    raise ValueError(\"Not Found\")"
   ]
  },
  {
   "cell_type": "code",
   "execution_count": 31,
   "metadata": {},
   "outputs": [
    {
     "name": "stdout",
     "output_type": "stream",
     "text": [
      "<generator object async_search at 0x10cdb51a8>\n",
      "None\n",
      "None\n",
      "None\n",
      "Hello Group!\n",
      "None\n",
      "None\n"
     ]
    },
    {
     "ename": "StopIteration",
     "evalue": "11",
     "output_type": "error",
     "traceback": [
      "\u001b[0;31m---------------------------------------------------------------------------\u001b[0m",
      "\u001b[0;31mStopIteration\u001b[0m                             Traceback (most recent call last)",
      "\u001b[0;32m<ipython-input-31-30e182c58737>\u001b[0m in \u001b[0;36m<module>\u001b[0;34m\u001b[0m\n\u001b[1;32m      7\u001b[0m \u001b[0mprint\u001b[0m\u001b[0;34m(\u001b[0m\u001b[0mnext\u001b[0m\u001b[0;34m(\u001b[0m\u001b[0mg\u001b[0m\u001b[0;34m)\u001b[0m\u001b[0;34m)\u001b[0m\u001b[0;34m\u001b[0m\u001b[0;34m\u001b[0m\u001b[0m\n\u001b[1;32m      8\u001b[0m \u001b[0mprint\u001b[0m\u001b[0;34m(\u001b[0m\u001b[0mnext\u001b[0m\u001b[0;34m(\u001b[0m\u001b[0mg\u001b[0m\u001b[0;34m)\u001b[0m\u001b[0;34m)\u001b[0m\u001b[0;34m\u001b[0m\u001b[0;34m\u001b[0m\u001b[0m\n\u001b[0;32m----> 9\u001b[0;31m \u001b[0mprint\u001b[0m\u001b[0;34m(\u001b[0m\u001b[0mnext\u001b[0m\u001b[0;34m(\u001b[0m\u001b[0mg\u001b[0m\u001b[0;34m)\u001b[0m\u001b[0;34m)\u001b[0m \u001b[0;31m# we are returning a value in a generator (not traditional)\u001b[0m\u001b[0;34m\u001b[0m\u001b[0;34m\u001b[0m\u001b[0m\n\u001b[0m",
      "\u001b[0;31mStopIteration\u001b[0m: 11"
     ]
    }
   ],
   "source": [
    "g = async_search(lucas(), lambda x: x >= 10)\n",
    "print(g)\n",
    "print(next(g))\n",
    "print(next(g))\n",
    "print(next(g))\n",
    "print(\"Hello Group!\") # we can do other things before the gen. is exhausted!\n",
    "print(next(g))\n",
    "print(next(g))\n",
    "print(next(g)) # we are returning a value in a generator (not traditional)"
   ]
  },
  {
   "cell_type": "markdown",
   "metadata": {},
   "source": [
    "**What Happened?**\n",
    "- We found the item and ran ```return item```\n",
    "- Generators are supposed to ```yield``` a value and return nothing\n",
    "    - But we are returning a value and yielding nothing\n",
    "    - So when we return a value, we stop iteration of the generator\n",
    "- We can see that the return value is still sorta returned in the payload of the ```StopIteration: 11``` error \n",
    "    - Weird!"
   ]
  },
  {
   "cell_type": "code",
   "execution_count": 51,
   "metadata": {},
   "outputs": [],
   "source": [
    "from collections import deque\n",
    "\n",
    "class Task:\n",
    "    next_id = 0\n",
    "    def __init__(self, routine):\n",
    "        self.id = Task.next_id\n",
    "        Task.next_id += 1\n",
    "        self.routine = routine \n",
    "        \n",
    "class Scheduler:\n",
    "    def __init__(self):\n",
    "        \"\"\"\n",
    "        Scheduler stores queue of tasks, completed results, \n",
    "        and raised exceptions \n",
    "        \"\"\"\n",
    "        self.runnable_tasks = deque()\n",
    "        self.completed_task_results = {}\n",
    "        self.failed_task_errors = {}\n",
    "    \n",
    "    def add(self, routine):\n",
    "        \"\"\"\n",
    "        Wrap a routine in a task and add that task to queue\n",
    "        \"\"\"\n",
    "        task = Task(routine)\n",
    "        self.runnable_tasks.append(task)\n",
    "        return task.id\n",
    "    \n",
    "    def run_to_completion(self):\n",
    "        # run while the queue has stuff in it \n",
    "        while len(self.runnable_tasks) != 0:\n",
    "            task = self.runnable_tasks.popleft() # pop off next task\n",
    "            #print(\"Running task {} ...\".format(task.id), end='')\n",
    "            try:\n",
    "                yielded = next(task.routine)\n",
    "            except StopIteration as stopped: # if stopIteration, we done \n",
    "                print(\"completed with result: {!r}\".format(stopped.value))\n",
    "                # return the payload of the error (our return result)\n",
    "                self.completed_task_results[task.id] = stopped.value\n",
    "            except Exception as e: # if other exception, something is wrong\n",
    "                print(\"failed with exception: {}\".format(e))\n",
    "                self.failed_task_errors[task.id] = e\n",
    "            else: # executes if try is successful\n",
    "                assert yielded is None\n",
    "                #print(\"now yielded\")\n",
    "                self.runnable_tasks.append(task)"
   ]
  },
  {
   "cell_type": "code",
   "execution_count": 33,
   "metadata": {},
   "outputs": [
    {
     "data": {
      "text/plain": [
       "0"
      ]
     },
     "execution_count": 33,
     "metadata": {},
     "output_type": "execute_result"
    }
   ],
   "source": [
    "scheduler = Scheduler()\n",
    "scheduler.add(async_search(lucas(), lambda x: len(str(x)) >= 6))"
   ]
  },
  {
   "cell_type": "code",
   "execution_count": 34,
   "metadata": {},
   "outputs": [
    {
     "name": "stdout",
     "output_type": "stream",
     "text": [
      "Running task 0 ...now yielded\n",
      "Running task 0 ...now yielded\n",
      "Running task 0 ...now yielded\n",
      "Running task 0 ...now yielded\n",
      "Running task 0 ...now yielded\n",
      "Running task 0 ...now yielded\n",
      "Running task 0 ...now yielded\n",
      "Running task 0 ...now yielded\n",
      "Running task 0 ...now yielded\n",
      "Running task 0 ...now yielded\n",
      "Running task 0 ...now yielded\n",
      "Running task 0 ...now yielded\n",
      "Running task 0 ...now yielded\n",
      "Running task 0 ...now yielded\n",
      "Running task 0 ...now yielded\n",
      "Running task 0 ...now yielded\n",
      "Running task 0 ...now yielded\n",
      "Running task 0 ...now yielded\n",
      "Running task 0 ...now yielded\n",
      "Running task 0 ...now yielded\n",
      "Running task 0 ...now yielded\n",
      "Running task 0 ...now yielded\n",
      "Running task 0 ...now yielded\n",
      "Running task 0 ...now yielded\n",
      "Running task 0 ...completed with result: 103682\n"
     ]
    }
   ],
   "source": [
    "scheduler.run_to_completion()"
   ]
  },
  {
   "cell_type": "code",
   "execution_count": 35,
   "metadata": {},
   "outputs": [
    {
     "name": "stdout",
     "output_type": "stream",
     "text": [
      "Running task 1 ...now yielded\n",
      "Running task 2 ...now yielded\n",
      "Running task 1 ...now yielded\n",
      "Running task 2 ...now yielded\n",
      "Running task 1 ...now yielded\n",
      "Running task 2 ...now yielded\n",
      "Running task 1 ...now yielded\n",
      "Running task 2 ...now yielded\n",
      "Running task 1 ...now yielded\n",
      "Running task 2 ...now yielded\n",
      "Running task 1 ...now yielded\n",
      "Running task 2 ...now yielded\n",
      "Running task 1 ...now yielded\n",
      "Running task 2 ...now yielded\n",
      "Running task 1 ...now yielded\n",
      "Running task 2 ...now yielded\n",
      "Running task 1 ...now yielded\n",
      "Running task 2 ...now yielded\n",
      "Running task 1 ...now yielded\n",
      "Running task 2 ...now yielded\n",
      "Running task 1 ...now yielded\n",
      "Running task 2 ...now yielded\n",
      "Running task 1 ...now yielded\n",
      "Running task 2 ...now yielded\n",
      "Running task 1 ...now yielded\n",
      "Running task 2 ...now yielded\n",
      "Running task 1 ...now yielded\n",
      "Running task 2 ...now yielded\n",
      "Running task 1 ...now yielded\n",
      "Running task 2 ...now yielded\n",
      "Running task 1 ...now yielded\n",
      "Running task 2 ...now yielded\n",
      "Running task 1 ...now yielded\n",
      "Running task 2 ...now yielded\n",
      "Running task 1 ...now yielded\n",
      "Running task 2 ...now yielded\n",
      "Running task 1 ...now yielded\n",
      "Running task 2 ...now yielded\n",
      "Running task 1 ...now yielded\n",
      "Running task 2 ...now yielded\n",
      "Running task 1 ...now yielded\n",
      "Running task 2 ...now yielded\n",
      "Running task 1 ...now yielded\n",
      "Running task 2 ...now yielded\n",
      "Running task 1 ...now yielded\n",
      "Running task 2 ...now yielded\n",
      "Running task 1 ...now yielded\n",
      "Running task 2 ...now yielded\n",
      "Running task 1 ...now yielded\n",
      "Running task 2 ...now yielded\n",
      "Running task 1 ...now yielded\n",
      "Running task 2 ...now yielded\n",
      "Running task 1 ...now yielded\n",
      "Running task 2 ...now yielded\n",
      "Running task 1 ...now yielded\n",
      "Running task 2 ...now yielded\n",
      "Running task 1 ...now yielded\n",
      "Running task 2 ...now yielded\n",
      "Running task 1 ...completed with result: 1149851\n",
      "Running task 2 ...now yielded\n",
      "Running task 2 ...now yielded\n",
      "Running task 2 ...now yielded\n",
      "Running task 2 ...now yielded\n",
      "Running task 2 ...now yielded\n",
      "Running task 2 ...now yielded\n",
      "Running task 2 ...now yielded\n",
      "Running task 2 ...now yielded\n",
      "Running task 2 ...now yielded\n",
      "Running task 2 ...now yielded\n",
      "Running task 2 ...completed with result: 141422324\n"
     ]
    }
   ],
   "source": [
    "# we can have more than one task!\n",
    "scheduler.add(async_search(lucas(),lambda x: len(str(x)) >= 7))\n",
    "scheduler.add(async_search(lucas(),lambda x: len(str(x)) >= 9))\n",
    "scheduler.run_to_completion()"
   ]
  },
  {
   "cell_type": "markdown",
   "metadata": {},
   "source": [
    "**We need a slightly heavier example to really see what's happening**"
   ]
  },
  {
   "cell_type": "code",
   "execution_count": 36,
   "metadata": {},
   "outputs": [
    {
     "name": "stdout",
     "output_type": "stream",
     "text": [
      "False\n",
      "True\n",
      "True\n"
     ]
    }
   ],
   "source": [
    "from math import sqrt\n",
    "def is_prime(x):\n",
    "    if x < 2: \n",
    "        return False\n",
    "    for i in range(2,int(sqrt(x)) + 1):\n",
    "        if x % i == 0:\n",
    "            return False\n",
    "    return True\n",
    "\n",
    "print(is_prime(12))\n",
    "print(is_prime(13))\n",
    "print(is_prime(2**31 - 1))\n",
    "#print(is_prime(2**41 - 1))"
   ]
  },
  {
   "cell_type": "code",
   "execution_count": 37,
   "metadata": {},
   "outputs": [],
   "source": [
    "def async_print_matches(iterable, predicate):\n",
    "    for item in iterable:\n",
    "        if predicate(item):\n",
    "            print(\"Found :\", item, end=\", \")\n",
    "        yield"
   ]
  },
  {
   "cell_type": "code",
   "execution_count": 16,
   "metadata": {},
   "outputs": [
    {
     "name": "stdout",
     "output_type": "stream",
     "text": [
      "Running task 3 ...Found : 2, now yielded\n",
      "Running task 3 ...now yielded\n",
      "Running task 3 ...Found : 3, now yielded\n",
      "Running task 3 ...now yielded\n",
      "Running task 3 ...Found : 7, now yielded\n",
      "Running task 3 ...Found : 11, now yielded\n",
      "Running task 3 ...now yielded\n",
      "Running task 3 ...Found : 29, now yielded\n",
      "Running task 3 ...Found : 47, now yielded\n",
      "Running task 3 ...now yielded\n",
      "Running task 3 ...now yielded\n",
      "Running task 3 ...Found : 199, now yielded\n",
      "Running task 3 ...now yielded\n",
      "Running task 3 ...Found : 521, now yielded\n",
      "Running task 3 ...now yielded\n",
      "Running task 3 ...now yielded\n",
      "Running task 3 ...Found : 2207, now yielded\n",
      "Running task 3 ...Found : 3571, now yielded\n",
      "Running task 3 ...now yielded\n",
      "Running task 3 ...Found : 9349, now yielded\n",
      "Running task 3 ...now yielded\n",
      "Running task 3 ...now yielded\n",
      "Running task 3 ...now yielded\n",
      "Running task 3 ...now yielded\n",
      "Running task 3 ...now yielded\n",
      "Running task 3 ...now yielded\n",
      "Running task 3 ...now yielded\n",
      "Running task 3 ...now yielded\n",
      "Running task 3 ...now yielded\n",
      "Running task 3 ...now yielded\n",
      "Running task 3 ...now yielded\n",
      "Running task 3 ...Found : 3010349, now yielded\n",
      "Running task 3 ...now yielded\n",
      "Running task 3 ...now yielded\n",
      "Running task 3 ...now yielded\n",
      "Running task 3 ...now yielded\n",
      "Running task 3 ...now yielded\n",
      "Running task 3 ...Found : 54018521, now yielded\n",
      "Running task 3 ...now yielded\n",
      "Running task 3 ...now yielded\n",
      "Running task 3 ...now yielded\n",
      "Running task 3 ...Found : 370248451, now yielded\n",
      "Running task 3 ...now yielded\n",
      "Running task 3 ...now yielded\n",
      "Running task 3 ...now yielded\n",
      "Running task 3 ...now yielded\n",
      "Running task 3 ...now yielded\n",
      "Running task 3 ...Found : 6643838879, now yielded\n",
      "Running task 3 ...now yielded\n",
      "Running task 3 ...now yielded\n",
      "Running task 3 ...now yielded\n",
      "Running task 3 ...now yielded\n",
      "Running task 3 ...now yielded\n",
      "Running task 3 ...Found : 119218851371, now yielded\n",
      "Running task 3 ...now yielded\n",
      "Running task 3 ...now yielded\n",
      "Running task 3 ...now yielded\n",
      "Running task 3 ...now yielded\n",
      "Running task 3 ...now yielded\n",
      "Running task 3 ...now yielded\n",
      "Running task 3 ...now yielded\n",
      "Running task 3 ...Found : 5600748293801, now yielded\n",
      "Running task 3 ...now yielded\n",
      "Running task 3 ...now yielded\n",
      "Running task 3 ...now yielded\n",
      "Running task 3 ...now yielded\n",
      "Running task 3 ...now yielded\n",
      "Running task 3 ...now yielded\n",
      "Running task 3 ...now yielded\n",
      "Running task 3 ...now yielded\n",
      "Running task 3 ...now yielded\n",
      "Running task 3 ...Found : 688846502588399, now yielded\n",
      "Running task 3 ...now yielded\n",
      "Running task 3 ...now yielded\n",
      "Running task 3 ...now yielded\n",
      "Running task 3 ...now yielded\n",
      "Running task 3 ...now yielded\n",
      "Running task 3 ...now yielded\n",
      "Running task 3 ...now yielded\n",
      "Running task 3 ..."
     ]
    },
    {
     "ename": "KeyboardInterrupt",
     "evalue": "",
     "output_type": "error",
     "traceback": [
      "\u001b[0;31m---------------------------------------------------------------------------\u001b[0m",
      "\u001b[0;31mKeyboardInterrupt\u001b[0m                         Traceback (most recent call last)",
      "\u001b[0;32m<ipython-input-16-a5ff05dd3d73>\u001b[0m in \u001b[0;36m<module>\u001b[0;34m\u001b[0m\n\u001b[1;32m      2\u001b[0m \u001b[0mscheduler\u001b[0m \u001b[0;34m=\u001b[0m \u001b[0mScheduler\u001b[0m\u001b[0;34m(\u001b[0m\u001b[0;34m)\u001b[0m\u001b[0;34m\u001b[0m\u001b[0;34m\u001b[0m\u001b[0m\n\u001b[1;32m      3\u001b[0m \u001b[0mscheduler\u001b[0m\u001b[0;34m.\u001b[0m\u001b[0madd\u001b[0m\u001b[0;34m(\u001b[0m\u001b[0masync_print_matches\u001b[0m\u001b[0;34m(\u001b[0m\u001b[0mlucas\u001b[0m\u001b[0;34m(\u001b[0m\u001b[0;34m)\u001b[0m\u001b[0;34m,\u001b[0m \u001b[0mis_prime\u001b[0m\u001b[0;34m)\u001b[0m\u001b[0;34m)\u001b[0m\u001b[0;34m\u001b[0m\u001b[0;34m\u001b[0m\u001b[0m\n\u001b[0;32m----> 4\u001b[0;31m \u001b[0mscheduler\u001b[0m\u001b[0;34m.\u001b[0m\u001b[0mrun_to_completion\u001b[0m\u001b[0;34m(\u001b[0m\u001b[0;34m)\u001b[0m\u001b[0;34m\u001b[0m\u001b[0;34m\u001b[0m\u001b[0m\n\u001b[0m",
      "\u001b[0;32m<ipython-input-10-ac6eeb1dc0f9>\u001b[0m in \u001b[0;36mrun_to_completion\u001b[0;34m(self)\u001b[0m\n\u001b[1;32m     32\u001b[0m             \u001b[0mprint\u001b[0m\u001b[0;34m(\u001b[0m\u001b[0;34m\"Running task {} ...\"\u001b[0m\u001b[0;34m.\u001b[0m\u001b[0mformat\u001b[0m\u001b[0;34m(\u001b[0m\u001b[0mtask\u001b[0m\u001b[0;34m.\u001b[0m\u001b[0mid\u001b[0m\u001b[0;34m)\u001b[0m\u001b[0;34m,\u001b[0m \u001b[0mend\u001b[0m\u001b[0;34m=\u001b[0m\u001b[0;34m''\u001b[0m\u001b[0;34m)\u001b[0m\u001b[0;34m\u001b[0m\u001b[0;34m\u001b[0m\u001b[0m\n\u001b[1;32m     33\u001b[0m             \u001b[0;32mtry\u001b[0m\u001b[0;34m:\u001b[0m\u001b[0;34m\u001b[0m\u001b[0;34m\u001b[0m\u001b[0m\n\u001b[0;32m---> 34\u001b[0;31m                 \u001b[0myielded\u001b[0m \u001b[0;34m=\u001b[0m \u001b[0mnext\u001b[0m\u001b[0;34m(\u001b[0m\u001b[0mtask\u001b[0m\u001b[0;34m.\u001b[0m\u001b[0mroutine\u001b[0m\u001b[0;34m)\u001b[0m\u001b[0;34m\u001b[0m\u001b[0;34m\u001b[0m\u001b[0m\n\u001b[0m\u001b[1;32m     35\u001b[0m             \u001b[0;32mexcept\u001b[0m \u001b[0mStopIteration\u001b[0m \u001b[0;32mas\u001b[0m \u001b[0mstopped\u001b[0m\u001b[0;34m:\u001b[0m \u001b[0;31m# if stopIteration, we done\u001b[0m\u001b[0;34m\u001b[0m\u001b[0;34m\u001b[0m\u001b[0m\n\u001b[1;32m     36\u001b[0m                 \u001b[0mprint\u001b[0m\u001b[0;34m(\u001b[0m\u001b[0;34m\"completed with result: {!r}\"\u001b[0m\u001b[0;34m.\u001b[0m\u001b[0mformat\u001b[0m\u001b[0;34m(\u001b[0m\u001b[0mstopped\u001b[0m\u001b[0;34m.\u001b[0m\u001b[0mvalue\u001b[0m\u001b[0;34m)\u001b[0m\u001b[0;34m)\u001b[0m\u001b[0;34m\u001b[0m\u001b[0;34m\u001b[0m\u001b[0m\n",
      "\u001b[0;32m<ipython-input-15-6e5ba8ec67d9>\u001b[0m in \u001b[0;36masync_print_matches\u001b[0;34m(iterable, predicate)\u001b[0m\n\u001b[1;32m      1\u001b[0m \u001b[0;32mdef\u001b[0m \u001b[0masync_print_matches\u001b[0m\u001b[0;34m(\u001b[0m\u001b[0miterable\u001b[0m\u001b[0;34m,\u001b[0m \u001b[0mpredicate\u001b[0m\u001b[0;34m)\u001b[0m\u001b[0;34m:\u001b[0m\u001b[0;34m\u001b[0m\u001b[0;34m\u001b[0m\u001b[0m\n\u001b[1;32m      2\u001b[0m     \u001b[0;32mfor\u001b[0m \u001b[0mitem\u001b[0m \u001b[0;32min\u001b[0m \u001b[0miterable\u001b[0m\u001b[0;34m:\u001b[0m\u001b[0;34m\u001b[0m\u001b[0;34m\u001b[0m\u001b[0m\n\u001b[0;32m----> 3\u001b[0;31m         \u001b[0;32mif\u001b[0m \u001b[0mpredicate\u001b[0m\u001b[0;34m(\u001b[0m\u001b[0mitem\u001b[0m\u001b[0;34m)\u001b[0m\u001b[0;34m:\u001b[0m\u001b[0;34m\u001b[0m\u001b[0;34m\u001b[0m\u001b[0m\n\u001b[0m\u001b[1;32m      4\u001b[0m             \u001b[0mprint\u001b[0m\u001b[0;34m(\u001b[0m\u001b[0;34m\"Found :\"\u001b[0m\u001b[0;34m,\u001b[0m \u001b[0mitem\u001b[0m\u001b[0;34m,\u001b[0m \u001b[0mend\u001b[0m\u001b[0;34m=\u001b[0m\u001b[0;34m\", \"\u001b[0m\u001b[0;34m)\u001b[0m\u001b[0;34m\u001b[0m\u001b[0;34m\u001b[0m\u001b[0m\n\u001b[1;32m      5\u001b[0m         \u001b[0;32myield\u001b[0m\u001b[0;34m\u001b[0m\u001b[0;34m\u001b[0m\u001b[0m\n",
      "\u001b[0;32m<ipython-input-14-f411fc4165f1>\u001b[0m in \u001b[0;36mis_prime\u001b[0;34m(x)\u001b[0m\n\u001b[1;32m      4\u001b[0m         \u001b[0;32mreturn\u001b[0m \u001b[0;32mFalse\u001b[0m\u001b[0;34m\u001b[0m\u001b[0;34m\u001b[0m\u001b[0m\n\u001b[1;32m      5\u001b[0m     \u001b[0;32mfor\u001b[0m \u001b[0mi\u001b[0m \u001b[0;32min\u001b[0m \u001b[0mrange\u001b[0m\u001b[0;34m(\u001b[0m\u001b[0;36m2\u001b[0m\u001b[0;34m,\u001b[0m\u001b[0mint\u001b[0m\u001b[0;34m(\u001b[0m\u001b[0msqrt\u001b[0m\u001b[0;34m(\u001b[0m\u001b[0mx\u001b[0m\u001b[0;34m)\u001b[0m\u001b[0;34m)\u001b[0m \u001b[0;34m+\u001b[0m \u001b[0;36m1\u001b[0m\u001b[0;34m)\u001b[0m\u001b[0;34m:\u001b[0m\u001b[0;34m\u001b[0m\u001b[0;34m\u001b[0m\u001b[0m\n\u001b[0;32m----> 6\u001b[0;31m         \u001b[0;32mif\u001b[0m \u001b[0mx\u001b[0m \u001b[0;34m%\u001b[0m \u001b[0mi\u001b[0m \u001b[0;34m==\u001b[0m \u001b[0;36m0\u001b[0m\u001b[0;34m:\u001b[0m\u001b[0;34m\u001b[0m\u001b[0;34m\u001b[0m\u001b[0m\n\u001b[0m\u001b[1;32m      7\u001b[0m             \u001b[0;32mreturn\u001b[0m \u001b[0;32mFalse\u001b[0m\u001b[0;34m\u001b[0m\u001b[0;34m\u001b[0m\u001b[0m\n\u001b[1;32m      8\u001b[0m     \u001b[0;32mreturn\u001b[0m \u001b[0;32mTrue\u001b[0m\u001b[0;34m\u001b[0m\u001b[0;34m\u001b[0m\u001b[0m\n",
      "\u001b[0;31mKeyboardInterrupt\u001b[0m: "
     ]
    }
   ],
   "source": [
    "# this will run infinitely \n",
    "scheduler = Scheduler()\n",
    "scheduler.add(async_print_matches(lucas(), is_prime))\n",
    "scheduler.run_to_completion()"
   ]
  },
  {
   "cell_type": "markdown",
   "metadata": {},
   "source": [
    "### Print a message at intervals     "
   ]
  },
  {
   "cell_type": "code",
   "execution_count": 38,
   "metadata": {},
   "outputs": [],
   "source": [
    "def async_repetitive_message(message, interval_seconds):\n",
    "    while True:\n",
    "        print(message)\n",
    "        start = time.time()\n",
    "        expiry = start + interval_seconds\n",
    "        while True:\n",
    "            yield # all coroutines must be able to yield no matter what\n",
    "            now = time.time()\n",
    "            if now >= expiry: # this could pass infinitely\n",
    "                break\n",
    "            # yield (if int sec is small, we will never yeild here)"
   ]
  },
  {
   "cell_type": "code",
   "execution_count": 39,
   "metadata": {},
   "outputs": [
    {
     "data": {
      "text/plain": [
       "3"
      ]
     },
     "execution_count": 39,
     "metadata": {},
     "output_type": "execute_result"
    }
   ],
   "source": [
    "scheduler = Scheduler()\n",
    "scheduler.add(async_repetitive_message(\"Come get dinner\", 2.5))"
   ]
  },
  {
   "cell_type": "code",
   "execution_count": 40,
   "metadata": {},
   "outputs": [
    {
     "name": "stdout",
     "output_type": "stream",
     "text": [
      "Running task 3 ...Come get dinner\n",
      "now yielded\n",
      "Running task 4 ...Found : 2, now yielded\n",
      "Running task 3 ...now yielded\n",
      "Running task 4 ...now yielded\n",
      "Running task 3 ...now yielded\n",
      "Running task 4 ...Found : 3, now yielded\n",
      "Running task 3 ...now yielded\n",
      "Running task 4 ...now yielded\n",
      "Running task 3 ...now yielded\n",
      "Running task 4 ...Found : 7, now yielded\n",
      "Running task 3 ...now yielded\n",
      "Running task 4 ...Found : 11, now yielded\n",
      "Running task 3 ...now yielded\n",
      "Running task 4 ...now yielded\n",
      "Running task 3 ...now yielded\n",
      "Running task 4 ...Found : 29, now yielded\n",
      "Running task 3 ...now yielded\n",
      "Running task 4 ...Found : 47, now yielded\n",
      "Running task 3 ...now yielded\n",
      "Running task 4 ...now yielded\n",
      "Running task 3 ...now yielded\n",
      "Running task 4 ...now yielded\n",
      "Running task 3 ...now yielded\n",
      "Running task 4 ...Found : 199, now yielded\n",
      "Running task 3 ...now yielded\n",
      "Running task 4 ...now yielded\n",
      "Running task 3 ...now yielded\n",
      "Running task 4 ...Found : 521, now yielded\n",
      "Running task 3 ...now yielded\n",
      "Running task 4 ...now yielded\n",
      "Running task 3 ...now yielded\n",
      "Running task 4 ...now yielded\n",
      "Running task 3 ...now yielded\n",
      "Running task 4 ...Found : 2207, now yielded\n",
      "Running task 3 ...now yielded\n",
      "Running task 4 ...Found : 3571, now yielded\n",
      "Running task 3 ...now yielded\n",
      "Running task 4 ...now yielded\n",
      "Running task 3 ...now yielded\n",
      "Running task 4 ...Found : 9349, now yielded\n",
      "Running task 3 ...now yielded\n",
      "Running task 4 ...now yielded\n",
      "Running task 3 ...now yielded\n",
      "Running task 4 ...now yielded\n",
      "Running task 3 ...now yielded\n",
      "Running task 4 ...now yielded\n",
      "Running task 3 ...now yielded\n",
      "Running task 4 ...now yielded\n",
      "Running task 3 ...now yielded\n",
      "Running task 4 ...now yielded\n",
      "Running task 3 ...now yielded\n",
      "Running task 4 ...now yielded\n",
      "Running task 3 ...now yielded\n",
      "Running task 4 ...now yielded\n",
      "Running task 3 ...now yielded\n",
      "Running task 4 ...now yielded\n",
      "Running task 3 ...now yielded\n",
      "Running task 4 ...now yielded\n",
      "Running task 3 ...now yielded\n",
      "Running task 4 ...now yielded\n",
      "Running task 3 ...now yielded\n",
      "Running task 4 ...now yielded\n",
      "Running task 3 ...now yielded\n",
      "Running task 4 ...Found : 3010349, now yielded\n",
      "Running task 3 ...now yielded\n",
      "Running task 4 ...now yielded\n",
      "Running task 3 ...now yielded\n",
      "Running task 4 ...now yielded\n",
      "Running task 3 ...now yielded\n",
      "Running task 4 ...now yielded\n",
      "Running task 3 ...now yielded\n",
      "Running task 4 ...now yielded\n",
      "Running task 3 ...now yielded\n",
      "Running task 4 ...now yielded\n",
      "Running task 3 ...now yielded\n",
      "Running task 4 ...Found : 54018521, now yielded\n",
      "Running task 3 ...now yielded\n",
      "Running task 4 ...now yielded\n",
      "Running task 3 ...now yielded\n",
      "Running task 4 ...now yielded\n",
      "Running task 3 ...now yielded\n",
      "Running task 4 ...now yielded\n",
      "Running task 3 ...now yielded\n",
      "Running task 4 ...Found : 370248451, now yielded\n",
      "Running task 3 ...now yielded\n",
      "Running task 4 ...now yielded\n",
      "Running task 3 ...now yielded\n",
      "Running task 4 ...now yielded\n",
      "Running task 3 ...now yielded\n",
      "Running task 4 ...now yielded\n",
      "Running task 3 ...now yielded\n",
      "Running task 4 ...now yielded\n",
      "Running task 3 ...now yielded\n",
      "Running task 4 ...now yielded\n",
      "Running task 3 ...now yielded\n",
      "Running task 4 ...Found : 6643838879, now yielded\n",
      "Running task 3 ...now yielded\n",
      "Running task 4 ...now yielded\n",
      "Running task 3 ...now yielded\n",
      "Running task 4 ...now yielded\n",
      "Running task 3 ...now yielded\n",
      "Running task 4 ...now yielded\n",
      "Running task 3 ...now yielded\n",
      "Running task 4 ...now yielded\n",
      "Running task 3 ...now yielded\n",
      "Running task 4 ...now yielded\n",
      "Running task 3 ...now yielded\n",
      "Running task 4 ...Found : 119218851371, now yielded\n",
      "Running task 3 ...now yielded\n",
      "Running task 4 ...now yielded\n",
      "Running task 3 ...now yielded\n",
      "Running task 4 ...now yielded\n",
      "Running task 3 ...now yielded\n",
      "Running task 4 ...now yielded\n",
      "Running task 3 ...now yielded\n",
      "Running task 4 ...now yielded\n",
      "Running task 3 ...now yielded\n",
      "Running task 4 ...now yielded\n",
      "Running task 3 ...now yielded\n",
      "Running task 4 ...now yielded\n",
      "Running task 3 ...now yielded\n",
      "Running task 4 ...now yielded\n",
      "Running task 3 ...now yielded\n",
      "Running task 4 ...Found : 5600748293801, now yielded\n",
      "Running task 3 ...now yielded\n",
      "Running task 4 ...now yielded\n",
      "Running task 3 ...now yielded\n",
      "Running task 4 ...now yielded\n",
      "Running task 3 ...now yielded\n",
      "Running task 4 ...now yielded\n",
      "Running task 3 ...now yielded\n",
      "Running task 4 ...now yielded\n",
      "Running task 3 ...now yielded\n",
      "Running task 4 ...now yielded\n",
      "Running task 3 ...now yielded\n",
      "Running task 4 ...now yielded\n",
      "Running task 3 ...now yielded\n",
      "Running task 4 ...now yielded\n",
      "Running task 3 ...now yielded\n",
      "Running task 4 ...now yielded\n",
      "Running task 3 ...now yielded\n",
      "Running task 4 ...now yielded\n",
      "Running task 3 ...now yielded\n",
      "Running task 4 ...Found : 688846502588399, now yielded\n",
      "Running task 3 ...Come get dinner\n",
      "now yielded\n",
      "Running task 4 ...now yielded\n",
      "Running task 3 ...now yielded\n",
      "Running task 4 ...now yielded\n",
      "Running task 3 ...now yielded\n",
      "Running task 4 ...now yielded\n",
      "Running task 3 ...now yielded\n",
      "Running task 4 ...now yielded\n",
      "Running task 3 ...now yielded\n",
      "Running task 4 ...now yielded\n",
      "Running task 3 ...now yielded\n",
      "Running task 4 ...now yielded\n",
      "Running task 3 ...now yielded\n",
      "Running task 4 ...now yielded\n",
      "Running task 3 ...now yielded\n",
      "Running task 4 ...Found : 32361122672259149, now yielded\n",
      "Running task 3 ...Come get dinner\n",
      "now yielded\n",
      "Running task 4 ...now yielded\n",
      "Running task 3 ...now yielded\n",
      "Running task 4 ...now yielded\n",
      "Running task 3 ...now yielded\n",
      "Running task 4 ...now yielded\n",
      "Running task 3 ...now yielded\n",
      "Running task 4 ...now yielded\n",
      "Running task 3 ...Come get dinner\n",
      "now yielded\n",
      "Running task 4 ...now yielded\n",
      "Running task 3 ...now yielded\n",
      "Running task 4 ...now yielded\n",
      "Running task 3 ...now yielded\n",
      "Running task 4 ...now yielded\n",
      "Running task 3 ...now yielded\n",
      "Running task 4 ...now yielded\n",
      "Running task 3 ...now yielded\n",
      "Running task 4 ...now yielded\n",
      "Running task 3 ...now yielded\n",
      "Running task 4 ...now yielded\n",
      "Running task 3 ...now yielded\n",
      "Running task 4 ...now yielded\n",
      "Running task 3 ...now yielded\n",
      "Running task 4 ...now yielded\n",
      "Running task 3 ...now yielded\n",
      "Running task 4 ...now yielded\n",
      "Running task 3 ...now yielded\n",
      "Running task 4 ...now yielded\n",
      "Running task 3 ...now yielded\n",
      "Running task 4 ...now yielded\n",
      "Running task 3 ...now yielded\n",
      "Running task 4 ...now yielded\n",
      "Running task 3 ...now yielded\n",
      "Running task 4 ...now yielded\n",
      "Running task 3 ...now yielded\n",
      "Running task 4 ...now yielded\n",
      "Running task 3 ...now yielded\n",
      "Running task 4 ...now yielded\n",
      "Running task 3 ...now yielded\n",
      "Running task 4 ...now yielded\n",
      "Running task 3 ...now yielded\n",
      "Running task 4 ...now yielded\n",
      "Running task 3 ...now yielded\n",
      "Running task 4 ...now yielded\n",
      "Running task 3 ...now yielded\n",
      "Running task 4 ...now yielded\n",
      "Running task 3 ...now yielded\n",
      "Running task 4 ...now yielded\n",
      "Running task 3 ...now yielded\n",
      "Running task 4 ...now yielded\n",
      "Running task 3 ...now yielded\n",
      "Running task 4 ...now yielded\n",
      "Running task 3 ...now yielded\n",
      "Running task 4 ...now yielded\n",
      "Running task 3 ...now yielded\n",
      "Running task 4 ...now yielded\n",
      "Running task 3 ...Come get dinner\n",
      "now yielded\n",
      "Running task 4 ...now yielded\n",
      "Running task 3 ...now yielded\n",
      "Running task 4 ...now yielded\n",
      "Running task 3 ...now yielded\n",
      "Running task 4 ...now yielded\n",
      "Running task 3 ...now yielded\n",
      "Running task 4 ...now yielded\n",
      "Running task 3 ...now yielded\n",
      "Running task 4 ...now yielded\n",
      "Running task 3 ...now yielded\n",
      "Running task 4 ..."
     ]
    },
    {
     "ename": "KeyboardInterrupt",
     "evalue": "",
     "output_type": "error",
     "traceback": [
      "\u001b[0;31m---------------------------------------------------------------------------\u001b[0m",
      "\u001b[0;31mKeyboardInterrupt\u001b[0m                         Traceback (most recent call last)",
      "\u001b[0;32m<ipython-input-40-8c5613de1d18>\u001b[0m in \u001b[0;36m<module>\u001b[0;34m\u001b[0m\n\u001b[1;32m      1\u001b[0m \u001b[0mscheduler\u001b[0m\u001b[0;34m.\u001b[0m\u001b[0madd\u001b[0m\u001b[0;34m(\u001b[0m\u001b[0masync_print_matches\u001b[0m\u001b[0;34m(\u001b[0m\u001b[0mlucas\u001b[0m\u001b[0;34m(\u001b[0m\u001b[0;34m)\u001b[0m\u001b[0;34m,\u001b[0m \u001b[0mis_prime\u001b[0m\u001b[0;34m)\u001b[0m\u001b[0;34m)\u001b[0m\u001b[0;34m\u001b[0m\u001b[0;34m\u001b[0m\u001b[0m\n\u001b[0;32m----> 2\u001b[0;31m \u001b[0mscheduler\u001b[0m\u001b[0;34m.\u001b[0m\u001b[0mrun_to_completion\u001b[0m\u001b[0;34m(\u001b[0m\u001b[0;34m)\u001b[0m\u001b[0;34m\u001b[0m\u001b[0;34m\u001b[0m\u001b[0m\n\u001b[0m",
      "\u001b[0;32m<ipython-input-32-ac6eeb1dc0f9>\u001b[0m in \u001b[0;36mrun_to_completion\u001b[0;34m(self)\u001b[0m\n\u001b[1;32m     32\u001b[0m             \u001b[0mprint\u001b[0m\u001b[0;34m(\u001b[0m\u001b[0;34m\"Running task {} ...\"\u001b[0m\u001b[0;34m.\u001b[0m\u001b[0mformat\u001b[0m\u001b[0;34m(\u001b[0m\u001b[0mtask\u001b[0m\u001b[0;34m.\u001b[0m\u001b[0mid\u001b[0m\u001b[0;34m)\u001b[0m\u001b[0;34m,\u001b[0m \u001b[0mend\u001b[0m\u001b[0;34m=\u001b[0m\u001b[0;34m''\u001b[0m\u001b[0;34m)\u001b[0m\u001b[0;34m\u001b[0m\u001b[0;34m\u001b[0m\u001b[0m\n\u001b[1;32m     33\u001b[0m             \u001b[0;32mtry\u001b[0m\u001b[0;34m:\u001b[0m\u001b[0;34m\u001b[0m\u001b[0;34m\u001b[0m\u001b[0m\n\u001b[0;32m---> 34\u001b[0;31m                 \u001b[0myielded\u001b[0m \u001b[0;34m=\u001b[0m \u001b[0mnext\u001b[0m\u001b[0;34m(\u001b[0m\u001b[0mtask\u001b[0m\u001b[0;34m.\u001b[0m\u001b[0mroutine\u001b[0m\u001b[0;34m)\u001b[0m\u001b[0;34m\u001b[0m\u001b[0;34m\u001b[0m\u001b[0m\n\u001b[0m\u001b[1;32m     35\u001b[0m             \u001b[0;32mexcept\u001b[0m \u001b[0mStopIteration\u001b[0m \u001b[0;32mas\u001b[0m \u001b[0mstopped\u001b[0m\u001b[0;34m:\u001b[0m \u001b[0;31m# if stopIteration, we done\u001b[0m\u001b[0;34m\u001b[0m\u001b[0;34m\u001b[0m\u001b[0m\n\u001b[1;32m     36\u001b[0m                 \u001b[0mprint\u001b[0m\u001b[0;34m(\u001b[0m\u001b[0;34m\"completed with result: {!r}\"\u001b[0m\u001b[0;34m.\u001b[0m\u001b[0mformat\u001b[0m\u001b[0;34m(\u001b[0m\u001b[0mstopped\u001b[0m\u001b[0;34m.\u001b[0m\u001b[0mvalue\u001b[0m\u001b[0;34m)\u001b[0m\u001b[0;34m)\u001b[0m\u001b[0;34m\u001b[0m\u001b[0;34m\u001b[0m\u001b[0m\n",
      "\u001b[0;32m<ipython-input-37-6e5ba8ec67d9>\u001b[0m in \u001b[0;36masync_print_matches\u001b[0;34m(iterable, predicate)\u001b[0m\n\u001b[1;32m      1\u001b[0m \u001b[0;32mdef\u001b[0m \u001b[0masync_print_matches\u001b[0m\u001b[0;34m(\u001b[0m\u001b[0miterable\u001b[0m\u001b[0;34m,\u001b[0m \u001b[0mpredicate\u001b[0m\u001b[0;34m)\u001b[0m\u001b[0;34m:\u001b[0m\u001b[0;34m\u001b[0m\u001b[0;34m\u001b[0m\u001b[0m\n\u001b[1;32m      2\u001b[0m     \u001b[0;32mfor\u001b[0m \u001b[0mitem\u001b[0m \u001b[0;32min\u001b[0m \u001b[0miterable\u001b[0m\u001b[0;34m:\u001b[0m\u001b[0;34m\u001b[0m\u001b[0;34m\u001b[0m\u001b[0m\n\u001b[0;32m----> 3\u001b[0;31m         \u001b[0;32mif\u001b[0m \u001b[0mpredicate\u001b[0m\u001b[0;34m(\u001b[0m\u001b[0mitem\u001b[0m\u001b[0;34m)\u001b[0m\u001b[0;34m:\u001b[0m\u001b[0;34m\u001b[0m\u001b[0;34m\u001b[0m\u001b[0m\n\u001b[0m\u001b[1;32m      4\u001b[0m             \u001b[0mprint\u001b[0m\u001b[0;34m(\u001b[0m\u001b[0;34m\"Found :\"\u001b[0m\u001b[0;34m,\u001b[0m \u001b[0mitem\u001b[0m\u001b[0;34m,\u001b[0m \u001b[0mend\u001b[0m\u001b[0;34m=\u001b[0m\u001b[0;34m\", \"\u001b[0m\u001b[0;34m)\u001b[0m\u001b[0;34m\u001b[0m\u001b[0;34m\u001b[0m\u001b[0m\n\u001b[1;32m      5\u001b[0m         \u001b[0;32myield\u001b[0m\u001b[0;34m\u001b[0m\u001b[0;34m\u001b[0m\u001b[0m\n",
      "\u001b[0;32m<ipython-input-36-f411fc4165f1>\u001b[0m in \u001b[0;36mis_prime\u001b[0;34m(x)\u001b[0m\n\u001b[1;32m      4\u001b[0m         \u001b[0;32mreturn\u001b[0m \u001b[0;32mFalse\u001b[0m\u001b[0;34m\u001b[0m\u001b[0;34m\u001b[0m\u001b[0m\n\u001b[1;32m      5\u001b[0m     \u001b[0;32mfor\u001b[0m \u001b[0mi\u001b[0m \u001b[0;32min\u001b[0m \u001b[0mrange\u001b[0m\u001b[0;34m(\u001b[0m\u001b[0;36m2\u001b[0m\u001b[0;34m,\u001b[0m\u001b[0mint\u001b[0m\u001b[0;34m(\u001b[0m\u001b[0msqrt\u001b[0m\u001b[0;34m(\u001b[0m\u001b[0mx\u001b[0m\u001b[0;34m)\u001b[0m\u001b[0;34m)\u001b[0m \u001b[0;34m+\u001b[0m \u001b[0;36m1\u001b[0m\u001b[0;34m)\u001b[0m\u001b[0;34m:\u001b[0m\u001b[0;34m\u001b[0m\u001b[0;34m\u001b[0m\u001b[0m\n\u001b[0;32m----> 6\u001b[0;31m         \u001b[0;32mif\u001b[0m \u001b[0mx\u001b[0m \u001b[0;34m%\u001b[0m \u001b[0mi\u001b[0m \u001b[0;34m==\u001b[0m \u001b[0;36m0\u001b[0m\u001b[0;34m:\u001b[0m\u001b[0;34m\u001b[0m\u001b[0;34m\u001b[0m\u001b[0m\n\u001b[0m\u001b[1;32m      7\u001b[0m             \u001b[0;32mreturn\u001b[0m \u001b[0;32mFalse\u001b[0m\u001b[0;34m\u001b[0m\u001b[0;34m\u001b[0m\u001b[0m\n\u001b[1;32m      8\u001b[0m     \u001b[0;32mreturn\u001b[0m \u001b[0;32mTrue\u001b[0m\u001b[0;34m\u001b[0m\u001b[0;34m\u001b[0m\u001b[0m\n",
      "\u001b[0;31mKeyboardInterrupt\u001b[0m: "
     ]
    }
   ],
   "source": [
    "scheduler.add(async_print_matches(lucas(), is_prime))\n",
    "scheduler.run_to_completion()"
   ]
  },
  {
   "cell_type": "markdown",
   "metadata": {},
   "source": [
    "### What's Wrong Here?\n",
    "- We need to be very careful to make sure that a coroutine returns results right away or yeilds control\n",
    "    - Everything you call from a coroutine should be non-blocking \n",
    "        - If we don't yield control, we will hang the system \n",
    "- Here, ```is_prime``` blocks the program from yielding control to the ```async_repetetive_message``` function"
   ]
  },
  {
   "cell_type": "code",
   "execution_count": 44,
   "metadata": {},
   "outputs": [],
   "source": [
    "# rewrite is_prime to be asynchronous, ie. generator    \n",
    "def async_is_prime(x):\n",
    "    if x < 2: \n",
    "        return False\n",
    "    for i in range(2, int(sqrt(x))+1):\n",
    "        if x % i == 0:\n",
    "            return False\n",
    "        yield\n",
    "    return True"
   ]
  },
  {
   "cell_type": "markdown",
   "metadata": {},
   "source": [
    "- Since it is now a generator, we don't just call ```is_prime```, we have to iterate it "
   ]
  },
  {
   "cell_type": "code",
   "execution_count": 45,
   "metadata": {},
   "outputs": [],
   "source": [
    "# rewrite print matches to work with generator \n",
    "def async_print_matches(iterable, async_predicate):\n",
    "    for item in iterable:\n",
    "        # yield from allows us to call generator from within generator\n",
    "        matches = yield from async_predicate(item) \n",
    "        if matches:\n",
    "            print(\"Found :\", item)\n",
    "        # yield (bare yield)"
   ]
  },
  {
   "cell_type": "markdown",
   "metadata": {},
   "source": [
    "- We allow the predicate function to make progress and yield control by invoking it with the ```yield from``` syntax\n",
    "- We don't need the final yield since we yield control in ```print_matches``` and in the new ```is_prime``` function "
   ]
  },
  {
   "cell_type": "markdown",
   "metadata": {},
   "source": [
    "### It is critical that nothing blocks the call stack\n",
    "- We have now demonstrated that:\n",
    "    - Coroutines are contagious to callees\n",
    "    - Coroutines are contagious to callers\n",
    "- This means that asyncronous design requires a fairly robust asynchronous system\n",
    "    - We can't just make one part asynchronous"
   ]
  },
  {
   "cell_type": "markdown",
   "metadata": {},
   "source": [
    "### We can extract coroutines to refactor our code"
   ]
  },
  {
   "cell_type": "code",
   "execution_count": 49,
   "metadata": {},
   "outputs": [],
   "source": [
    "def async_repetitive_message(message, interval_seconds):\n",
    "    while True:\n",
    "        print(message)\n",
    "        yield from async_sleep(interval_seconds)\n",
    "\n",
    "def async_sleep(interval_seconds):\n",
    "    start = time.time()\n",
    "    expiry = start + interval_seconds\n",
    "    while True:\n",
    "        yield\n",
    "        now = time.time()\n",
    "        if now >= expiry:\n",
    "            break"
   ]
  },
  {
   "cell_type": "markdown",
   "metadata": {},
   "source": [
    "### Okay, but why? \n",
    "- ```async_sleep``` has two critical properties for our system: \n",
    "    - ```async_sleep``` yields at least once \n",
    "    - ```async_sleep(0)``` yields exactly once\n",
    "- Now all bare yields can be replaced with ```yield from async_sleep(0)``` \n",
    "\n",
    "Let's apply this change: "
   ]
  },
  {
   "cell_type": "code",
   "execution_count": 47,
   "metadata": {},
   "outputs": [],
   "source": [
    "def async_is_prime(x):\n",
    "    if x < 2: \n",
    "        return False\n",
    "    for i in range(2, int(sqrt(x))+1):\n",
    "        if x % i == 0:\n",
    "            return False\n",
    "        yield from async_sleep(0)\n",
    "    return True\n",
    "\n",
    "def async_search(iterable, predicate):\n",
    "    for item in iterable: \n",
    "        if predicate(item):\n",
    "            return item\n",
    "        yield from async_sleep(0)\n",
    "    raise ValueError(\"Not Found\")\n",
    "    \n",
    "def async_print_matches(iterable, async_predicate):\n",
    "    for item in iterable:\n",
    "        matches = yield from async_predicate(item) \n",
    "        if matches:\n",
    "            print(\"Found :\", item)"
   ]
  },
  {
   "cell_type": "code",
   "execution_count": 52,
   "metadata": {},
   "outputs": [
    {
     "name": "stdout",
     "output_type": "stream",
     "text": [
      "Come Get Dinner Fam!\n",
      "Found : 2\n",
      "Found : 3\n",
      "Found : 7\n",
      "Found : 11\n",
      "Found : 29\n",
      "Found : 47\n",
      "Found : 199\n",
      "Found : 521\n",
      "Found : 2207\n",
      "Found : 3571\n",
      "Found : 9349\n",
      "Found : 3010349\n",
      "Found : 54018521\n",
      "Found : 370248451\n",
      "Found : 6643838879\n",
      "Found : 119218851371\n",
      "Come Get Dinner Fam!\n",
      "Found : 5600748293801\n",
      "Come Get Dinner Fam!\n",
      "Come Get Dinner Fam!\n",
      "Come Get Dinner Fam!\n",
      "Come Get Dinner Fam!\n",
      "Come Get Dinner Fam!\n",
      "Come Get Dinner Fam!\n"
     ]
    },
    {
     "ename": "KeyboardInterrupt",
     "evalue": "",
     "output_type": "error",
     "traceback": [
      "\u001b[0;31m---------------------------------------------------------------------------\u001b[0m",
      "\u001b[0;31mKeyboardInterrupt\u001b[0m                         Traceback (most recent call last)",
      "\u001b[0;32m<ipython-input-52-12e6f8fd0a8a>\u001b[0m in \u001b[0;36m<module>\u001b[0;34m\u001b[0m\n\u001b[1;32m      2\u001b[0m \u001b[0mscheduler\u001b[0m\u001b[0;34m.\u001b[0m\u001b[0madd\u001b[0m\u001b[0;34m(\u001b[0m\u001b[0masync_repetitive_message\u001b[0m\u001b[0;34m(\u001b[0m\u001b[0;34m\"Come Get Dinner Fam!\"\u001b[0m\u001b[0;34m,\u001b[0m \u001b[0;36m2.5\u001b[0m\u001b[0;34m)\u001b[0m\u001b[0;34m)\u001b[0m\u001b[0;34m\u001b[0m\u001b[0;34m\u001b[0m\u001b[0m\n\u001b[1;32m      3\u001b[0m \u001b[0mscheduler\u001b[0m\u001b[0;34m.\u001b[0m\u001b[0madd\u001b[0m\u001b[0;34m(\u001b[0m\u001b[0masync_print_matches\u001b[0m\u001b[0;34m(\u001b[0m\u001b[0mlucas\u001b[0m\u001b[0;34m(\u001b[0m\u001b[0;34m)\u001b[0m\u001b[0;34m,\u001b[0m \u001b[0masync_is_prime\u001b[0m\u001b[0;34m)\u001b[0m\u001b[0;34m)\u001b[0m\u001b[0;34m\u001b[0m\u001b[0;34m\u001b[0m\u001b[0m\n\u001b[0;32m----> 4\u001b[0;31m \u001b[0mscheduler\u001b[0m\u001b[0;34m.\u001b[0m\u001b[0mrun_to_completion\u001b[0m\u001b[0;34m(\u001b[0m\u001b[0;34m)\u001b[0m\u001b[0;34m\u001b[0m\u001b[0;34m\u001b[0m\u001b[0m\n\u001b[0m",
      "\u001b[0;32m<ipython-input-51-1527abbecc9e>\u001b[0m in \u001b[0;36mrun_to_completion\u001b[0;34m(self)\u001b[0m\n\u001b[1;32m     29\u001b[0m         \u001b[0;31m# run while the queue has stuff in it\u001b[0m\u001b[0;34m\u001b[0m\u001b[0;34m\u001b[0m\u001b[0;34m\u001b[0m\u001b[0m\n\u001b[1;32m     30\u001b[0m         \u001b[0;32mwhile\u001b[0m \u001b[0mlen\u001b[0m\u001b[0;34m(\u001b[0m\u001b[0mself\u001b[0m\u001b[0;34m.\u001b[0m\u001b[0mrunnable_tasks\u001b[0m\u001b[0;34m)\u001b[0m \u001b[0;34m!=\u001b[0m \u001b[0;36m0\u001b[0m\u001b[0;34m:\u001b[0m\u001b[0;34m\u001b[0m\u001b[0;34m\u001b[0m\u001b[0m\n\u001b[0;32m---> 31\u001b[0;31m             \u001b[0mtask\u001b[0m \u001b[0;34m=\u001b[0m \u001b[0mself\u001b[0m\u001b[0;34m.\u001b[0m\u001b[0mrunnable_tasks\u001b[0m\u001b[0;34m.\u001b[0m\u001b[0mpopleft\u001b[0m\u001b[0;34m(\u001b[0m\u001b[0;34m)\u001b[0m \u001b[0;31m# pop off next task\u001b[0m\u001b[0;34m\u001b[0m\u001b[0;34m\u001b[0m\u001b[0m\n\u001b[0m\u001b[1;32m     32\u001b[0m             \u001b[0;31m#print(\"Running task {} ...\".format(task.id), end='')\u001b[0m\u001b[0;34m\u001b[0m\u001b[0;34m\u001b[0m\u001b[0;34m\u001b[0m\u001b[0m\n\u001b[1;32m     33\u001b[0m             \u001b[0;32mtry\u001b[0m\u001b[0;34m:\u001b[0m\u001b[0;34m\u001b[0m\u001b[0;34m\u001b[0m\u001b[0m\n",
      "\u001b[0;31mKeyboardInterrupt\u001b[0m: "
     ]
    }
   ],
   "source": [
    "scheduler = Scheduler()\n",
    "scheduler.add(async_repetitive_message(\"Come Get Dinner Fam!\", 2.5))\n",
    "scheduler.add(async_print_matches(lucas(), async_is_prime))\n",
    "scheduler.run_to_completion()"
   ]
  },
  {
   "cell_type": "markdown",
   "metadata": {},
   "source": [
    "### We've basically implemented a simple asyncio of our own\n",
    "- Now we can look at our code rewritten in asyncIO (it's very similar)\n",
    "    - All coroutines declared as ```async def foo()```\n",
    "    - We use ```asyncio.sleep(time)``` instead of our own sleep function\n",
    "    - Any instance of ```yield from foo``` is now ```await foo``` "
   ]
  },
  {
   "cell_type": "code",
   "execution_count": 59,
   "metadata": {},
   "outputs": [],
   "source": [
    "import asyncio\n",
    "\n",
    "async def is_prime(x):\n",
    "    if x < 2: \n",
    "        return False\n",
    "    for i in range(2, int(sqrt(x)) + 1):\n",
    "        if x % 1 == 0:\n",
    "            return False\n",
    "        await asyncio.sleep(0)\n",
    "    return True\n",
    "\n",
    "async def search(iterable, async_predicate):\n",
    "    for item in iterable:\n",
    "        if await async_predicate(item):\n",
    "            return item\n",
    "    raise ValueError(\"Not Found\")\n",
    "\n",
    "async def print_matches(iterable, async_predicate):\n",
    "    for item in iterable:\n",
    "        matches = await async_predicate(item)\n",
    "        if matches:\n",
    "            print(\"Found: \", item)\n",
    "\n",
    "async def repetitive_message(message, interval_seconds):            \n",
    "    while True:\n",
    "        print(message)\n",
    "        await asyncio.sleep(interval_seconds)"
   ]
  },
  {
   "cell_type": "code",
   "execution_count": 60,
   "metadata": {},
   "outputs": [
    {
     "name": "stderr",
     "output_type": "stream",
     "text": [
      "Task exception was never retrieved\n",
      "future: <Task finished coro=<print_matches() done, defined at <ipython-input-59-e407444998b7>:18> exception=OverflowError('int too large to convert to float',)>\n",
      "Traceback (most recent call last):\n",
      "  File \"<ipython-input-59-e407444998b7>\", line 20, in print_matches\n",
      "    matches = await async_predicate(item)\n",
      "  File \"<ipython-input-59-e407444998b7>\", line 6, in is_prime\n",
      "    for i in range(2, int(sqrt(x)) + 1):\n",
      "OverflowError: int too large to convert to float\n"
     ]
    },
    {
     "name": "stdout",
     "output_type": "stream",
     "text": [
      "Come Get Dinner Fam!!\n",
      "Found:  2\n",
      "Found:  3\n",
      "Come Get Dinner Fam!!\n",
      "Come Get Dinner Fam!!\n",
      "Come Get Dinner Fam!!\n",
      "Come Get Dinner Fam!!\n",
      "Come Get Dinner Fam!!\n",
      "Come Get Dinner Fam!!\n",
      "Come Get Dinner Fam!!\n",
      "Come Get Dinner Fam!!\n",
      "Come Get Dinner Fam!!\n",
      "Come Get Dinner Fam!!\n",
      "Come Get Dinner Fam!!\n",
      "Come Get Dinner Fam!!\n",
      "Come Get Dinner Fam!!\n"
     ]
    },
    {
     "ename": "KeyboardInterrupt",
     "evalue": "",
     "output_type": "error",
     "traceback": [
      "\u001b[0;31m---------------------------------------------------------------------------\u001b[0m",
      "\u001b[0;31mKeyboardInterrupt\u001b[0m                         Traceback (most recent call last)",
      "\u001b[0;32m<ipython-input-60-271dd2f427a4>\u001b[0m in \u001b[0;36m<module>\u001b[0;34m\u001b[0m\n\u001b[1;32m      2\u001b[0m \u001b[0mscheduler\u001b[0m\u001b[0;34m.\u001b[0m\u001b[0mcreate_task\u001b[0m\u001b[0;34m(\u001b[0m\u001b[0mrepetitive_message\u001b[0m\u001b[0;34m(\u001b[0m\u001b[0;34m\"Come Get Dinner Fam!!\"\u001b[0m\u001b[0;34m,\u001b[0m \u001b[0;36m2.5\u001b[0m\u001b[0;34m)\u001b[0m\u001b[0;34m)\u001b[0m\u001b[0;34m\u001b[0m\u001b[0;34m\u001b[0m\u001b[0m\n\u001b[1;32m      3\u001b[0m \u001b[0mscheduler\u001b[0m\u001b[0;34m.\u001b[0m\u001b[0mcreate_task\u001b[0m\u001b[0;34m(\u001b[0m\u001b[0mprint_matches\u001b[0m\u001b[0;34m(\u001b[0m\u001b[0mlucas\u001b[0m\u001b[0;34m(\u001b[0m\u001b[0;34m)\u001b[0m\u001b[0;34m,\u001b[0m \u001b[0mis_prime\u001b[0m\u001b[0;34m)\u001b[0m\u001b[0;34m)\u001b[0m\u001b[0;34m\u001b[0m\u001b[0;34m\u001b[0m\u001b[0m\n\u001b[0;32m----> 4\u001b[0;31m \u001b[0mscheduler\u001b[0m\u001b[0;34m.\u001b[0m\u001b[0mrun_forever\u001b[0m\u001b[0;34m(\u001b[0m\u001b[0;34m)\u001b[0m\u001b[0;34m\u001b[0m\u001b[0;34m\u001b[0m\u001b[0m\n\u001b[0m",
      "\u001b[0;32m~/anaconda3/envs/swepy_env/lib/python3.6/asyncio/base_events.py\u001b[0m in \u001b[0;36mrun_forever\u001b[0;34m(self)\u001b[0m\n\u001b[1;32m    425\u001b[0m             \u001b[0mevents\u001b[0m\u001b[0;34m.\u001b[0m\u001b[0m_set_running_loop\u001b[0m\u001b[0;34m(\u001b[0m\u001b[0mself\u001b[0m\u001b[0;34m)\u001b[0m\u001b[0;34m\u001b[0m\u001b[0;34m\u001b[0m\u001b[0m\n\u001b[1;32m    426\u001b[0m             \u001b[0;32mwhile\u001b[0m \u001b[0;32mTrue\u001b[0m\u001b[0;34m:\u001b[0m\u001b[0;34m\u001b[0m\u001b[0;34m\u001b[0m\u001b[0m\n\u001b[0;32m--> 427\u001b[0;31m                 \u001b[0mself\u001b[0m\u001b[0;34m.\u001b[0m\u001b[0m_run_once\u001b[0m\u001b[0;34m(\u001b[0m\u001b[0;34m)\u001b[0m\u001b[0;34m\u001b[0m\u001b[0;34m\u001b[0m\u001b[0m\n\u001b[0m\u001b[1;32m    428\u001b[0m                 \u001b[0;32mif\u001b[0m \u001b[0mself\u001b[0m\u001b[0;34m.\u001b[0m\u001b[0m_stopping\u001b[0m\u001b[0;34m:\u001b[0m\u001b[0;34m\u001b[0m\u001b[0;34m\u001b[0m\u001b[0m\n\u001b[1;32m    429\u001b[0m                     \u001b[0;32mbreak\u001b[0m\u001b[0;34m\u001b[0m\u001b[0;34m\u001b[0m\u001b[0m\n",
      "\u001b[0;32m~/anaconda3/envs/swepy_env/lib/python3.6/asyncio/base_events.py\u001b[0m in \u001b[0;36m_run_once\u001b[0;34m(self)\u001b[0m\n\u001b[1;32m   1402\u001b[0m                            timeout * 1e3, dt * 1e3)\n\u001b[1;32m   1403\u001b[0m         \u001b[0;32melse\u001b[0m\u001b[0;34m:\u001b[0m\u001b[0;34m\u001b[0m\u001b[0;34m\u001b[0m\u001b[0m\n\u001b[0;32m-> 1404\u001b[0;31m             \u001b[0mevent_list\u001b[0m \u001b[0;34m=\u001b[0m \u001b[0mself\u001b[0m\u001b[0;34m.\u001b[0m\u001b[0m_selector\u001b[0m\u001b[0;34m.\u001b[0m\u001b[0mselect\u001b[0m\u001b[0;34m(\u001b[0m\u001b[0mtimeout\u001b[0m\u001b[0;34m)\u001b[0m\u001b[0;34m\u001b[0m\u001b[0;34m\u001b[0m\u001b[0m\n\u001b[0m\u001b[1;32m   1405\u001b[0m         \u001b[0mself\u001b[0m\u001b[0;34m.\u001b[0m\u001b[0m_process_events\u001b[0m\u001b[0;34m(\u001b[0m\u001b[0mevent_list\u001b[0m\u001b[0;34m)\u001b[0m\u001b[0;34m\u001b[0m\u001b[0;34m\u001b[0m\u001b[0m\n\u001b[1;32m   1406\u001b[0m \u001b[0;34m\u001b[0m\u001b[0m\n",
      "\u001b[0;32m~/anaconda3/envs/swepy_env/lib/python3.6/selectors.py\u001b[0m in \u001b[0;36mselect\u001b[0;34m(self, timeout)\u001b[0m\n\u001b[1;32m    575\u001b[0m             \u001b[0mready\u001b[0m \u001b[0;34m=\u001b[0m \u001b[0;34m[\u001b[0m\u001b[0;34m]\u001b[0m\u001b[0;34m\u001b[0m\u001b[0;34m\u001b[0m\u001b[0m\n\u001b[1;32m    576\u001b[0m             \u001b[0;32mtry\u001b[0m\u001b[0;34m:\u001b[0m\u001b[0;34m\u001b[0m\u001b[0;34m\u001b[0m\u001b[0m\n\u001b[0;32m--> 577\u001b[0;31m                 \u001b[0mkev_list\u001b[0m \u001b[0;34m=\u001b[0m \u001b[0mself\u001b[0m\u001b[0;34m.\u001b[0m\u001b[0m_kqueue\u001b[0m\u001b[0;34m.\u001b[0m\u001b[0mcontrol\u001b[0m\u001b[0;34m(\u001b[0m\u001b[0;32mNone\u001b[0m\u001b[0;34m,\u001b[0m \u001b[0mmax_ev\u001b[0m\u001b[0;34m,\u001b[0m \u001b[0mtimeout\u001b[0m\u001b[0;34m)\u001b[0m\u001b[0;34m\u001b[0m\u001b[0;34m\u001b[0m\u001b[0m\n\u001b[0m\u001b[1;32m    578\u001b[0m             \u001b[0;32mexcept\u001b[0m \u001b[0mInterruptedError\u001b[0m\u001b[0;34m:\u001b[0m\u001b[0;34m\u001b[0m\u001b[0;34m\u001b[0m\u001b[0m\n\u001b[1;32m    579\u001b[0m                 \u001b[0;32mreturn\u001b[0m \u001b[0mready\u001b[0m\u001b[0;34m\u001b[0m\u001b[0;34m\u001b[0m\u001b[0m\n",
      "\u001b[0;31mKeyboardInterrupt\u001b[0m: "
     ]
    }
   ],
   "source": [
    "scheduler = asyncio.get_event_loop()\n",
    "scheduler.create_task(repetitive_message(\"Come Get Dinner Fam!!\", 2.5))\n",
    "scheduler.create_task(print_matches(lucas(), is_prime))\n",
    "scheduler.run_forever()"
   ]
  },
  {
   "cell_type": "markdown",
   "metadata": {},
   "source": [
    "### So what makes asyncio special?\n",
    "- Coroutines implement tasks \n",
    "- Coroutines await other coroutines \n",
    "- Event-loop schedules other coroutines \n",
    "- Tasks must not block\n",
    "- Awaiting facilitates context switches \n",
    "- To yield control without needing a result: ```await asyncio.sleep(0)```"
   ]
  }
 ],
 "metadata": {
  "kernelspec": {
   "display_name": "Python 3",
   "language": "python",
   "name": "python3"
  },
  "language_info": {
   "codemirror_mode": {
    "name": "ipython",
    "version": 3
   },
   "file_extension": ".py",
   "mimetype": "text/x-python",
   "name": "python",
   "nbconvert_exporter": "python",
   "pygments_lexer": "ipython3",
   "version": "3.6.7"
  }
 },
 "nbformat": 4,
 "nbformat_minor": 2
}
