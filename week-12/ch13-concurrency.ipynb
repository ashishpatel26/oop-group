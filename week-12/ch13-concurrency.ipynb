{
 "cells": [
  {
   "cell_type": "markdown",
   "metadata": {
    "slideshow": {
     "slide_type": "slide"
    }
   },
   "source": [
    "# Chapter 13: Concurrency 🚀\n",
    "\n",
    "- Threads\n",
    "- Multiprocessing\n",
    "- Futures \n",
    "- AsyncIO\n",
    "\n",
    "**By Will Norris**"
   ]
  },
  {
   "cell_type": "markdown",
   "metadata": {
    "slideshow": {
     "slide_type": "slide"
    }
   },
   "source": [
    "## Sequential Programming: \n",
    "- Sequential programming model is intuitive and natural\n",
    "    - Do things **one step at a time** (The way humans think)\n",
    "- In programming languages: \n",
    "    - Each of these real-world actions is an abstraction for a sequence of finer-grained actions\n",
    "    - Flow: ```Open the cupboard, select a tea, check water level in kettle, if low: add more, boil water, pour water in cup, wait for tea...``` \n",
    "- **But**, what we do while the water is boiling is up to us\n",
    "    - Do we simply wait? \n",
    "    - Or, do we do other tasks such as starting our toast or fetching the newspaper (asynchronous tasks)\n",
    "        - The whole time aware that we are waiting for our water to boil!\n",
    "- Tea kettle makers know people tend to operate asynchronously, so they add a warning for when your tea is done, to remind you to come back to the task at hand. \n",
    "    - Finding the right balance of sequentiality and asynchrony is a characteristic of efficient people, **the same is true of efficient programs**"
   ]
  },
  {
   "cell_type": "markdown",
   "metadata": {
    "slideshow": {
     "slide_type": "slide"
    }
   },
   "source": [
    "### Why Concurrency? \n",
    "- At some point it is not cost efficient to buy a faster machine (**scaling vertically**)\n",
    "- Instead of scaling computation up, we can go out (**scaling horizontally**)\n",
    "    - Allows us to use cheap hardware, and accomplish pieces of computation across a set of threads/processors/nodes \n",
    "- In modern computing, we can divide the problem entirely across nodes (processors) \n",
    "    - In legacy computing, we could take advantage of \"switching\", which means rapidly swapping between threads on a single process to accompish multiple things \"at once\" (time sharing systems) \n",
    "    "
   ]
  },
  {
   "cell_type": "markdown",
   "metadata": {
    "slideshow": {
     "slide_type": "slide"
    }
   },
   "source": [
    "## Multiple Processes: \n",
    "__Motivating Factors:__\n",
    "- **Resource Utilizaton:** \n",
    "    - Programs are always waiting for external operations (File I/O), and can't do anything while they wait. Let's use that time!\n",
    "- **Fairness:**\n",
    "    - Multiple users and programs may have equal claim on the machine's resources. We want to let them share \"slices\" of time rather than give one before the other \n",
    "- **Convenience:**\n",
    "    - It is easier to write several programs that each perform a single task and have them coordinate with each other when needed than to write one big program. "
   ]
  },
  {
   "cell_type": "markdown",
   "metadata": {
    "slideshow": {
     "slide_type": "slide"
    }
   },
   "source": [
    "## Threads: \n",
    "- Threads allow multiple streams of program control flow to coexist within a process. \n",
    "- They share process-wide resources (memory, file handles) \n",
    "    - But, each thread has its own program counter, stack, and local variables \n",
    "- Threads provide a natural decomposition for exploiting hardware parallelism when we have multiple processors\n",
    "    -  multiple threads within the same program can be scheduled simultaneously on multi CPU's\n",
    "- Most modern OS's treat threads as **lightweight processses** and use them (not processes) as the basic unit of scheduling"
   ]
  },
  {
   "cell_type": "markdown",
   "metadata": {
    "slideshow": {
     "slide_type": "subslide"
    }
   },
   "source": [
    "![](https://imgur.com/5mte34P.png)"
   ]
  },
  {
   "cell_type": "code",
   "execution_count": 17,
   "metadata": {
    "slideshow": {
     "slide_type": "slide"
    }
   },
   "outputs": [],
   "source": [
    "from threading import Thread\n",
    "\n",
    "class InputReader(Thread):\n",
    "    def run(self):\n",
    "        self.line_of_text = input()"
   ]
  },
  {
   "cell_type": "code",
   "execution_count": 19,
   "metadata": {
    "slideshow": {
     "slide_type": "subslide"
    }
   },
   "outputs": [
    {
     "name": "stdout",
     "output_type": "stream",
     "text": [
      "Enter any text and press enter: \n",
      "will is cool\n",
      "calculated squares up to 4552405 * 4552405 = 20724382179216\n",
      "while you typed 'will is cool'\n"
     ]
    }
   ],
   "source": [
    "print(\"Enter any text and press enter: \")\n",
    "thread = InputReader()\n",
    "thread.start()\n",
    "\n",
    "count = result = 1\n",
    "while thread.is_alive():\n",
    "    result = count * count \n",
    "    count += 1\n",
    "\n",
    "print(\"calculated squares up to {0} * {0} = {1}\".format(\n",
    "    count, result))\n",
    "print(\"while you typed '{}'\".format(thread.line_of_text))"
   ]
  },
  {
   "cell_type": "code",
   "execution_count": 15,
   "metadata": {
    "slideshow": {
     "slide_type": "slide"
    }
   },
   "outputs": [
    {
     "name": "stderr",
     "output_type": "stream",
     "text": [
      "Exception in thread Thread-59:\n",
      "Traceback (most recent call last):\n",
      "  File \"/Users/williamnorris/anaconda3/envs/swepy_env/lib/python3.6/threading.py\", line 916, in _bootstrap_inner\n",
      "    self.run()\n",
      "  File \"<ipython-input-15-a9182ff96420>\", line 17, in run\n",
      "    response = urlopen(url_template.format(self.city))\n",
      "  File \"/Users/williamnorris/anaconda3/envs/swepy_env/lib/python3.6/urllib/request.py\", line 223, in urlopen\n",
      "    return opener.open(url, data, timeout)\n",
      "  File \"/Users/williamnorris/anaconda3/envs/swepy_env/lib/python3.6/urllib/request.py\", line 532, in open\n",
      "    response = meth(req, response)\n",
      "  File \"/Users/williamnorris/anaconda3/envs/swepy_env/lib/python3.6/urllib/request.py\", line 642, in http_response\n",
      "    'http', request, response, code, msg, hdrs)\n",
      "  File \"/Users/williamnorris/anaconda3/envs/swepy_env/lib/python3.6/urllib/request.py\", line 570, in error\n",
      "    return self._call_chain(*args)\n",
      "  File \"/Users/williamnorris/anaconda3/envs/swepy_env/lib/python3.6/urllib/request.py\", line 504, in _call_chain\n",
      "    result = func(*args)\n",
      "  File \"/Users/williamnorris/anaconda3/envs/swepy_env/lib/python3.6/urllib/request.py\", line 650, in http_error_default\n",
      "    raise HTTPError(req.full_url, code, msg, hdrs, fp)\n",
      "urllib.error.HTTPError: HTTP Error 401: Unauthorized\n",
      "Exception in thread Thread-60:\n",
      "Traceback (most recent call last):\n",
      "  File \"/Users/williamnorris/anaconda3/envs/swepy_env/lib/python3.6/threading.py\", line 916, in _bootstrap_inner\n",
      "    self.run()\n",
      "  File \"<ipython-input-15-a9182ff96420>\", line 17, in run\n",
      "    response = urlopen(url_template.format(self.city))\n",
      "  File \"/Users/williamnorris/anaconda3/envs/swepy_env/lib/python3.6/urllib/request.py\", line 223, in urlopen\n",
      "    return opener.open(url, data, timeout)\n",
      "  File \"/Users/williamnorris/anaconda3/envs/swepy_env/lib/python3.6/urllib/request.py\", line 532, in open\n",
      "    response = meth(req, response)\n",
      "  File \"/Users/williamnorris/anaconda3/envs/swepy_env/lib/python3.6/urllib/request.py\", line 642, in http_response\n",
      "    'http', request, response, code, msg, hdrs)\n",
      "  File \"/Users/williamnorris/anaconda3/envs/swepy_env/lib/python3.6/urllib/request.py\", line 570, in error\n",
      "    return self._call_chain(*args)\n",
      "  File \"/Users/williamnorris/anaconda3/envs/swepy_env/lib/python3.6/urllib/request.py\", line 504, in _call_chain\n",
      "    result = func(*args)\n",
      "  File \"/Users/williamnorris/anaconda3/envs/swepy_env/lib/python3.6/urllib/request.py\", line 650, in http_error_default\n",
      "    raise HTTPError(req.full_url, code, msg, hdrs, fp)\n",
      "urllib.error.HTTPError: HTTP Error 401: Unauthorized\n",
      "\n",
      "\n",
      "Exception in thread Thread-61:\n",
      "Traceback (most recent call last):\n",
      "  File \"/Users/williamnorris/anaconda3/envs/swepy_env/lib/python3.6/threading.py\", line 916, in _bootstrap_inner\n",
      "    self.run()\n",
      "  File \"<ipython-input-15-a9182ff96420>\", line 17, in run\n",
      "    response = urlopen(url_template.format(self.city))\n",
      "  File \"/Users/williamnorris/anaconda3/envs/swepy_env/lib/python3.6/urllib/request.py\", line 223, in urlopen\n",
      "    return opener.open(url, data, timeout)\n",
      "  File \"/Users/williamnorris/anaconda3/envs/swepy_env/lib/python3.6/urllib/request.py\", line 532, in open\n",
      "    response = meth(req, response)\n",
      "  File \"/Users/williamnorris/anaconda3/envs/swepy_env/lib/python3.6/urllib/request.py\", line 642, in http_response\n",
      "    'http', request, response, code, msg, hdrs)\n",
      "  File \"/Users/williamnorris/anaconda3/envs/swepy_env/lib/python3.6/urllib/request.py\", line 570, in error\n",
      "    return self._call_chain(*args)\n",
      "  File \"/Users/williamnorris/anaconda3/envs/swepy_env/lib/python3.6/urllib/request.py\", line 504, in _call_chain\n",
      "    result = func(*args)\n",
      "  File \"/Users/williamnorris/anaconda3/envs/swepy_env/lib/python3.6/urllib/request.py\", line 650, in http_error_default\n",
      "    raise HTTPError(req.full_url, code, msg, hdrs, fp)\n",
      "urllib.error.HTTPError: HTTP Error 401: Unauthorized\n",
      "\n",
      "Exception in thread Thread-68:\n",
      "Traceback (most recent call last):\n",
      "  File \"/Users/williamnorris/anaconda3/envs/swepy_env/lib/python3.6/threading.py\", line 916, in _bootstrap_inner\n",
      "    self.run()\n",
      "  File \"<ipython-input-15-a9182ff96420>\", line 17, in run\n",
      "    response = urlopen(url_template.format(self.city))\n",
      "  File \"/Users/williamnorris/anaconda3/envs/swepy_env/lib/python3.6/urllib/request.py\", line 223, in urlopen\n",
      "    return opener.open(url, data, timeout)\n",
      "  File \"/Users/williamnorris/anaconda3/envs/swepy_env/lib/python3.6/urllib/request.py\", line 532, in open\n",
      "    response = meth(req, response)\n",
      "  File \"/Users/williamnorris/anaconda3/envs/swepy_env/lib/python3.6/urllib/request.py\", line 642, in http_response\n",
      "    'http', request, response, code, msg, hdrs)\n",
      "  File \"/Users/williamnorris/anaconda3/envs/swepy_env/lib/python3.6/urllib/request.py\", line 570, in error\n",
      "    return self._call_chain(*args)\n",
      "  File \"/Users/williamnorris/anaconda3/envs/swepy_env/lib/python3.6/urllib/request.py\", line 504, in _call_chain\n",
      "    result = func(*args)\n",
      "  File \"/Users/williamnorris/anaconda3/envs/swepy_env/lib/python3.6/urllib/request.py\", line 650, in http_error_default\n",
      "    raise HTTPError(req.full_url, code, msg, hdrs, fp)\n",
      "urllib.error.HTTPError: HTTP Error 401: Unauthorized\n",
      "Exception in thread Thread-67:\n",
      "Traceback (most recent call last):\n",
      "  File \"/Users/williamnorris/anaconda3/envs/swepy_env/lib/python3.6/threading.py\", line 916, in _bootstrap_inner\n",
      "    self.run()\n",
      "  File \"<ipython-input-15-a9182ff96420>\", line 17, in run\n",
      "    response = urlopen(url_template.format(self.city))\n",
      "  File \"/Users/williamnorris/anaconda3/envs/swepy_env/lib/python3.6/urllib/request.py\", line 223, in urlopen\n",
      "    return opener.open(url, data, timeout)\n",
      "  File \"/Users/williamnorris/anaconda3/envs/swepy_env/lib/python3.6/urllib/request.py\", line 532, in open\n",
      "    response = meth(req, response)\n",
      "  File \"/Users/williamnorris/anaconda3/envs/swepy_env/lib/python3.6/urllib/request.py\", line 642, in http_response\n",
      "    'http', request, response, code, msg, hdrs)\n",
      "  File \"/Users/williamnorris/anaconda3/envs/swepy_env/lib/python3.6/urllib/request.py\", line 570, in error\n",
      "    return self._call_chain(*args)\n",
      "  File \"/Users/williamnorris/anaconda3/envs/swepy_env/lib/python3.6/urllib/request.py\", line 504, in _call_chain\n",
      "    result = func(*args)\n",
      "  File \"/Users/williamnorris/anaconda3/envs/swepy_env/lib/python3.6/urllib/request.py\", line 650, in http_error_default\n",
      "    raise HTTPError(req.full_url, code, msg, hdrs, fp)\n",
      "urllib.error.HTTPError: HTTP Error 401: Unauthorized\n",
      "\n",
      "\n",
      "Exception in thread Thread-66:\n",
      "Traceback (most recent call last):\n",
      "  File \"/Users/williamnorris/anaconda3/envs/swepy_env/lib/python3.6/threading.py\", line 916, in _bootstrap_inner\n",
      "    self.run()\n",
      "  File \"<ipython-input-15-a9182ff96420>\", line 17, in run\n",
      "    response = urlopen(url_template.format(self.city))\n",
      "  File \"/Users/williamnorris/anaconda3/envs/swepy_env/lib/python3.6/urllib/request.py\", line 223, in urlopen\n",
      "    return opener.open(url, data, timeout)\n",
      "  File \"/Users/williamnorris/anaconda3/envs/swepy_env/lib/python3.6/urllib/request.py\", line 532, in open\n",
      "    response = meth(req, response)\n",
      "  File \"/Users/williamnorris/anaconda3/envs/swepy_env/lib/python3.6/urllib/request.py\", line 642, in http_response\n",
      "    'http', request, response, code, msg, hdrs)\n",
      "  File \"/Users/williamnorris/anaconda3/envs/swepy_env/lib/python3.6/urllib/request.py\", line 570, in error\n",
      "    return self._call_chain(*args)\n",
      "  File \"/Users/williamnorris/anaconda3/envs/swepy_env/lib/python3.6/urllib/request.py\", line 504, in _call_chain\n",
      "    result = func(*args)\n",
      "  File \"/Users/williamnorris/anaconda3/envs/swepy_env/lib/python3.6/urllib/request.py\", line 650, in http_error_default\n",
      "    raise HTTPError(req.full_url, code, msg, hdrs, fp)\n",
      "urllib.error.HTTPError: HTTP Error 401: Unauthorized\n",
      "\n",
      "Exception in thread Thread-64:\n",
      "Traceback (most recent call last):\n",
      "  File \"/Users/williamnorris/anaconda3/envs/swepy_env/lib/python3.6/threading.py\", line 916, in _bootstrap_inner\n",
      "    self.run()\n",
      "  File \"<ipython-input-15-a9182ff96420>\", line 17, in run\n",
      "    response = urlopen(url_template.format(self.city))\n",
      "  File \"/Users/williamnorris/anaconda3/envs/swepy_env/lib/python3.6/urllib/request.py\", line 223, in urlopen\n",
      "    return opener.open(url, data, timeout)\n",
      "  File \"/Users/williamnorris/anaconda3/envs/swepy_env/lib/python3.6/urllib/request.py\", line 532, in open\n",
      "    response = meth(req, response)\n",
      "  File \"/Users/williamnorris/anaconda3/envs/swepy_env/lib/python3.6/urllib/request.py\", line 642, in http_response\n",
      "    'http', request, response, code, msg, hdrs)\n",
      "  File \"/Users/williamnorris/anaconda3/envs/swepy_env/lib/python3.6/urllib/request.py\", line 570, in error\n",
      "    return self._call_chain(*args)\n",
      "  File \"/Users/williamnorris/anaconda3/envs/swepy_env/lib/python3.6/urllib/request.py\", line 504, in _call_chain\n",
      "    result = func(*args)\n",
      "  File \"/Users/williamnorris/anaconda3/envs/swepy_env/lib/python3.6/urllib/request.py\", line 650, in http_error_default\n",
      "    raise HTTPError(req.full_url, code, msg, hdrs, fp)\n",
      "urllib.error.HTTPError: HTTP Error 401: Unauthorized\n",
      "\n",
      "Exception in thread Thread-65:\n",
      "Traceback (most recent call last):\n",
      "  File \"/Users/williamnorris/anaconda3/envs/swepy_env/lib/python3.6/threading.py\", line 916, in _bootstrap_inner\n",
      "    self.run()\n",
      "  File \"<ipython-input-15-a9182ff96420>\", line 17, in run\n",
      "    response = urlopen(url_template.format(self.city))\n",
      "  File \"/Users/williamnorris/anaconda3/envs/swepy_env/lib/python3.6/urllib/request.py\", line 223, in urlopen\n",
      "    return opener.open(url, data, timeout)\n",
      "  File \"/Users/williamnorris/anaconda3/envs/swepy_env/lib/python3.6/urllib/request.py\", line 532, in open\n",
      "    response = meth(req, response)\n",
      "  File \"/Users/williamnorris/anaconda3/envs/swepy_env/lib/python3.6/urllib/request.py\", line 642, in http_response\n",
      "    'http', request, response, code, msg, hdrs)\n",
      "  File \"/Users/williamnorris/anaconda3/envs/swepy_env/lib/python3.6/urllib/request.py\", line 570, in error\n",
      "    return self._call_chain(*args)\n",
      "  File \"/Users/williamnorris/anaconda3/envs/swepy_env/lib/python3.6/urllib/request.py\", line 504, in _call_chain\n",
      "    result = func(*args)\n",
      "  File \"/Users/williamnorris/anaconda3/envs/swepy_env/lib/python3.6/urllib/request.py\", line 650, in http_error_default\n",
      "    raise HTTPError(req.full_url, code, msg, hdrs, fp)\n",
      "urllib.error.HTTPError: HTTP Error 401: Unauthorized\n",
      "\n",
      "Exception in thread Thread-62:\n",
      "Traceback (most recent call last):\n",
      "  File \"/Users/williamnorris/anaconda3/envs/swepy_env/lib/python3.6/threading.py\", line 916, in _bootstrap_inner\n",
      "    self.run()\n",
      "  File \"<ipython-input-15-a9182ff96420>\", line 17, in run\n",
      "    response = urlopen(url_template.format(self.city))\n",
      "  File \"/Users/williamnorris/anaconda3/envs/swepy_env/lib/python3.6/urllib/request.py\", line 223, in urlopen\n",
      "    return opener.open(url, data, timeout)\n",
      "  File \"/Users/williamnorris/anaconda3/envs/swepy_env/lib/python3.6/urllib/request.py\", line 532, in open\n",
      "    response = meth(req, response)\n",
      "  File \"/Users/williamnorris/anaconda3/envs/swepy_env/lib/python3.6/urllib/request.py\", line 642, in http_response\n",
      "    'http', request, response, code, msg, hdrs)\n",
      "  File \"/Users/williamnorris/anaconda3/envs/swepy_env/lib/python3.6/urllib/request.py\", line 570, in error\n",
      "    return self._call_chain(*args)\n",
      "  File \"/Users/williamnorris/anaconda3/envs/swepy_env/lib/python3.6/urllib/request.py\", line 504, in _call_chain\n",
      "    result = func(*args)\n",
      "  File \"/Users/williamnorris/anaconda3/envs/swepy_env/lib/python3.6/urllib/request.py\", line 650, in http_error_default\n",
      "    raise HTTPError(req.full_url, code, msg, hdrs, fp)\n",
      "urllib.error.HTTPError: HTTP Error 401: Unauthorized\n",
      "\n"
     ]
    },
    {
     "name": "stderr",
     "output_type": "stream",
     "text": [
      "Exception in thread Thread-63:\n",
      "Traceback (most recent call last):\n",
      "  File \"/Users/williamnorris/anaconda3/envs/swepy_env/lib/python3.6/threading.py\", line 916, in _bootstrap_inner\n",
      "    self.run()\n",
      "  File \"<ipython-input-15-a9182ff96420>\", line 17, in run\n",
      "    response = urlopen(url_template.format(self.city))\n",
      "  File \"/Users/williamnorris/anaconda3/envs/swepy_env/lib/python3.6/urllib/request.py\", line 223, in urlopen\n",
      "    return opener.open(url, data, timeout)\n",
      "  File \"/Users/williamnorris/anaconda3/envs/swepy_env/lib/python3.6/urllib/request.py\", line 532, in open\n",
      "    response = meth(req, response)\n",
      "  File \"/Users/williamnorris/anaconda3/envs/swepy_env/lib/python3.6/urllib/request.py\", line 642, in http_response\n",
      "    'http', request, response, code, msg, hdrs)\n",
      "  File \"/Users/williamnorris/anaconda3/envs/swepy_env/lib/python3.6/urllib/request.py\", line 570, in error\n",
      "    return self._call_chain(*args)\n",
      "  File \"/Users/williamnorris/anaconda3/envs/swepy_env/lib/python3.6/urllib/request.py\", line 504, in _call_chain\n",
      "    result = func(*args)\n",
      "  File \"/Users/williamnorris/anaconda3/envs/swepy_env/lib/python3.6/urllib/request.py\", line 650, in http_error_default\n",
      "    raise HTTPError(req.full_url, code, msg, hdrs, fp)\n",
      "urllib.error.HTTPError: HTTP Error 401: Unauthorized\n",
      "\n"
     ]
    },
    {
     "ename": "AttributeError",
     "evalue": "'TempGetter' object has no attribute 'temperature'",
     "output_type": "error",
     "traceback": [
      "\u001b[0;31m---------------------------------------------------------------------------\u001b[0m",
      "\u001b[0;31mAttributeError\u001b[0m                            Traceback (most recent call last)",
      "\u001b[0;32m<ipython-input-15-a9182ff96420>\u001b[0m in \u001b[0;36m<module>\u001b[0;34m\u001b[0m\n\u001b[1;32m     26\u001b[0m     \u001b[0mthread\u001b[0m\u001b[0;34m.\u001b[0m\u001b[0mjoin\u001b[0m\u001b[0;34m(\u001b[0m\u001b[0;34m)\u001b[0m\u001b[0;34m\u001b[0m\u001b[0;34m\u001b[0m\u001b[0m\n\u001b[1;32m     27\u001b[0m \u001b[0;32mfor\u001b[0m \u001b[0mthread\u001b[0m \u001b[0;32min\u001b[0m \u001b[0mthreads\u001b[0m\u001b[0;34m:\u001b[0m\u001b[0;34m\u001b[0m\u001b[0;34m\u001b[0m\u001b[0m\n\u001b[0;32m---> 28\u001b[0;31m     \u001b[0mprint\u001b[0m\u001b[0;34m(\u001b[0m\u001b[0;34m\"it is {0.temperature:.0f}°C in {0.city}\"\u001b[0m\u001b[0;34m.\u001b[0m\u001b[0mformat\u001b[0m\u001b[0;34m(\u001b[0m\u001b[0mthread\u001b[0m\u001b[0;34m)\u001b[0m\u001b[0;34m)\u001b[0m\u001b[0;34m\u001b[0m\u001b[0;34m\u001b[0m\u001b[0m\n\u001b[0m\u001b[1;32m     29\u001b[0m print(\n\u001b[1;32m     30\u001b[0m    \"Got {} temps in {} seconds\".format(\n",
      "\u001b[0;31mAttributeError\u001b[0m: 'TempGetter' object has no attribute 'temperature'"
     ]
    }
   ],
   "source": [
    "import json \n",
    "from urllib.request import urlopen \n",
    "import time \n",
    "\n",
    "CITIES = ['Edmonton', 'Victoria', 'Winnipeg', 'Fredericton',\n",
    "       \"St. John's\", 'Halifax', 'Toronto', 'Charlottetown',\n",
    "          'Quebec City', 'Regina']\n",
    "\n",
    "class TempGetter(Thread):\n",
    "    def __init__(self, city):\n",
    "        super().__init__()\n",
    "        self.city = city\n",
    "    def run(self):\n",
    "        url_template = (\n",
    "           'http://api.openweathermap.org/data/2.5/'\n",
    "           'weather?q={},CA&units=metric')\n",
    "        response = urlopen(url_template.format(self.city))\n",
    "        data = json.loads(response.read().decode())\n",
    "        self.temperature = data['main']['temp']\n",
    "        \n",
    "threads = [TempGetter(c) for c in CITIES]\n",
    "start = time.time()\n",
    "for thread in threads:\n",
    "    thread.start()\n",
    "for thread in threads:\n",
    "    thread.join()\n",
    "for thread in threads:\n",
    "    print(\"it is {0.temperature:.0f}°C in {0.city}\".format(thread))\n",
    "print(\n",
    "   \"Got {} temps in {} seconds\".format(\n",
    "   len(threads), time.time() - start))\n"
   ]
  },
  {
   "cell_type": "code",
   "execution_count": null,
   "metadata": {},
   "outputs": [],
   "source": []
  }
 ],
 "metadata": {
  "celltoolbar": "Slideshow",
  "kernelspec": {
   "display_name": "swepy yml",
   "language": "python",
   "name": "swepy_env"
  },
  "language_info": {
   "codemirror_mode": {
    "name": "ipython",
    "version": 3
   },
   "file_extension": ".py",
   "mimetype": "text/x-python",
   "name": "python",
   "nbconvert_exporter": "python",
   "pygments_lexer": "ipython3",
   "version": "3.6.7"
  }
 },
 "nbformat": 4,
 "nbformat_minor": 2
}
