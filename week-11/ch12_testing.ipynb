{
 "cells": [
  {
   "cell_type": "markdown",
   "metadata": {
    "slideshow": {
     "slide_type": "slide"
    }
   },
   "source": [
    "# Testing object-oriented programs (Ch 12)\n",
    "\n",
    "2018-04-05"
   ]
  },
  {
   "cell_type": "markdown",
   "metadata": {
    "slideshow": {
     "slide_type": "slide"
    }
   },
   "source": [
    "# Why test\n",
    "\n",
    "1. Ensure things work\n",
    "2. Simplify maintenance\n",
    "\n",
    "\n",
    "Tests are **fundamental** to software development, but mostly **foreign** to scientists that code"
   ]
  },
  {
   "cell_type": "markdown",
   "metadata": {
    "slideshow": {
     "slide_type": "slide"
    }
   },
   "source": [
    "# Unit tests\n",
    "\n",
    "Test the smallest chunks of code possible: \n",
    "\n",
    "- smallest testable units\n",
    "- most basic behaviors"
   ]
  },
  {
   "cell_type": "markdown",
   "metadata": {
    "slideshow": {
     "slide_type": "slide"
    }
   },
   "source": [
    "# Other types of tests\n",
    "\n",
    "**Integration tests**\n",
    "\n",
    "How do different methods/objects interact\n",
    "\n",
    "**UI tests**\n",
    "\n",
    "Does the user interface work?"
   ]
  },
  {
   "cell_type": "markdown",
   "metadata": {
    "slideshow": {
     "slide_type": "slide"
    }
   },
   "source": [
    "# When all unit tests pass but there are no integration tests\n",
    "\n",
    "![](https://media.giphy.com/media/vvLWidwZNYH5e/giphy.gif)"
   ]
  },
  {
   "cell_type": "markdown",
   "metadata": {
    "slideshow": {
     "slide_type": "slide"
    }
   },
   "source": [
    "# Writing a test with pytest\n",
    "\n",
    "Suppose we wrote a function:\n",
    "\n",
    "```python\n",
    "def add(x, y):\n",
    "    return x + y\n",
    "```\n",
    "\n",
    "A test is a function that starts with `test*`:\n",
    "\n",
    "```python\n",
    "def test_add():\n",
    "    assert add(\"3\", \"5\") == \"35\"\n",
    "```\n"
   ]
  },
  {
   "cell_type": "markdown",
   "metadata": {
    "slideshow": {
     "slide_type": "slide"
    }
   },
   "source": [
    "# Organizing tests\n",
    "\n",
    "Put test modules in\n",
    "\n",
    "`./tests`\n",
    "\n",
    "or \n",
    "\n",
    "`./yourpkg/tests`\n",
    "\n",
    "https://docs.pytest.org/en/latest/goodpractices.html#choosing-a-test-layout-import-rules\n",
    "\n",
    "https://stackoverflow.com/a/62527/4413633"
   ]
  },
  {
   "cell_type": "markdown",
   "metadata": {
    "slideshow": {
     "slide_type": "slide"
    }
   },
   "source": [
    "# Test discovery \n",
    "\n",
    "Pytest looks recursively for:\n",
    "\n",
    "`test_*.py` or `*_test.py` modules\n",
    "\n",
    "and within such modules:\n",
    "\n",
    "- `test` prefixed functions\n",
    "- `test` prefixed methods inside `Test` prefixed classes (without an __init__ method)\n"
   ]
  },
  {
   "cell_type": "markdown",
   "metadata": {
    "slideshow": {
     "slide_type": "slide"
    }
   },
   "source": [
    "```python\n",
    "\"\"\" Example test module. \"\"\"\n",
    "\n",
    "test_foo():\n",
    "    pass\n",
    "\n",
    "TestBar():\n",
    "    def test_bar():\n",
    "        pass\n",
    "```"
   ]
  },
  {
   "cell_type": "markdown",
   "metadata": {
    "slideshow": {
     "slide_type": "slide"
    }
   },
   "source": [
    "# Writing tests for the `mathematics` library\n",
    "\n",
    "- Writing basic tests\n",
    "- Assertions about errors\n",
    "- Fixtures\n",
    "- (?) [Grouping tests with classes](https://docs.pytest.org/en/3.0.0/getting-started.html#grouping-multiple-tests-in-a-class)\n",
    "- (?) [Parameterization](https://docs.pytest.org/en/latest/parametrize.html#parametrizing-fixtures-and-test-functions)\n",
    "- (?) [Parameterizing fixtures](https://docs.pytest.org/en/latest/fixture.html#parametrizing-fixtures)"
   ]
  },
  {
   "cell_type": "markdown",
   "metadata": {
    "slideshow": {
     "slide_type": "slide"
    }
   },
   "source": [
    "# Code coverage\n",
    "\n",
    "What fraction of code was excecuted by the tests?\n",
    "\n",
    "```bash\n",
    "pytest --cov\n",
    "```\n",
    "\n",
    "Examples:\n",
    "\n",
    "https://github.com/geopandas/geopandas\n",
    "\n",
    "https://github.com/darribas/contextily"
   ]
  },
  {
   "cell_type": "markdown",
   "metadata": {
    "slideshow": {
     "slide_type": "slide"
    }
   },
   "source": [
    "# How much testing is enough?\n",
    "\n",
    "100% coverage is not enough\n",
    "\n",
    "- coverage is a very imperfect measurement of test quality\n",
    "\n",
    "$\\rightarrow$ anything less than 100% is not enough\n",
    "\n",
    "![](https://media.giphy.com/media/xT1XGShj7ri35BlXCo/giphy.gif)"
   ]
  },
  {
   "cell_type": "markdown",
   "metadata": {
    "slideshow": {
     "slide_type": "slide"
    }
   },
   "source": [
    "# Some pytest tips and tricks\n",
    "\n",
    "![](https://media.giphy.com/media/PI14VLPiC8H0Q/giphy.gif)"
   ]
  },
  {
   "cell_type": "markdown",
   "metadata": {
    "slideshow": {
     "slide_type": "slide"
    }
   },
   "source": [
    "# Running just one test file\n",
    "\n",
    "```python\n",
    "pytest tests/test_add.py\n",
    "```"
   ]
  },
  {
   "cell_type": "markdown",
   "metadata": {
    "slideshow": {
     "slide_type": "slide"
    }
   },
   "source": [
    "# Running just one test\n",
    "\n",
    "```\n",
    "pytest tests/test_add.py::test_add_zero\n",
    "```"
   ]
  },
  {
   "cell_type": "markdown",
   "metadata": {
    "slideshow": {
     "slide_type": "slide"
    }
   },
   "source": [
    "# Increasing verbosity\n",
    "\n",
    "```\n",
    "pytest -v\n",
    "```"
   ]
  },
  {
   "cell_type": "markdown",
   "metadata": {
    "slideshow": {
     "slide_type": "slide"
    }
   },
   "source": [
    "# Interactively debugging tests\n",
    "\n",
    "Upon test failure:\n",
    "\n",
    "https://docs.pytest.org/en/latest/usage.html#dropping-to-pdb-python-debugger-on-failures\n",
    "\n",
    "At the start of a test:\n",
    "\n",
    "https://docs.pytest.org/en/latest/usage.html#dropping-to-pdb-python-debugger-at-the-start-of-a-test"
   ]
  },
  {
   "cell_type": "markdown",
   "metadata": {
    "slideshow": {
     "slide_type": "slide"
    }
   },
   "source": [
    "# Go forth and test\n",
    "\n",
    "And if you're bored like me: \n",
    "\n",
    "### The pytest book: \n",
    "\n",
    "https://pragprog.com/book/bopytest/python-testing-with-pytest\n",
    "\n",
    "### The Test and Code podcast: \n",
    "\n",
    "https://testandcode.com/"
   ]
  },
  {
   "cell_type": "code",
   "execution_count": null,
   "metadata": {},
   "outputs": [],
   "source": []
  }
 ],
 "metadata": {
  "celltoolbar": "Slideshow",
  "kernelspec": {
   "display_name": "Python 3",
   "language": "python",
   "name": "python3"
  },
  "language_info": {
   "codemirror_mode": {
    "name": "ipython",
    "version": 3
   },
   "file_extension": ".py",
   "mimetype": "text/x-python",
   "name": "python",
   "nbconvert_exporter": "python",
   "pygments_lexer": "ipython3",
   "version": "3.7.2"
  }
 },
 "nbformat": 4,
 "nbformat_minor": 2
}
