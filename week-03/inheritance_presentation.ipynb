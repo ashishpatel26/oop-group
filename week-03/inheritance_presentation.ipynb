{
 "cells": [
  {
   "cell_type": "markdown",
   "metadata": {
    "slideshow": {
     "slide_type": "slide"
    }
   },
   "source": [
    "## Chapter 3: When Objects Are Alike\n",
    "By Will Norris\n"
   ]
  },
  {
   "cell_type": "markdown",
   "metadata": {
    "slideshow": {
     "slide_type": "-"
    }
   },
   "source": [
    "#### Key Concepts: \n",
    "- We want to limit repeated code!\n",
    "- When we have similar objects, we can relate them to eachother to avoid repeating ourselves \n",
    "    - Inheritance!"
   ]
  },
  {
   "cell_type": "markdown",
   "metadata": {
    "slideshow": {
     "slide_type": "slide"
    }
   },
   "source": [
    "Inheritence gives us the power to do __hierarchical clustering__\n",
    "\n",
    "![](inheritence_animals.gif)\n",
    "\n",
    "**Inheritence defines an 'is a' relationship**"
   ]
  },
  {
   "cell_type": "markdown",
   "metadata": {
    "slideshow": {
     "slide_type": "slide"
    }
   },
   "source": [
    "### Extending built-ins!\n",
    "#### We can build off of python's already created objects using inheritence!"
   ]
  },
  {
   "cell_type": "code",
   "execution_count": 3,
   "metadata": {},
   "outputs": [],
   "source": [
    "class AnimalList(list): # inherits from list object \n",
    "    def search(self, name):\n",
    "        matches = []\n",
    "        for animal in self: \n",
    "            if name in animal.name:\n",
    "                matches.append(animal)\n",
    "        return matches"
   ]
  },
  {
   "cell_type": "markdown",
   "metadata": {},
   "source": [
    "- This allows us to add functionality to ```list``` without having to make the actual ```list``` again!"
   ]
  },
  {
   "cell_type": "markdown",
   "metadata": {
    "slideshow": {
     "slide_type": "slide"
    }
   },
   "source": [
    "### Overriding"
   ]
  },
  {
   "cell_type": "code",
   "execution_count": 4,
   "metadata": {
    "slideshow": {
     "slide_type": "-"
    }
   },
   "outputs": [],
   "source": [
    "class Animal:\n",
    "    all_animals = AnimalList()\n",
    "    def __init__(self, name):\n",
    "        self.name = name \n",
    "        self.all_animals.append(self)\n",
    "\n",
    "class Mammal(Animal):\n",
    "    live_born = True # live birth is an attribute of mammals\n",
    "    def __init__(self, name, land_water): \n",
    "        self.name = name \n",
    "        self.land_water = land_water        "
   ]
  },
  {
   "cell_type": "code",
   "execution_count": 5,
   "metadata": {
    "slideshow": {
     "slide_type": "-"
    }
   },
   "outputs": [
    {
     "name": "stdout",
     "output_type": "stream",
     "text": [
      "shrimp\n"
     ]
    }
   ],
   "source": [
    "m1 = Mammal('dolphin', 'water')\n",
    "m2 = Mammal('dog', 'land')\n",
    "a1 = Animal('shrimp')\n",
    "\n",
    "for animal in Animal.all_animals:\n",
    "    print(animal.name)"
   ]
  },
  {
   "cell_type": "markdown",
   "metadata": {},
   "source": [
    "- Here, we do succesfully create a Mammal, but we don't add mammals to our ```all_animals``` list!!\n",
    "    - What's going wrong? "
   ]
  },
  {
   "cell_type": "markdown",
   "metadata": {
    "slideshow": {
     "slide_type": "slide"
    }
   },
   "source": [
    "### Super to the rescue!\n",
    "- ```super``` allows the class to call the parent's constructor (pass info up the hierarchy)"
   ]
  },
  {
   "cell_type": "code",
   "execution_count": 9,
   "metadata": {
    "slideshow": {
     "slide_type": "-"
    }
   },
   "outputs": [],
   "source": [
    "class Mammal(Animal):\n",
    "    live_born = True # live birth is an attribute of all mammals\n",
    "    def __init__(self, name, land_water):\n",
    "        super().__init__(name)\n",
    "        self.land_water = land_water\n",
    "    \n",
    "    def talk(self):\n",
    "        print(\"Most Mammal's can make a noise of some kind.\")"
   ]
  },
  {
   "cell_type": "code",
   "execution_count": 10,
   "metadata": {},
   "outputs": [
    {
     "ename": "TypeError",
     "evalue": "__init__() takes 1 positional argument but 2 were given",
     "output_type": "error",
     "traceback": [
      "\u001b[0;31m---------------------------------------------------------------------------\u001b[0m",
      "\u001b[0;31mTypeError\u001b[0m                                 Traceback (most recent call last)",
      "\u001b[0;32m<ipython-input-10-bf3ec9ba2631>\u001b[0m in \u001b[0;36m<module>\u001b[0;34m\u001b[0m\n\u001b[0;32m----> 1\u001b[0;31m \u001b[0mm1\u001b[0m \u001b[0;34m=\u001b[0m \u001b[0mMammal\u001b[0m\u001b[0;34m(\u001b[0m\u001b[0;34m'Bob the dolphin'\u001b[0m\u001b[0;34m)\u001b[0m\u001b[0;34m\u001b[0m\u001b[0m\n\u001b[0m\u001b[1;32m      2\u001b[0m \u001b[0mm2\u001b[0m \u001b[0;34m=\u001b[0m \u001b[0mMammal\u001b[0m\u001b[0;34m(\u001b[0m\u001b[0;34m'Frank the Dog'\u001b[0m\u001b[0;34m)\u001b[0m\u001b[0;34m\u001b[0m\u001b[0m\n\u001b[1;32m      3\u001b[0m \u001b[0ma1\u001b[0m \u001b[0;34m=\u001b[0m \u001b[0mAnimal\u001b[0m\u001b[0;34m(\u001b[0m\u001b[0;34m'Josie the Shrimp'\u001b[0m\u001b[0;34m)\u001b[0m\u001b[0;34m\u001b[0m\u001b[0m\n\u001b[1;32m      4\u001b[0m \u001b[0;34m\u001b[0m\u001b[0m\n\u001b[1;32m      5\u001b[0m \u001b[0;32mfor\u001b[0m \u001b[0manimal\u001b[0m \u001b[0;32min\u001b[0m \u001b[0mAnimal\u001b[0m\u001b[0;34m.\u001b[0m\u001b[0mall_animals\u001b[0m\u001b[0;34m:\u001b[0m\u001b[0;34m\u001b[0m\u001b[0m\n",
      "\u001b[0;31mTypeError\u001b[0m: __init__() takes 1 positional argument but 2 were given"
     ]
    }
   ],
   "source": [
    "m1 = Mammal('Bob the dolphin')\n",
    "m2 = Mammal('Frank the Dog')\n",
    "a1 = Animal('Josie the Shrimp')\n",
    "\n",
    "for animal in Animal.all_animals:\n",
    "    print(animal.name)"
   ]
  },
  {
   "cell_type": "markdown",
   "metadata": {
    "slideshow": {
     "slide_type": "slide"
    }
   },
   "source": [
    "## Fun with Dunders\n",
    "### \\__repr__ and \\__str__: Letting users easily see what their objects are \n",
    "- \\__repr__ is to find the \"official\" representation of an object \n",
    "- \\__str__ is to find the \"informal\" representation of an object\n",
    "\n",
    "\n",
    "- If you only have one of them, calling the object will use whichever is available\n",
    "- If you have both of them, calling the class will default to the \\__str__ representation "
   ]
  },
  {
   "cell_type": "code",
   "execution_count": 17,
   "metadata": {
    "slideshow": {
     "slide_type": "subslide"
    }
   },
   "outputs": [],
   "source": [
    "class Dog(Mammal):\n",
    "    fur = True \n",
    "    def __init__(self, name, breed, age):\n",
    "        super().__init__(name, land_water = 'land')\n",
    "        self.breed = breed\n",
    "        self.age = age\n",
    "        \n",
    "    def __repr__(self):\n",
    "        return \"Animal of class {}, type of {}, breed of {}, age of {}\".format(\n",
    "                self.__class__.__bases__[0].__name__,self.__class__.__name__, self.breed, self.age)\n",
    "    \n",
    "    def __str__(self):\n",
    "        return \"This dog's name is {}\".format(self.name)\n",
    "    \n",
    "    def talk(self): \n",
    "        print(\"{} Barked at you!\".format(self.name))\n",
    "\n",
    "class Whale(Mammal):\n",
    "    fur = False\n",
    "    def __init__(self, name, species, age): \n",
    "        super().__init__(name, land_water = 'water')\n",
    "        self.species = species \n",
    "        self.age = age\n",
    "        \n",
    "    def __repr__(self):\n",
    "        return \"Animal of class {}, type of {}, species of {}, age of {}\".format(\n",
    "                self.__class__.__bases__[0].__name__,self.__class__.__name__, self.species, self.age)\n",
    "\n",
    "    def __str__(self):\n",
    "        return \"This {}'s name is {}\".format(self.__class__.__name__,self.name)\n",
    "    \n",
    "    def talk(self):\n",
    "        print(\"{} makes a loud groaning noise\".format(self.name))"
   ]
  },
  {
   "cell_type": "code",
   "execution_count": 18,
   "metadata": {
    "slideshow": {
     "slide_type": "subslide"
    }
   },
   "outputs": [
    {
     "name": "stdout",
     "output_type": "stream",
     "text": [
      "This dog's name is frank\n",
      "This Whale's name is waler\n",
      "Animal of class Mammal, type of Dog, breed of Golden Retreiver, age of 10\n",
      "Animal of class Mammal, type of Whale, species of Blue, age of 80\n"
     ]
    }
   ],
   "source": [
    "frank = Dog('frank', 'Golden Retreiver', 10)\n",
    "waler = Whale('waler', 'Blue', 80)\n",
    "\n",
    "# defualt to __str__ representation (informal)\n",
    "print(frank)\n",
    "print(waler)\n",
    "\n",
    "print(repr(frank))\n",
    "# or \n",
    "print(waler.__repr__())"
   ]
  },
  {
   "cell_type": "markdown",
   "metadata": {
    "slideshow": {
     "slide_type": "slide"
    }
   },
   "source": [
    "### Multiple Inheritence: Warning Danger Ahead \n",
    "\n",
    "\n",
    "\n",
    "![MI](mi.png)"
   ]
  },
  {
   "cell_type": "markdown",
   "metadata": {},
   "source": [
    "Why multiple inheritence isn't best practice: \n",
    "- It is the opposite structure of **hierarchical clustering**\n",
    "- M.I. seems okay when we are mixing methods from different classes\n",
    "- However, it gets messy when we call methods on the superclass \n",
    "    - There's more than one superclass! Which one do we call, in what order?? \n",
    "    - Example coming up!"
   ]
  },
  {
   "cell_type": "markdown",
   "metadata": {
    "slideshow": {
     "slide_type": "subslide"
    }
   },
   "source": [
    "![](multi_pegasus.png)\n",
    "\n",
    "- This looks like it should work, a pegasus is a horse with wings, BUT:\n",
    "    - Birds have other traits Pegasi don't\n",
    "        - **We can't selectively inherit our traits!!**\n",
    "        - If pegasi have live birth, but birds don't, then we need to restructure\n",
    "- There are other ways to achieve a similar goal, which we will cover next!"
   ]
  },
  {
   "cell_type": "markdown",
   "metadata": {
    "slideshow": {
     "slide_type": "slide"
    }
   },
   "source": [
    "### Making Multiple Inheritence \"Work\": Super Saves Us Again"
   ]
  },
  {
   "cell_type": "code",
   "execution_count": 17,
   "metadata": {},
   "outputs": [],
   "source": [
    "# borrowed from our book :-)\n",
    "class Contact:\n",
    "    all_contacts = []\n",
    "\n",
    "    def __init__(self, name=None, email=None, street = None, **kwargs):\n",
    "        super().__init__(**kwargs)\n",
    "        self.name = name\n",
    "        self.email = email\n",
    "        self.street = street\n",
    "        self.all_contacts.append(self)\n",
    "\n",
    "\n",
    "class AddressHolder:\n",
    "    def __init__(self, street=None, city=None, state=None, code=None, **kwargs):\n",
    "        super().__init__(**kwargs)\n",
    "        self.street = street\n",
    "        self.city = city\n",
    "        self.state = state\n",
    "        self.code = code\n",
    "\n",
    "\n",
    "class Friend(AddressHolder,Contact): # Friend inherits from Contact and AdressHolder\n",
    "    def __init__(self, phone='', **kwargs):\n",
    "        super().__init__(**kwargs)\n",
    "        self.phone = phone"
   ]
  },
  {
   "cell_type": "code",
   "execution_count": 16,
   "metadata": {},
   "outputs": [
    {
     "name": "stdout",
     "output_type": "stream",
     "text": [
      "None\n",
      "will\n"
     ]
    }
   ],
   "source": [
    "kwargs = {'city':'boulder','name':'will'}\n",
    "f = Friend('719-220-3333', **kwargs)\n",
    "print(f.street)\n",
    "print(f.name)"
   ]
  },
  {
   "cell_type": "markdown",
   "metadata": {
    "slideshow": {
     "slide_type": "subslide"
    }
   },
   "source": [
    "- Super works a little weird when there is more than one parent class \n",
    "- Python uses a linearized method resolution order\n",
    "    - If we instanitate ```Friend```, it will call the ```__init__``` from ```Contact``` then the ```__init__``` in ```AddressHolder```\n",
    "- We use ```**kwargs``` to pass potentially \"extra\" arguments to an ```__init__``` in case future ```__init__```'s need it later\n",
    "    - This gets messy, and requires docstrings to instruct users on what is expected on instantiation "
   ]
  },
  {
   "cell_type": "markdown",
   "metadata": {
    "slideshow": {
     "slide_type": "subslide"
    }
   },
   "source": [
    "### The Diamond Problem\n",
    "\n",
    "![](diamond_prob.png)\n",
    "\n",
    "- The Object parent class is instantiated twice (by Contact and AddressHolder)\n",
    "   - This is okay right now, but it can really wreak havoc when the parent class isn't ```Object```"
   ]
  },
  {
   "cell_type": "markdown",
   "metadata": {},
   "source": [
    "- While we can make multi-inheritence work, it has many downsides to organization\n",
    "    - Can require complete restructuring of classes and there parameters \n",
    "        - Must be planned for from the beggining!\n",
    "    - There are better solutions! Namely **composition**, covered in chapter 10"
   ]
  },
  {
   "cell_type": "markdown",
   "metadata": {
    "slideshow": {
     "slide_type": "slide"
    }
   },
   "source": [
    "### Polymorphism \n",
    "\n",
    "- Allow user to call the same method name with parameters, and depending on those parameters, it can do different things!\n",
    "- Polymorphism with inheritance, under the hood: \n",
    "    - subclass can override a method of the base class \n",
    "    - Class ```Mammal``` has ```talk()``` method:\n",
    "        - subclasses ```Dog``` and ```Whale``` have the method ```talk()``` make different noises "
   ]
  },
  {
   "cell_type": "code",
   "execution_count": 26,
   "metadata": {},
   "outputs": [
    {
     "name": "stdout",
     "output_type": "stream",
     "text": [
      "30\n",
      "hellohellohellohellohello\n"
     ]
    }
   ],
   "source": [
    "# simple example without inheritence \n",
    "print(5*6)\n",
    "print(5*'hello')"
   ]
  },
  {
   "cell_type": "code",
   "execution_count": 27,
   "metadata": {},
   "outputs": [
    {
     "name": "stdout",
     "output_type": "stream",
     "text": [
      "Most Mammal's can make a noise of some kind.\n",
      "frank Barked at you!\n",
      "waler makes a loud groaning noise\n"
     ]
    }
   ],
   "source": [
    "m1.talk()\n",
    "frank.talk()\n",
    "waler.talk()"
   ]
  },
  {
   "cell_type": "markdown",
   "metadata": {
    "slideshow": {
     "slide_type": "subslide"
    }
   },
   "source": [
    "#### Polymorphism is cool, but Python makes it less cool with \"Duck Typing\"\n",
    "- \"Duck typing in Python allows us to use any object that provides the requird behavior without forcing it to be a subclass\" (pg. 77) \n",
    "\n",
    "- Polymorphism combined with inheritance is powerful, however it requires lot's of planning and can get complex fast!\n",
    "    - Especially when you are working with lots of classes \n"
   ]
  },
  {
   "cell_type": "markdown",
   "metadata": {
    "slideshow": {
     "slide_type": "slide"
    }
   },
   "source": [
    "### Duck Typing \n",
    "- \"If it walks like a duck and it quacks like a duck, then it must be a duck\" \n",
    "\n",
    "- We use this idea to help us **determine if an object can be used for a specific purpose**\n",
    "    - Rather than just checking the type of the object, we check what attributes and methods that it has \n",
    "    \n",
    "- Duck Typing removes the need to inherit in certain cases, and can simplify your life! \n",
    "    \n",
    "- **Easier to Ask Forgiveness than Permission (EAFP)**\n",
    "    - Duck typing is an introduction to this best practice of python programming!\n"
   ]
  },
  {
   "cell_type": "code",
   "execution_count": 28,
   "metadata": {
    "slideshow": {
     "slide_type": "subslide"
    }
   },
   "outputs": [],
   "source": [
    "class Duck: \n",
    "    def fly(self): \n",
    "        print(\"Duck Flying\")\n",
    "        \n",
    "    def quack(self):\n",
    "        print(\"quack, quack, quack\")\n",
    "        \n",
    "class Airplane:\n",
    "    def fly(self):\n",
    "        print(\"Airplane Flying\")\n",
    "        \n",
    "    def quack(self):\n",
    "        print(\"Pilot imitates a duck, 'Quack, Quack'\")\n",
    "\n",
    "class Whale:\n",
    "    def swim(self):\n",
    "        print(\"Whale swimming\")\n",
    "        \n",
    "def lift_off(entity):\n",
    "    entity.fly()"
   ]
  },
  {
   "cell_type": "code",
   "execution_count": 29,
   "metadata": {
    "slideshow": {
     "slide_type": "subslide"
    }
   },
   "outputs": [
    {
     "name": "stdout",
     "output_type": "stream",
     "text": [
      "Duck Flying\n",
      "Airplane Flying\n"
     ]
    },
    {
     "ename": "AttributeError",
     "evalue": "'Whale' object has no attribute 'fly'",
     "output_type": "error",
     "traceback": [
      "\u001b[0;31m---------------------------------------------------------------------------\u001b[0m",
      "\u001b[0;31mAttributeError\u001b[0m                            Traceback (most recent call last)",
      "\u001b[0;32m<ipython-input-29-c1afb033697f>\u001b[0m in \u001b[0;36m<module>\u001b[0;34m\u001b[0m\n\u001b[1;32m      5\u001b[0m \u001b[0mlift_off\u001b[0m\u001b[0;34m(\u001b[0m\u001b[0mduck\u001b[0m\u001b[0;34m)\u001b[0m\u001b[0;34m\u001b[0m\u001b[0m\n\u001b[1;32m      6\u001b[0m \u001b[0mlift_off\u001b[0m\u001b[0;34m(\u001b[0m\u001b[0mairplane\u001b[0m\u001b[0;34m)\u001b[0m\u001b[0;34m\u001b[0m\u001b[0m\n\u001b[0;32m----> 7\u001b[0;31m \u001b[0mlift_off\u001b[0m\u001b[0;34m(\u001b[0m\u001b[0mwhale\u001b[0m\u001b[0;34m)\u001b[0m\u001b[0;34m\u001b[0m\u001b[0m\n\u001b[0m",
      "\u001b[0;32m<ipython-input-28-2a2195d10ac4>\u001b[0m in \u001b[0;36mlift_off\u001b[0;34m(entity)\u001b[0m\n\u001b[1;32m     18\u001b[0m \u001b[0;34m\u001b[0m\u001b[0m\n\u001b[1;32m     19\u001b[0m \u001b[0;32mdef\u001b[0m \u001b[0mlift_off\u001b[0m\u001b[0;34m(\u001b[0m\u001b[0mentity\u001b[0m\u001b[0;34m)\u001b[0m\u001b[0;34m:\u001b[0m\u001b[0;34m\u001b[0m\u001b[0m\n\u001b[0;32m---> 20\u001b[0;31m     \u001b[0mentity\u001b[0m\u001b[0;34m.\u001b[0m\u001b[0mfly\u001b[0m\u001b[0;34m(\u001b[0m\u001b[0;34m)\u001b[0m\u001b[0;34m\u001b[0m\u001b[0m\n\u001b[0m",
      "\u001b[0;31mAttributeError\u001b[0m: 'Whale' object has no attribute 'fly'"
     ]
    }
   ],
   "source": [
    "duck = Duck()\n",
    "airplane = Airplane()\n",
    "whale = Whale()\n",
    "\n",
    "lift_off(duck)\n",
    "lift_off(airplane)\n",
    "lift_off(whale)"
   ]
  },
  {
   "cell_type": "markdown",
   "metadata": {
    "slideshow": {
     "slide_type": "slide"
    }
   },
   "source": [
    "#### The old way: Look Before you Leap (LBYL)\n",
    "- check something is what we want before trying to do it "
   ]
  },
  {
   "cell_type": "code",
   "execution_count": 30,
   "metadata": {},
   "outputs": [
    {
     "name": "stdout",
     "output_type": "stream",
     "text": [
      "quack, quack, quack\n",
      "Duck Flying\n",
      "Pilot imitates a duck, 'Quack, Quack'\n",
      "Airplane Flying\n"
     ]
    }
   ],
   "source": [
    "def quack_and_fly(my_object):\n",
    "    if hasattr(my_object, 'quack'):\n",
    "        if callable(my_object.quack):\n",
    "            my_object.quack()\n",
    "    if hasattr(my_object, 'fly'):   \n",
    "        if callable(my_object.fly):\n",
    "            my_object.fly()\n",
    "\n",
    "d = Duck()\n",
    "quack_and_fly(d)\n",
    "\n",
    "a = Airplane()\n",
    "quack_and_fly(a)\n",
    "\n",
    "w = Whale()\n",
    "quack_and_fly(w)"
   ]
  },
  {
   "cell_type": "markdown",
   "metadata": {},
   "source": [
    "BUT, most of the time our object will work, which means we are doing way more checks than we need to! And in this case, nothing happens if an object doesn't fit."
   ]
  },
  {
   "cell_type": "markdown",
   "metadata": {
    "slideshow": {
     "slide_type": "slide"
    }
   },
   "source": [
    "### EAFP\n",
    "- Try to do something, if it works, then great! If not, then let's handle it "
   ]
  },
  {
   "cell_type": "code",
   "execution_count": 33,
   "metadata": {},
   "outputs": [],
   "source": [
    "def lift_off(entity):\n",
    "    try: \n",
    "        entity.fly()\n",
    "        entity.quack()\n",
    "    except Exception as e: \n",
    "        print(e)"
   ]
  },
  {
   "cell_type": "code",
   "execution_count": 36,
   "metadata": {},
   "outputs": [
    {
     "name": "stdout",
     "output_type": "stream",
     "text": [
      "Duck Flying\n",
      "quack, quack, quack\n",
      "Airplane Flying\n",
      "Pilot imitates a duck, 'Quack, Quack'\n",
      "'Whale' object has no attribute 'fly'\n"
     ]
    }
   ],
   "source": [
    "lift_off(duck)\n",
    "lift_off(airplane)\n",
    "lift_off(whale)"
   ]
  },
  {
   "cell_type": "markdown",
   "metadata": {
    "slideshow": {
     "slide_type": "subslide"
    }
   },
   "source": [
    "### EAFP is useful outside of object oriented programming too!"
   ]
  },
  {
   "cell_type": "code",
   "execution_count": 39,
   "metadata": {},
   "outputs": [],
   "source": [
    "animal1 = {'name': 'Frank', 'age':10, 'type':'dog', 'pronoun':'He'}\n",
    "animal2 = {'name': 'Josie', 'age':5, 'type':'cat'}\n",
    "\n",
    "def animal_deets(animal):\n",
    "    try:\n",
    "        print(\"This animal is a {type}, named {name}. {pronoun} is {age} years old\".format(**animal))\n",
    "    except Exception as e:\n",
    "        print(\"Missing {} key\".format(e))"
   ]
  },
  {
   "cell_type": "code",
   "execution_count": 40,
   "metadata": {},
   "outputs": [
    {
     "name": "stdout",
     "output_type": "stream",
     "text": [
      "This animal is a dog, named Frank. He is 10 years old\n",
      "Missing 'pronoun' key\n"
     ]
    }
   ],
   "source": [
    "animal_deets(animal1)\n",
    "\n",
    "animal_deets(animal2)"
   ]
  },
  {
   "cell_type": "markdown",
   "metadata": {
    "slideshow": {
     "slide_type": "slide"
    }
   },
   "source": [
    "### Abstract Base Classes (ABC's) \n",
    "- Duck typing is great! But, it can get complicated with many classes \n",
    "- **ABC's define a set of methods and properties that a class must implement in order to be considered a duck-type instance of that class**\n",
    "    - Basically just ensures that certain methods are available in order to be considered a duck typed instance of a class \n",
    "\n"
   ]
  },
  {
   "cell_type": "code",
   "execution_count": 43,
   "metadata": {
    "slideshow": {
     "slide_type": "subslide"
    }
   },
   "outputs": [
    {
     "data": {
      "text/plain": [
       "frozenset({'__contains__'})"
      ]
     },
     "execution_count": 43,
     "metadata": {},
     "output_type": "execute_result"
    }
   ],
   "source": [
    "\n",
    "from collections import Container \n",
    "\n",
    "Container.__abstractmethods__"
   ]
  },
  {
   "cell_type": "code",
   "execution_count": 44,
   "metadata": {
    "slideshow": {
     "slide_type": "-"
    }
   },
   "outputs": [],
   "source": [
    "class OddContainer:\n",
    "    def __contains__(self, x):\n",
    "        if not isinstance(x, int) or not x % 2: \n",
    "            return False\n",
    "        return True"
   ]
  },
  {
   "cell_type": "code",
   "execution_count": 45,
   "metadata": {},
   "outputs": [
    {
     "name": "stdout",
     "output_type": "stream",
     "text": [
      "True\n",
      "True\n"
     ]
    }
   ],
   "source": [
    "odd_container = OddContainer()\n",
    "print(isinstance(odd_container, Container))\n",
    "print(issubclass(OddContainer, Container))"
   ]
  },
  {
   "cell_type": "markdown",
   "metadata": {},
   "source": [
    "- This is the power of duck typing! \n",
    "    - Even though ```OddContainer``` is not inheriting from Container, it still is considered a subclass and instance of the Container class. \n",
    "    - We get all the benifits of polymorphism without dealing with the mess of inheritance!"
   ]
  },
  {
   "cell_type": "markdown",
   "metadata": {
    "slideshow": {
     "slide_type": "slide"
    }
   },
   "source": [
    "#### ABC's Under the Hood "
   ]
  },
  {
   "cell_type": "code",
   "execution_count": 60,
   "metadata": {
    "slideshow": {
     "slide_type": "-"
    }
   },
   "outputs": [],
   "source": [
    "from abc import ABC, abstractmethod \n",
    "\n",
    "class Shape(ABC):\n",
    "    @abstractmethod \n",
    "    def __area__(self): pass\n",
    "    \n",
    "    @classmethod\n",
    "    def __subclasshook__(cls, C):\n",
    "        if cls is Shape:\n",
    "            if any(\"__area__\" in B.__dict__ for B in C.__mro__):\n",
    "                return True\n",
    "        return NotImplemented\n",
    "    \n",
    "class Square():\n",
    "    def __init__(self, side_len):\n",
    "        self.side = side_len \n",
    "    \n",
    "    def __area__(self):\n",
    "        return self.side * self.side"
   ]
  },
  {
   "cell_type": "code",
   "execution_count": 61,
   "metadata": {},
   "outputs": [],
   "source": [
    "s = Square(5)"
   ]
  },
  {
   "cell_type": "code",
   "execution_count": 62,
   "metadata": {},
   "outputs": [
    {
     "name": "stdout",
     "output_type": "stream",
     "text": [
      "True\n",
      "True\n"
     ]
    }
   ],
   "source": [
    "print(issubclass(Square, Shape))\n",
    "print(isinstance(s, Shape))"
   ]
  },
  {
   "cell_type": "code",
   "execution_count": 65,
   "metadata": {
    "slideshow": {
     "slide_type": "subslide"
    }
   },
   "outputs": [],
   "source": [
    "from abc import ABC, abstractmethod \n",
    "\n",
    "class Shape(ABC):\n",
    "    @abstractmethod \n",
    "    def __area__(self): pass\n",
    "    \n",
    "    \n",
    "class Square(Shape):\n",
    "    def __init__(self, side_len):\n",
    "        self.side = side_len \n",
    "    \n",
    "    def __area__(self):\n",
    "        return self.side * self.side"
   ]
  },
  {
   "cell_type": "code",
   "execution_count": 66,
   "metadata": {},
   "outputs": [],
   "source": [
    "s = Square(5)"
   ]
  }
 ],
 "metadata": {
  "celltoolbar": "Slideshow",
  "kernelspec": {
   "display_name": "swepy yml",
   "language": "python",
   "name": "swepy_env"
  },
  "language_info": {
   "codemirror_mode": {
    "name": "ipython",
    "version": 3
   },
   "file_extension": ".py",
   "mimetype": "text/x-python",
   "name": "python",
   "nbconvert_exporter": "python",
   "pygments_lexer": "ipython3",
   "version": "3.6.6"
  }
 },
 "nbformat": 4,
 "nbformat_minor": 2
}
