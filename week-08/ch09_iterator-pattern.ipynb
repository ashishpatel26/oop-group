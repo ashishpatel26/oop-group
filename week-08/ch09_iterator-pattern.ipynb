{
 "cells": [
  {
   "cell_type": "markdown",
   "metadata": {
    "slideshow": {
     "slide_type": "slide"
    }
   },
   "source": [
    "# Chapter 9: The Iterator Pattern\n",
    "\n",
    "### By Ellen Considine\n",
    "### 3/1/19"
   ]
  },
  {
   "cell_type": "markdown",
   "metadata": {
    "slideshow": {
     "slide_type": "slide"
    }
   },
   "source": [
    "## Iterables and Iterators\n",
    "\n",
    "In general: \n",
    "\n",
    "* An iterator is an object with a \\_\\_next\\_\\_ method and a \\_\\_done\\_\\_ method\n",
    "* Defined by the abstract base class _Interator_\n",
    "* Fulfills the _Iterable_ interface: provides an \\_\\_iter\\_\\_ method\n",
    "\n",
    "Now here's a simple (and needlessly verbose) example...\n"
   ]
  },
  {
   "cell_type": "code",
   "execution_count": 1,
   "metadata": {
    "slideshow": {
     "slide_type": "slide"
    }
   },
   "outputs": [],
   "source": [
    "class CapitalIterable:\n",
    "    def __init__(self, string):\n",
    "        self.string = string\n",
    "\n",
    "    def __iter__(self):\n",
    "        return CapitalIterator(self.string)\n",
    "    \n",
    "class CapitalIterator:\n",
    "    def __init__(self, string):\n",
    "        self.words = [w.capitalize() for w in string.split()]\n",
    "        self.index = 0\n",
    "    def __next__(self):\n",
    "        if self.index == len(self.words):\n",
    "            raise StopIteration()\n",
    "        word = self.words[self.index]\n",
    "        self.index += 1\n",
    "        return word\n",
    "    def __iter__(self):\n",
    "        return self"
   ]
  },
  {
   "cell_type": "code",
   "execution_count": 2,
   "metadata": {
    "slideshow": {
     "slide_type": "slide"
    }
   },
   "outputs": [
    {
     "name": "stdout",
     "output_type": "stream",
     "text": [
      "The\n",
      "Quick\n",
      "Brown\n",
      "Fox\n",
      "Jumps\n",
      "Over\n",
      "The\n",
      "Lazy\n",
      "Dog\n"
     ]
    }
   ],
   "source": [
    "iterable = CapitalIterable('the quick brown fox jumps over the lazy dog') #construct an iterable\n",
    "iterator = iter(iterable) #retrieve an iterator\n",
    "while True:\n",
    "    try:\n",
    "        print(next(iterator))\n",
    "    except StopIteration:\n",
    "        break"
   ]
  },
  {
   "cell_type": "markdown",
   "metadata": {
    "slideshow": {
     "slide_type": "slide"
    }
   },
   "source": [
    "Distinction:\n",
    "* The iterable is an object with elements that can be looped over\n",
    "* The iterator represents a specific location in the iterable"
   ]
  },
  {
   "cell_type": "markdown",
   "metadata": {
    "slideshow": {
     "slide_type": "slide"
    }
   },
   "source": [
    "Simpler syntax (which we've probably all used) for constructing an iterator from an iterable: use the _for_ statement. (\"... in spite of not looking terribly object-oriented, \\[the for statement\\] is actually a shortcut to some obviously object-oriented design principles.\")"
   ]
  },
  {
   "cell_type": "code",
   "execution_count": 3,
   "metadata": {
    "slideshow": {
     "slide_type": "slide"
    }
   },
   "outputs": [
    {
     "name": "stdout",
     "output_type": "stream",
     "text": [
      "The\n",
      "Quick\n",
      "Brown\n",
      "Fox\n",
      "Jumps\n",
      "Over\n",
      "The\n",
      "Lazy\n",
      "Dog\n"
     ]
    }
   ],
   "source": [
    "for i in iterable:\n",
    "    print(i)"
   ]
  },
  {
   "cell_type": "markdown",
   "metadata": {
    "slideshow": {
     "slide_type": "slide"
    }
   },
   "source": [
    "## Comprehensions\n",
    "\n",
    "__Comprehensions__ are a more concise and optimized syntax which allow us to efficiently transform or filter an iterable oject. The resultant object can be a:\n",
    "* list\n",
    "* set\n",
    "* dictionary\n",
    "* generator expression"
   ]
  },
  {
   "cell_type": "markdown",
   "metadata": {},
   "source": [
    "__List comprehensions__ are one of the most powerful yet trivial tools in Python..."
   ]
  },
  {
   "cell_type": "code",
   "execution_count": 10,
   "metadata": {
    "slideshow": {
     "slide_type": "slide"
    }
   },
   "outputs": [
    {
     "name": "stdout",
     "output_type": "stream",
     "text": [
      "[1, 5, 28, 131, 3]\n"
     ]
    }
   ],
   "source": [
    "#Without list comprehension:\n",
    "input_strings = ['1', '5', '28', '131', '3']\n",
    "\n",
    "output_integers = []\n",
    "for num in input_strings:\n",
    "    output_integers.append(int(num))\n",
    "    \n",
    "#With list comprehension:\n",
    "input_strings = ['1', '5', '28', '131', '3']\n",
    "\n",
    "output_integers = [int(num) for num in input_strings]\n",
    "print(output_integers)"
   ]
  },
  {
   "cell_type": "markdown",
   "metadata": {
    "slideshow": {
     "slide_type": "slide"
    }
   },
   "source": [
    "Note:\n",
    "* Comprehensions are highly optimized C code\n",
    "* List comprehensions are far faster than _for_ loops when looping over a huge number of items\n",
    "\n",
    "We can also make list comprehensions more complex by adding in conditions..."
   ]
  },
  {
   "cell_type": "code",
   "execution_count": 9,
   "metadata": {
    "slideshow": {
     "slide_type": "slide"
    }
   },
   "outputs": [
    {
     "name": "stdout",
     "output_type": "stream",
     "text": [
      "[1, 5, 28, 3]\n"
     ]
    }
   ],
   "source": [
    "output_ints = [int(n) for n in input_strings if len(n) < 3]\n",
    "print(output_ints)"
   ]
  },
  {
   "cell_type": "markdown",
   "metadata": {
    "slideshow": {
     "slide_type": "slide"
    }
   },
   "source": [
    "Note: \n",
    "\n",
    "* Any iterable can be the input to a list comprehension\n",
    "* Anything we can wrap in a _for_ loop can also be inside inside a comprehension\n",
    "    * For example, text files are iterable"
   ]
  },
  {
   "cell_type": "code",
   "execution_count": 16,
   "metadata": {
    "slideshow": {
     "slide_type": "slide"
    }
   },
   "outputs": [],
   "source": [
    "#Example -- won't actually run unless you make an emails.txt file\n",
    "filename = \"emails.txt\"\n",
    "with open(filename) as file:\n",
    "    header = file.readline().strip().split('\\t')\n",
    "    contacts = [\n",
    "        dict(\n",
    "            zip(header, line.strip().split('\\t'))\n",
    "            ) for line in file\n",
    "        ]\n",
    "for contact in contacts:\n",
    "    print(\"email: {email} -- {last}, {first}\".format(\n",
    "        **contact))\n",
    "#Note: this code is hard to understand, read, and maintain\n",
    "    #List comprehensions aren't always the best solution, depending on how easily you want people to be able to read your code"
   ]
  },
  {
   "cell_type": "markdown",
   "metadata": {
    "slideshow": {
     "slide_type": "slide"
    }
   },
   "source": [
    "We can use a similar syntax with braces to create sets and dictionaries as well. We'll start with __set comprehensions__."
   ]
  },
  {
   "cell_type": "code",
   "execution_count": 17,
   "metadata": {
    "slideshow": {
     "slide_type": "slide"
    }
   },
   "outputs": [
    {
     "name": "stdout",
     "output_type": "stream",
     "text": [
      "{'Le Guin', 'Pratchett', 'Turner'}\n"
     ]
    }
   ],
   "source": [
    "from collections import namedtuple\n",
    "\n",
    "Book = namedtuple(\"Book\", \"author title genre\")\n",
    "books = [\n",
    "    Book(\"Pratchett\", \"Nightwatch\", \"fantasy\"),\n",
    "    Book(\"Pratchett\", \"Thief Of Time\", \"fantasy\"),\n",
    "    Book(\"Le Guin\", \"The Dispossessed\", \"scifi\"),\n",
    "    Book(\"Le Guin\", \"A Wizard Of Earthsea\", \"fantasy\"),\n",
    "    Book(\"Turner\", \"The Thief\", \"fantasy\"),\n",
    "    Book(\"Phillips\", \"Preston Diamond\", \"western\"),\n",
    "    Book(\"Phillips\", \"Twice Upon A Time\", \"scifi\"),\n",
    "    ]\n",
    "#set comprehension:\n",
    "fantasy_authors = {\n",
    "    b.author for b in books if b.genre == 'fantasy'}\n",
    "\n",
    "print(fantasy_authors)"
   ]
  },
  {
   "cell_type": "markdown",
   "metadata": {},
   "source": [
    "Note: list comprehension would not have removed duplicates."
   ]
  },
  {
   "cell_type": "markdown",
   "metadata": {
    "slideshow": {
     "slide_type": "slide"
    }
   },
   "source": [
    "For __dictionary comprehensions__, we use a colon:"
   ]
  },
  {
   "cell_type": "code",
   "execution_count": 19,
   "metadata": {},
   "outputs": [
    {
     "name": "stdout",
     "output_type": "stream",
     "text": [
      "{'Nightwatch': Book(author='Pratchett', title='Nightwatch', genre='fantasy'), 'Thief Of Time': Book(author='Pratchett', title='Thief Of Time', genre='fantasy'), 'A Wizard Of Earthsea': Book(author='Le Guin', title='A Wizard Of Earthsea', genre='fantasy'), 'The Thief': Book(author='Turner', title='The Thief', genre='fantasy')}\n"
     ]
    }
   ],
   "source": [
    "#set comprehension (for comparison):\n",
    "fantasy_authors = {\n",
    "    b.author for b in books if b.genre == 'fantasy'}\n",
    "\n",
    "#dictionary comprehension:\n",
    "fantasy_titles = {\n",
    "    b.title: b for b in books if b.genre == 'fantasy'}\n",
    "\n",
    "print(fantasy_titles)"
   ]
  },
  {
   "cell_type": "markdown",
   "metadata": {
    "slideshow": {
     "slide_type": "slide"
    }
   },
   "source": [
    "## Generator Expressions\n",
    "\n",
    "When processing one item at a time, we only need the current object stored in memory at any one moment. This cuts down on the memory we would otherwise waste by creating a container for all the objects. \n",
    "\n",
    "For large amounts of data, creating a list (comprehension) might overload RAM, but we saw before that _for_ loops aren't as efficient.\n",
    "\n",
    "Generator expressions use the same sytnax as comprehensions, but they don't create a final container object. To create a generator expression, wrap the comprehension in () instead of \\[\\] or {}.\n"
   ]
  },
  {
   "cell_type": "code",
   "execution_count": 22,
   "metadata": {
    "slideshow": {
     "slide_type": "slide"
    }
   },
   "outputs": [
    {
     "data": {
      "image/png": "[encoded data removed]",
      "text/plain": [
       "<IPython.core.display.Image object>"
      ]
     },
     "execution_count": 22,
     "metadata": {},
     "output_type": "execute_result"
    }
   ],
   "source": [
    "from IPython.display import Image\n",
    "Image(\"C:\\\\Users\\\\ellen\\\\OneDrive\\\\MyDocs\\\\Earth Lab Internship\\\\General Coding\\\\log_example.PNG\")\n",
    "\n",
    "# Example: processing log files..."
   ]
  },
  {
   "cell_type": "code",
   "execution_count": null,
   "metadata": {
    "slideshow": {
     "slide_type": "-"
    }
   },
   "outputs": [],
   "source": [
    "# This code will print out lines from the log file that have \"WARNING\" in the second column\n",
    "with open(inname) as infile:\n",
    "    with open(outname, \"w\") as outfile:\n",
    "        warnings = (l for l in infile if 'WARNING' in l) #generator expression\n",
    "        for l in warnings:\n",
    "            outfile.write(l)"
   ]
  },
  {
   "cell_type": "markdown",
   "metadata": {
    "slideshow": {
     "slide_type": "slide"
    }
   },
   "source": [
    "Note:\n",
    "* Generator expressions are frequently most useful inside function calls\n",
    "    * For example: call sum, min, max on a generator expression instead of a list\n",
    "* In general, use a generator expression whenever possible\n",
    "    * If we simply need to filter or convert items in a sequence, a generator expression will be most efficient\n",
    "    * If we need to know the length of a list, sort the result, remove duplicates, or create a dictionary, we'll have to use the comprehension syntax"
   ]
  },
  {
   "cell_type": "markdown",
   "metadata": {
    "slideshow": {
     "slide_type": "slide"
    }
   },
   "source": [
    "If we wanted to delete the \"WARNING\" column from our output file, we have several options, with various levels of readability."
   ]
  },
  {
   "cell_type": "code",
   "execution_count": null,
   "metadata": {
    "slideshow": {
     "slide_type": "-"
    }
   },
   "outputs": [],
   "source": [
    "#Using a generator expression:\n",
    "with open(inname) as infile:\n",
    "    with open(outname, \"w\") as outfile:\n",
    "        warnings = (l.replace('\\tWARNING', '')\n",
    "            for l in infile if 'WARNING' in l)\n",
    "        for l in warnings:\n",
    "            outfile.write(l)\n",
    "#Using a for loop:\n",
    "with open(inname) as infile:\n",
    "    with open(outname, \"w\") as outfile:\n",
    "        for l in infile:\n",
    "            if 'WARNING' in l:\n",
    "                outfile.write(l.replace('\\tWARNING', ''))"
   ]
  },
  {
   "cell_type": "code",
   "execution_count": null,
   "metadata": {
    "slideshow": {
     "slide_type": "slide"
    }
   },
   "outputs": [],
   "source": [
    "#Truly object-oriented, but ugly and difficult to read:\n",
    "class WarningFilter:\n",
    "    def __init__(self, insequence):\n",
    "        self.insequence = insequence\n",
    "    def __iter__(self):\n",
    "        return self\n",
    "    def __next__(self):\n",
    "        l = self.insequence.readline()\n",
    "        while l and 'WARNING' not in l:\n",
    "            l = self.insequence.readline()\n",
    "        if not l:\n",
    "            raise StopIteration\n",
    "        return l.replace('\\tWARNING', '')\n",
    "    \n",
    "    with open(inname) as infile:\n",
    "        with open(outname, \"w\") as outfile:\n",
    "            filter = WarningFilter(infile)\n",
    "            for l in filter:\n",
    "                outfile.write(l)"
   ]
  },
  {
   "cell_type": "markdown",
   "metadata": {
    "slideshow": {
     "slide_type": "slide"
    }
   },
   "source": [
    "This code does exactly the same thing as the previous (class) code: it creates an object with a \\_\\_next\\_\\_ method that raises _StopIteration_ when it's out of inputs."
   ]
  },
  {
   "cell_type": "code",
   "execution_count": null,
   "metadata": {},
   "outputs": [],
   "source": [
    "def warnings_filter(insequence):\n",
    "    for l in insequence:\n",
    "        if 'WARNING' in l:\n",
    "            yield l.replace('\\tWARNING', '') #only yields lines that contain \"WARNING\"\n",
    "        \n",
    "with open(inname) as infile:\n",
    "    with open(outname, \"w\") as outfile:\n",
    "        filter = warnings_filter(infile)\n",
    "        for l in filter:\n",
    "            outfile.write(l)\n"
   ]
  },
  {
   "cell_type": "code",
   "execution_count": 23,
   "metadata": {
    "slideshow": {
     "slide_type": "slide"
    }
   },
   "outputs": [],
   "source": [
    "def warnings_filter(insequence):\n",
    "    for l in insequence:\n",
    "        if 'WARNING' in l:\n",
    "            yield l.replace('\\tWARNING', '') #only yields lines that contain \"WARNING\""
   ]
  },
  {
   "cell_type": "markdown",
   "metadata": {
    "slideshow": {
     "slide_type": "-"
    }
   },
   "source": [
    "* __yield__ is the key to generators\n",
    "* Similar to the __return__ statement, except when it exits the function and the function is called again (via next()), it will start where it left off -- on the line after the __yield__ statement -- instead of at the beginning of the function.\n",
    "    * In the code above, there is no line \"after\" the __yield__, so it jumps to the next iteration of the _for_ loop. \n",
    "* This function creates a generator object (see below)\n"
   ]
  },
  {
   "cell_type": "code",
   "execution_count": 24,
   "metadata": {
    "slideshow": {
     "slide_type": "-"
    }
   },
   "outputs": [
    {
     "name": "stdout",
     "output_type": "stream",
     "text": [
      "<generator object warnings_filter at 0x0000014ABFC56150>\n"
     ]
    }
   ],
   "source": [
    " print(warnings_filter([]))"
   ]
  },
  {
   "cell_type": "markdown",
   "metadata": {
    "slideshow": {
     "slide_type": "slide"
    }
   },
   "source": [
    "Note:\n",
    "* Generators aren't that advanced, but it helps to remember that the function is creating an object\n",
    "* You can get powerful effects by making multiple calls to __yield__ in a single function\n",
    "    * The generator will pick up the most recent __yield__ and continue to the next one"
   ]
  },
  {
   "cell_type": "markdown",
   "metadata": {
    "slideshow": {
     "slide_type": "slide"
    }
   },
   "source": [
    "Often, when we build a generator function, we end up in a situation where we want to yield data from another iterable object, such as:\n",
    "* a list comprehension or generator expression we constructed inside the generator\n",
    "* external items that were passed into the function, such as a filename\n"
   ]
  },
  {
   "cell_type": "code",
   "execution_count": null,
   "metadata": {
    "slideshow": {
     "slide_type": "slide"
    }
   },
   "outputs": [],
   "source": [
    "def warnings_filter(infilename): \n",
    "    with open(infilename) as infile: #Author made a remark about proper Python coding means trying to keep functions as general \n",
    "        # as possible -- so not hard-coding in the use of a filename, rather than memory or a web-based aggregator...\n",
    "        yield from (\n",
    "            l.replace('\\tWARNING', '') #transformation\n",
    "            for l in infile #loop\n",
    "            if 'WARNING' in l #filter\n",
    "        )\n",
    "        \n",
    "filter = warnings_filter(inname)\n",
    "with open(outname, \"w\") as outfile:\n",
    "    for l in filter:\n",
    "        outfile.write(l)"
   ]
  },
  {
   "cell_type": "markdown",
   "metadata": {},
   "source": [
    "This still isn't that easy to read..."
   ]
  },
  {
   "cell_type": "markdown",
   "metadata": {
    "slideshow": {
     "slide_type": "slide"
    }
   },
   "source": [
    "More readable: construct a generator that yields data from multiple other generators.\n",
    "\n",
    "For example: the __itertools.chain__ function yields data from iterables in sequences until they have all been exhausted.\n",
    "\n",
    "This is implemented easily using the __yield from__ syntax..."
   ]
  },
  {
   "cell_type": "code",
   "execution_count": 25,
   "metadata": {
    "slideshow": {
     "slide_type": "slide"
    }
   },
   "outputs": [],
   "source": [
    "# Example: walking a general tree (Unix filesystem)\n",
    "\n",
    "#setup:\n",
    "class File:\n",
    "    def __init__(self, name):\n",
    "        self.name = name     \n",
    "class Folder(File):\n",
    "    def __init__(self, name):\n",
    "        super().__init__(name)\n",
    "        self.children = []\n",
    "root = Folder('')\n",
    "etc = Folder('etc')\n",
    "root.children.append(etc)\n",
    "etc.children.append(File('passwd'))\n",
    "etc.children.append(File('groups'))\n",
    "httpd = Folder('httpd')\n",
    "etc.children.append(httpd)\n",
    "httpd.children.append(File('http.conf'))\n",
    "var = Folder('var')\n",
    "root.children.append(var)\n",
    "log = Folder('log')\n",
    "var.children.append(log)\n",
    "log.children.append(File('messages'))\n",
    "log.children.append(File('kernel'))"
   ]
  },
  {
   "cell_type": "markdown",
   "metadata": {
    "slideshow": {
     "slide_type": "slide"
    }
   },
   "source": [
    "The setup was a bit of work, but once in memory, the code that outputs every file in the filesystem is quite elegant:"
   ]
  },
  {
   "cell_type": "code",
   "execution_count": 31,
   "metadata": {},
   "outputs": [
    {
     "data": {
      "text/plain": [
       "<generator object walk at 0x0000014ABFCA7780>"
      ]
     },
     "execution_count": 31,
     "metadata": {},
     "output_type": "execute_result"
    }
   ],
   "source": [
    "def walk(file):\n",
    "    if isinstance(file, Folder): #if directory, recursively generate a list of all files subordinate to each of its children\n",
    "        # then yeilds all that data its own filename\n",
    "        yield file.name + '/'\n",
    "        for f in file.children:\n",
    "            yield from walk(f)\n",
    "    else:\n",
    "        yield file.name\n",
    "\n",
    "# Let's talk about this:\n",
    "walk('root')"
   ]
  },
  {
   "cell_type": "markdown",
   "metadata": {
    "slideshow": {
     "slide_type": "slide"
    }
   },
   "source": [
    "## Coroutines\n",
    "In addition to being a useful shortcut when writing chained generators, the __yield from__ syntax is more commonly used for piping data through coroutines. \n",
    "\n",
    "__*Coroutines*__ are extremely powerful constructs that are often confused with generators.\n",
    "\n",
    "Note: coroutines are pretty hard to understand, and not used that often in the wild. \n",
    "\n",
    "One confusing fact: when you create a coroutine in Python, the object returned is a generator."
   ]
  },
  {
   "cell_type": "code",
   "execution_count": 33,
   "metadata": {
    "slideshow": {
     "slide_type": "slide"
    }
   },
   "outputs": [
    {
     "name": "stdout",
     "output_type": "stream",
     "text": [
      "0\n",
      "2\n",
      "5\n"
     ]
    }
   ],
   "source": [
    "#Simple coroutine:\n",
    "def tally():\n",
    "    score = 0\n",
    "    while True:\n",
    "        increment = yield score\n",
    "        score += increment\n",
    "\n",
    "blue = tally()\n",
    "print(next(blue))\n",
    "print(blue.send(2))\n",
    "print(blue.send(3))"
   ]
  },
  {
   "cell_type": "markdown",
   "metadata": {},
   "source": [
    "__send__ does exactly the same thing as __next__, except in addition to advancing the generator to the next __yield__ statement, it allows you to pass in a value from outside the generator. "
   ]
  },
  {
   "cell_type": "markdown",
   "metadata": {
    "slideshow": {
     "slide_type": "slide"
    }
   },
   "source": [
    "Order:\n",
    "* __yield__ occurs and the generator pauses\n",
    "* __send()__ occurs from outside the function and the generator wakes up\n",
    "* the value sent in is assigned to the left side of the __yield__ statement\n",
    "* the generator continues processing until it encounters another __yield__ statement\n",
    "\n",
    "Note: __send()__ both submits a value to the generator and returns the value from the upcoming __yield__ statement, just like __next()__. \n",
    "\n",
    "*Thus: a generator only produces values, while a coroutine can also consume them.*"
   ]
  },
  {
   "cell_type": "code",
   "execution_count": 35,
   "metadata": {
    "slideshow": {
     "slide_type": "slide"
    }
   },
   "outputs": [],
   "source": [
    "import re\n",
    "def match_regex(filename, regex): #search for the next important line in the file\n",
    "    with open(filename) as file:\n",
    "        lines = file.readlines()\n",
    "    for line in reversed(lines):\n",
    "        match = re.match(regex, line)\n",
    "        if match:\n",
    "            regex = yield match.groups()[0] #this yield with assignment syntax makes match_regex a coroutine\n",
    "def get_serials(filename): #decide which line is important\n",
    "    ERROR_RE = 'XFS ERROR (\\[sd[a-z]\\])'\n",
    "    matcher = match_regex(filename, ERROR_RE)\n",
    "    device = next(matcher)\n",
    "    while True:\n",
    "        bus = matcher.send('(sd \\S+) {}.*'.format(re.escape(device)))\n",
    "        serial = matcher.send('{} \\(SERIAL=([^)]*)\\)'.format(bus))\n",
    "        yield serial #yields to the outside for loop (print statement); this yield syntax makes get_serial a generator\n",
    "        device = matcher.send(ERROR_RE)\n",
    "\n",
    "# for serial_number in get_serials('EXAMPLE_LOG.log'):\n",
    "#     print(serial_number)"
   ]
  },
  {
   "cell_type": "markdown",
   "metadata": {
    "slideshow": {
     "slide_type": "slide"
    }
   },
   "source": [
    "### Closing coroutines and throwing exceptions\n",
    "\n",
    "Generators:\n",
    "* Normally signal their exit from inside by raising _StopIteration_\n",
    "* Propagate _StopIteration_ outwards when we chain multiple generators together\n",
    "    * Eventually hit a _for_ loop that will see the exception and know it's time to exit the loop\n",
    "    \n",
    "..."
   ]
  },
  {
   "cell_type": "markdown",
   "metadata": {
    "slideshow": {
     "slide_type": "slide"
    }
   },
   "source": [
    "... Coroutines:\n",
    "* Don't normally follow the iteration mechanism\n",
    "* Entity pushing data through (using __send()__) is normally in charge of telling the coroutine when it's finished\n",
    "    * It does this by calling the __close()__ method on the coroutine in question\n",
    "        * Raises a _GeneratorExit_ exception at the point the coroutine was waiting for a value to be sent in.\n",
    "    * Normally good policy for coroutines to wrap their __yield__ statements in a __try...finally__ block \n",
    "        * Perform cleanup tasks (e.g., closing associated files)\n",
    "* Can use __throw()__ inside a coroutine to cause a chain of exceptions (with traceback) "
   ]
  },
  {
   "cell_type": "markdown",
   "metadata": {
    "slideshow": {
     "slide_type": "slide"
    }
   },
   "source": [
    "## Coroutines, Generators, and Functions\n",
    "\n",
    "* In Python, the distinction between coroutines and generators is blurry. \n",
    "    * All coroutines are generator objects; many authors use the terms interchangeably.\n",
    "* In CS at large, generators are considered a specific type of coroutine.\n",
    "* A coroutine is a routine that can have data passed in at one or more points and get it out at one or more points.\n",
    "    * In Python, the point where data is passed in or out is the __yield__ statement."
   ]
  },
  {
   "cell_type": "markdown",
   "metadata": {
    "slideshow": {
     "slide_type": "slide"
    }
   },
   "source": [
    "\n",
    "* A function, or subroutine, is the simplest type of coroutine.\n",
    "* A generator is a type of coroutine that can have data passed in at one point, but can pass data out at multiple points.\n",
    "* In Python, both generators and coroutines are constructed using syntax that looks like we are constructing a function, but we're actually constructing a totally different kind of object.\n"
   ]
  },
  {
   "cell_type": "markdown",
   "metadata": {
    "slideshow": {
     "slide_type": "slide"
    }
   },
   "source": [
    "In summary:\n",
    "    \n",
    "* Functions are callable and have return values\n",
    "* Generators have data pulled out using __next()__\n",
    "* Coroutines have data pushed in using __send()__"
   ]
  },
  {
   "cell_type": "markdown",
   "metadata": {
    "slideshow": {
     "slide_type": "slide"
    }
   },
   "source": [
    "Case Study (pages 291 - 298)..."
   ]
  }
 ],
 "metadata": {
  "celltoolbar": "Slideshow",
  "kernelspec": {
   "display_name": "Python 3",
   "language": "python",
   "name": "python3"
  },
  "language_info": {
   "codemirror_mode": {
    "name": "ipython",
    "version": 3
   },
   "file_extension": ".py",
   "mimetype": "text/x-python",
   "name": "python",
   "nbconvert_exporter": "python",
   "pygments_lexer": "ipython3",
   "version": "3.6.5"
  }
 },
 "nbformat": 4,
 "nbformat_minor": 2
}
