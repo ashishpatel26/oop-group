{
 "cells": [
  {
   "cell_type": "markdown",
   "metadata": {},
   "source": [
    "## Strings, Regex, and Serialization \n",
    "\n",
    "#### Will Norris"
   ]
  },
  {
   "cell_type": "code",
   "execution_count": 21,
   "metadata": {
    "slideshow": {
     "slide_type": "slide"
    }
   },
   "outputs": [
    {
     "name": "stdout",
     "output_type": "stream",
     "text": [
      "multi\n",
      "line \n",
      "string\n"
     ]
    }
   ],
   "source": [
    "a = '''multi\n",
    "line \n",
    "string'''\n",
    "print(a)"
   ]
  },
  {
   "cell_type": "code",
   "execution_count": 5,
   "metadata": {},
   "outputs": [
    {
     "name": "stdout",
     "output_type": "stream",
     "text": [
      "AddTheseStrings\n"
     ]
    }
   ],
   "source": [
    "concat = (\"Add\" \"These\" \"Strings\")\n",
    "print(concat)"
   ]
  },
  {
   "cell_type": "code",
   "execution_count": 7,
   "metadata": {
    "slideshow": {
     "slide_type": "slide"
    }
   },
   "outputs": [
    {
     "data": {
      "text/plain": [
       "['__add__',\n",
       " '__class__',\n",
       " '__contains__',\n",
       " '__delattr__',\n",
       " '__dir__',\n",
       " '__doc__',\n",
       " '__eq__',\n",
       " '__format__',\n",
       " '__ge__',\n",
       " '__getattribute__',\n",
       " '__getitem__',\n",
       " '__getnewargs__',\n",
       " '__gt__',\n",
       " '__hash__',\n",
       " '__init__',\n",
       " '__init_subclass__',\n",
       " '__iter__',\n",
       " '__le__',\n",
       " '__len__',\n",
       " '__lt__',\n",
       " '__mod__',\n",
       " '__mul__',\n",
       " '__ne__',\n",
       " '__new__',\n",
       " '__reduce__',\n",
       " '__reduce_ex__',\n",
       " '__repr__',\n",
       " '__rmod__',\n",
       " '__rmul__',\n",
       " '__setattr__',\n",
       " '__sizeof__',\n",
       " '__str__',\n",
       " '__subclasshook__',\n",
       " 'capitalize',\n",
       " 'casefold',\n",
       " 'center',\n",
       " 'count',\n",
       " 'encode',\n",
       " 'endswith',\n",
       " 'expandtabs',\n",
       " 'find',\n",
       " 'format',\n",
       " 'format_map',\n",
       " 'index',\n",
       " 'isalnum',\n",
       " 'isalpha',\n",
       " 'isdecimal',\n",
       " 'isdigit',\n",
       " 'isidentifier',\n",
       " 'islower',\n",
       " 'isnumeric',\n",
       " 'isprintable',\n",
       " 'isspace',\n",
       " 'istitle',\n",
       " 'isupper',\n",
       " 'join',\n",
       " 'ljust',\n",
       " 'lower',\n",
       " 'lstrip',\n",
       " 'maketrans',\n",
       " 'partition',\n",
       " 'replace',\n",
       " 'rfind',\n",
       " 'rindex',\n",
       " 'rjust',\n",
       " 'rpartition',\n",
       " 'rsplit',\n",
       " 'rstrip',\n",
       " 'split',\n",
       " 'splitlines',\n",
       " 'startswith',\n",
       " 'strip',\n",
       " 'swapcase',\n",
       " 'title',\n",
       " 'translate',\n",
       " 'upper',\n",
       " 'zfill']"
      ]
     },
     "execution_count": 7,
     "metadata": {},
     "output_type": "execute_result"
    }
   ],
   "source": [
    "# see all of the string methods available \n",
    "dir(str)"
   ]
  },
  {
   "cell_type": "markdown",
   "metadata": {
    "slideshow": {
     "slide_type": "slide"
    }
   },
   "source": [
    "### Accessing String Methods: "
   ]
  },
  {
   "cell_type": "code",
   "execution_count": 34,
   "metadata": {
    "slideshow": {
     "slide_type": "-"
    }
   },
   "outputs": [
    {
     "name": "stdout",
     "output_type": "stream",
     "text": [
      "False\n",
      "False\n"
     ]
    }
   ],
   "source": [
    "# Boolean methods \n",
    "test_str = \"I like to eat pizza\"\n",
    "\n",
    "# get it straight from the class \n",
    "print(str.isalpha(test_str))\n",
    "# or use the inherited method in our subclass!\n",
    "print(test_str.isalpha())"
   ]
  },
  {
   "cell_type": "code",
   "execution_count": 15,
   "metadata": {},
   "outputs": [
    {
     "data": {
      "text/plain": [
       "True"
      ]
     },
     "execution_count": 15,
     "metadata": {},
     "output_type": "execute_result"
    }
   ],
   "source": [
    "title = \"I Like To Eat Pizza\"\n",
    "title.istitle()"
   ]
  },
  {
   "cell_type": "markdown",
   "metadata": {
    "slideshow": {
     "slide_type": "slide"
    }
   },
   "source": [
    "#### Numbers and Strings, Unicode is weird \n",
    "- The period, \".\", is not the decimal character in unicode  "
   ]
  },
  {
   "cell_type": "code",
   "execution_count": 18,
   "metadata": {},
   "outputs": [
    {
     "name": "stdout",
     "output_type": "stream",
     "text": [
      "False\n",
      "True\n"
     ]
    }
   ],
   "source": [
    "# numbers and strings \n",
    "decimal = '45.2'\n",
    "print(decimal.isdecimal())\n",
    "\n",
    "decimal2 = '45\\u06602'\n",
    "print(decimal2.isdecimal())"
   ]
  },
  {
   "cell_type": "markdown",
   "metadata": {},
   "source": [
    "##### Python doesn't like this though:"
   ]
  },
  {
   "cell_type": "code",
   "execution_count": 20,
   "metadata": {},
   "outputs": [
    {
     "name": "stdout",
     "output_type": "stream",
     "text": [
      "45.2\n",
      "4502.0\n"
     ]
    }
   ],
   "source": [
    "print(float(decimal))\n",
    "print(float(decimal2))"
   ]
  },
  {
   "cell_type": "markdown",
   "metadata": {
    "slideshow": {
     "slide_type": "slide"
    }
   },
   "source": [
    "### Built in Pattern Finding & Manipulation: "
   ]
  },
  {
   "cell_type": "code",
   "execution_count": 24,
   "metadata": {},
   "outputs": [
    {
     "name": "stdout",
     "output_type": "stream",
     "text": [
      "1\n",
      "0\n",
      "1\n"
     ]
    }
   ],
   "source": [
    "s = \"Hi my name is Will\"\n",
    "\n",
    "print(s.count('Will'))\n",
    "print(s.count('will'))\n",
    "\n",
    "print(s.lower().count('will'))"
   ]
  },
  {
   "cell_type": "code",
   "execution_count": 44,
   "metadata": {},
   "outputs": [
    {
     "name": "stdout",
     "output_type": "stream",
     "text": [
      "['Use', 'Arcpy', 'to', 'buffer', 'the', 'points', 'in', 'your', 'shapefile']\n",
      "\n",
      "Use Arcpy to buffer the points in your shapefile\n",
      "\n",
      "Use Geopandas to buffer the points in your shapefile\n"
     ]
    }
   ],
   "source": [
    "s = \"Use Arcpy to buffer the points in your shapefile\"\n",
    "\n",
    "split = s.split()\n",
    "\n",
    "print(split)\n",
    "print()\n",
    "print(\" \".join(split))\n",
    "print()\n",
    "print(s.replace(\"Arcpy\", \"Geopandas\"))"
   ]
  },
  {
   "cell_type": "markdown",
   "metadata": {
    "slideshow": {
     "slide_type": "slide"
    }
   },
   "source": [
    "### Quick Note: \n",
    "- Every time we manipulate a string and assign to a new variable name, we use more memory \n",
    "- If you can, reuse the same variable name to preserve memory "
   ]
  },
  {
   "cell_type": "code",
   "execution_count": 33,
   "metadata": {},
   "outputs": [
    {
     "name": "stdout",
     "output_type": "stream",
     "text": [
      "ArcMap 10.x still uses python 2.x\n",
      "arcmap 10.x still uses python 2.x\n",
      "arcmap 10.x still uses python 2.x\n"
     ]
    }
   ],
   "source": [
    "s = \"ArcMap 10.x still uses python 2.x\"\n",
    "s_low = s.lower()\n",
    "print(s)\n",
    "print(s_low)\n",
    "\n",
    "s = s.lower()\n",
    "print(s)"
   ]
  },
  {
   "cell_type": "markdown",
   "metadata": {
    "slideshow": {
     "slide_type": "slide"
    }
   },
   "source": [
    "### String Formatting: \n",
    "- Uses ```*args``` and ```**kwargs``` to pass information \n",
    "    - This means it doesn't really care if we pass too much information "
   ]
  },
  {
   "cell_type": "code",
   "execution_count": 135,
   "metadata": {},
   "outputs": [
    {
     "name": "stdout",
     "output_type": "stream",
     "text": [
      "Please clip  the points in your shapefile using Shapely\n",
      "Please buffer the points in your shapefile using Geopandas\n"
     ]
    }
   ],
   "source": [
    "template = \"Please {} the points in your shapefile using {}\"\n",
    "print(template.format('clip ', 'Shapely'))\n",
    "print(template.format('buffer', 'Geopandas', 'whatamidoinghere?'))"
   ]
  },
  {
   "cell_type": "markdown",
   "metadata": {
    "slideshow": {
     "slide_type": "slide"
    }
   },
   "source": [
    " ### Using formatting parameters out of order or more than once: "
   ]
  },
  {
   "cell_type": "code",
   "execution_count": 48,
   "metadata": {},
   "outputs": [
    {
     "name": "stdout",
     "output_type": "stream",
     "text": [
      "Please clip the points using shapely. Make sure to use shapely and not arcpy.\n"
     ]
    }
   ],
   "source": [
    "template = \"Please {0} the points using {1}. Make sure to use {1} and not {2}.\"\n",
    "print(template.format('clip', 'shapely', 'arcpy'))"
   ]
  },
  {
   "cell_type": "markdown",
   "metadata": {
    "slideshow": {
     "slide_type": "slide"
    }
   },
   "source": [
    "### Escaping Braces: \n",
    "- sometimes we want to print '{' and not have them be purely formatting objects\n",
    "- double braces '{{' achieves this "
   ]
  },
  {
   "cell_type": "code",
   "execution_count": 49,
   "metadata": {},
   "outputs": [
    {
     "name": "stdout",
     "output_type": "stream",
     "text": [
      "\n",
      "   public class MyClass {\n",
      "       public static void main(String[] args) {\n",
      "           System.out.println(\"print('hello world')\");\n",
      "} }\n"
     ]
    }
   ],
   "source": [
    "template = \"\"\"\n",
    "   public class {0} {{\n",
    "       public static void main(String[] args) {{\n",
    "           System.out.println(\"{1}\");\n",
    "}} }}\"\"\"\n",
    "print(template.format(\"MyClass\", \"print('hello world')\"))"
   ]
  },
  {
   "cell_type": "markdown",
   "metadata": {
    "slideshow": {
     "slide_type": "slide"
    }
   },
   "source": [
    "### Keyword Arguments: \n",
    "- Formatting complex strings can be a pain to keep organized \n",
    "    - So, python lets us pass keyword arguments instead (parameters)"
   ]
  },
  {
   "cell_type": "code",
   "execution_count": 53,
   "metadata": {},
   "outputs": [
    {
     "name": "stdout",
     "output_type": "stream",
     "text": [
      "\n",
      "   From: <a@example.com>\n",
      "   To: <b@example.com>\n",
      "   Subject: 2.7?!?!\n",
      "   Did you know ArcMap 10.x still uses python 2.x?? \n"
     ]
    }
   ],
   "source": [
    "template = \"\"\"\n",
    "   From: <{from_email}>\n",
    "   To: <{to_email}>\n",
    "   Subject: {subject}\n",
    "   {message}\"\"\"\n",
    "\n",
    "print(template.format(\n",
    "    from_email = \"will@example.com\",\n",
    "    to_email = \"bob@example.com\",\n",
    "    message = \"Did you know ArcMap 10.x still uses python 2.x?? \",\n",
    "    subject = \"2.7?!?!\"))"
   ]
  },
  {
   "cell_type": "markdown",
   "metadata": {
    "slideshow": {
     "slide_type": "slide"
    }
   },
   "source": [
    "### Mixing Keyword and Positional arguments: \n",
    "- Works fine as long as we put positional arguments first!"
   ]
  },
  {
   "cell_type": "code",
   "execution_count": 9,
   "metadata": {},
   "outputs": [
    {
     "name": "stdout",
     "output_type": "stream",
     "text": [
      "I like geopandas more than arcpy\n"
     ]
    }
   ],
   "source": [
    "print(\"{} like {soft} {} than {soft2}\".format(\"I\",\"more\", soft=\"geopandas\", soft2='arcpy'))"
   ]
  },
  {
   "cell_type": "markdown",
   "metadata": {
    "slideshow": {
     "slide_type": "slide"
    }
   },
   "source": [
    "### Container Lookups:\n",
    "- We can put so much more than strings into our ```format``` 💕\n",
    "    - Lists and Dicts can be indexed\n",
    "        - as both positional and keyword arguments\n",
    "    - Floats and Ints can be converted "
   ]
  },
  {
   "cell_type": "code",
   "execution_count": 10,
   "metadata": {},
   "outputs": [
    {
     "name": "stdout",
     "output_type": "stream",
     "text": [
      "\n",
      "    From: <will@example.com>\n",
      "    To: <bob@example.com>\n",
      "    Subject: Arcpy on 2.7?!? It will be deprecated this year!\n",
      "    \n"
     ]
    }
   ],
   "source": [
    "emails = (\"will@example.com\", \"bob@example.com\")\n",
    "\n",
    "message = {\n",
    "           'subject': \"Arcpy on 2.7?!?\",\n",
    "           'message': \"It will be deprecated this year!\"\n",
    "           }\n",
    "    \n",
    "template = \"\"\"\n",
    "    From: <{0[0]}>\n",
    "    To: <{0[1]}>\n",
    "    Subject: {message[subject]} {message[message]}\n",
    "    \"\"\" \n",
    "\n",
    "print(template.format(emails, message=message))"
   ]
  },
  {
   "cell_type": "markdown",
   "metadata": {
    "slideshow": {
     "slide_type": "subslide"
    }
   },
   "source": [
    "#### We can go nest crazy if we want to:"
   ]
  },
  {
   "cell_type": "code",
   "execution_count": 57,
   "metadata": {},
   "outputs": [
    {
     "name": "stdout",
     "output_type": "stream",
     "text": [
      "\n",
      "From: <will@example.com>\n",
      "To: <bob@example.com>\n",
      "Subject: Arcpy on 2.7?!?\n",
      "Maybe we should try open sourced software!\n"
     ]
    }
   ],
   "source": [
    "emails = (\"will@example.com\", \"bob@example.com\")\n",
    "message = {\n",
    "           'emails': emails,\n",
    "           'subject': \"Arcpy on 2.7?!?\",\n",
    "           'message': \"Maybe we should try open sourced software!\"\n",
    "           }\n",
    "template = \"\"\"\n",
    "From: <{0[emails][0]}>\n",
    "To: <{0[emails][1]}>\n",
    "Subject: {0[subject]}\n",
    "{0[message]}\"\"\"\n",
    "print(template.format(message))"
   ]
  },
  {
   "cell_type": "markdown",
   "metadata": {
    "slideshow": {
     "slide_type": "slide"
    }
   },
   "source": [
    "### Object Lookups: \n",
    "- Just like Containers, we can use objects in ```format```'s!\n",
    "    - Access attributes via ```object.attribute```\n",
    "- Slightly more readable than container lookups, but making a class for formatting has too much overhead \n",
    "    - only do this if the class already exists "
   ]
  },
  {
   "cell_type": "code",
   "execution_count": 60,
   "metadata": {},
   "outputs": [
    {
     "name": "stdout",
     "output_type": "stream",
     "text": [
      "\n",
      "From: <will@example.com>\n",
      "To: <bob@example.com>\n",
      "Subject: We could dump windows if we drop Arc!\n",
      "What are we waiting for exactly???\n"
     ]
    }
   ],
   "source": [
    "class EMail:\n",
    "    def __init__(self, from_addr, to_addr, subject, message):\n",
    "       self.from_addr = from_addr\n",
    "       self.to_addr = to_addr\n",
    "       self.subject = subject\n",
    "       self.message = message\n",
    "\n",
    "email = EMail(\"will@example.com\", \"bob@example.com\",\n",
    "        \"We could dump windows if we drop Arc!\",\n",
    "        \"What are we waiting for exactly???\")\n",
    "\n",
    "template = \"\"\"\n",
    "From: <{0.from_addr}>\n",
    "To: <{0.to_addr}>\n",
    "Subject: {0.subject}\n",
    "{0.message}\"\"\"\n",
    "print(template.format(email))"
   ]
  },
  {
   "cell_type": "markdown",
   "metadata": {
    "slideshow": {
     "slide_type": "slide"
    }
   },
   "source": [
    "### Making Things Pretty"
   ]
  },
  {
   "cell_type": "code",
   "execution_count": 61,
   "metadata": {},
   "outputs": [
    {
     "name": "stdout",
     "output_type": "stream",
     "text": [
      "Sub: $12.32 Tax: $0.8624 Total: $13.182400000000001\n"
     ]
    }
   ],
   "source": [
    "subtotal = 12.32\n",
    "tax = subtotal * 0.07\n",
    "total = subtotal + tax\n",
    "print(\"Sub: ${0} Tax: ${1} Total: ${total}\".format(\n",
    "   subtotal, tax, total=total))"
   ]
  },
  {
   "cell_type": "code",
   "execution_count": 62,
   "metadata": {},
   "outputs": [
    {
     "name": "stdout",
     "output_type": "stream",
     "text": [
      "Sub: $12.32 Tax: $0.86 Total: $13.18\n"
     ]
    }
   ],
   "source": [
    "print(\"Sub: ${0:0.2f} Tax: ${1:0.2f} \"\n",
    "       \"Total: ${total:0.2f}\".format(\n",
    "           subtotal, tax, total=total))"
   ]
  },
  {
   "cell_type": "code",
   "execution_count": 69,
   "metadata": {
    "slideshow": {
     "slide_type": "subslide"
    }
   },
   "outputs": [
    {
     "name": "stdout",
     "output_type": "stream",
     "text": [
      "PRODUCT    QUANTITY    PRICE    SUBTOTAL\n",
      "burger        5        $2.00    $ 10.00\n",
      "fries         1        $3.50    $  3.50\n",
      "cola          3        $1.75    $  5.25\n"
     ]
    }
   ],
   "source": [
    "orders = [('burger', 2, 5),\n",
    "           ('fries', 3.5, 1),\n",
    "           ('cola', 1.75, 3)]\n",
    "\n",
    "print(\"PRODUCT    QUANTITY    PRICE    SUBTOTAL\")\n",
    "\n",
    "for product, price, quantity in orders:\n",
    "    subtotal = price * quantity\n",
    "    print(\"{0:10s}{1: ^9d}    ${2: <8.2f}${3: >6.2f}\".format(\n",
    "       product, quantity, price, subtotal))"
   ]
  },
  {
   "cell_type": "markdown",
   "metadata": {},
   "source": [
    "- ```10s``` means it should take up 10 character spaces \n",
    "- ```^9d``` means it should be an int and take 8 characters \n",
    "    - ```^``` means align to center of padding \n",
    "- ```<``` and ```>``` tell us to align to the left or right\n",
    "- The ```6.2f``` means use 6 spaces and 2 decimal places "
   ]
  },
  {
   "cell_type": "markdown",
   "metadata": {
    "slideshow": {
     "slide_type": "slide"
    }
   },
   "source": [
    "### Formatter Types: \n",
    "- ```s,d,f``` = strings, integers, floats\n",
    "- ```o``` octal format\n",
    "- ```X``` hexidecimal \n",
    "- ```%``` multiply by 100 and format as percentage \n",
    "\n",
    "#### Datetime (and other libraries)have their own format syntax: "
   ]
  },
  {
   "cell_type": "code",
   "execution_count": 70,
   "metadata": {},
   "outputs": [
    {
     "name": "stdout",
     "output_type": "stream",
     "text": [
      "2019-02-16 11:55AM \n"
     ]
    }
   ],
   "source": [
    "import datetime\n",
    "print(\"{0:%Y-%m-%d %I:%M%p }\".format(\n",
    "       datetime.datetime.now()))"
   ]
  },
  {
   "cell_type": "markdown",
   "metadata": {
    "slideshow": {
     "slide_type": "slide"
    }
   },
   "source": [
    "### Strings are Unicode: \n",
    "- Strings in python are unicode characters\n",
    "- But when we receive strings of information they come in bytes!\n",
    "    - Bytes are the lowest-level storage format in computing \n",
    "    - 8 bits (either int 0-255 or hex 0-FF)\n",
    "   \n",
    "\"a\" => 97 => 0x61 => 01100001"
   ]
  },
  {
   "cell_type": "markdown",
   "metadata": {
    "slideshow": {
     "slide_type": "slide"
    }
   },
   "source": [
    "### Converting Bytes to Text: \n",
    "- Here we have hex ASCII characters and one non ASCII character \n",
    "    - Our shell understands latin-1, so it will auto-convert the ASCII characters"
   ]
  },
  {
   "cell_type": "code",
   "execution_count": 1,
   "metadata": {},
   "outputs": [
    {
     "name": "stdout",
     "output_type": "stream",
     "text": [
      "b'clich\\xe9'\n",
      "cliché\n"
     ]
    }
   ],
   "source": [
    "characters = b'\\x63\\x6c\\x69\\x63\\x68\\xe9' \n",
    "print(characters) \n",
    "print(characters.decode(\"latin-1\"))"
   ]
  },
  {
   "cell_type": "markdown",
   "metadata": {
    "slideshow": {
     "slide_type": "slide"
    }
   },
   "source": [
    "### Converting Text to Bytes: \n",
    "- We can easily ```encode``` characters to bytes in a given format"
   ]
  },
  {
   "cell_type": "code",
   "execution_count": 2,
   "metadata": {
    "scrolled": true
   },
   "outputs": [
    {
     "name": "stdout",
     "output_type": "stream",
     "text": [
      "b'clich\\xc3\\xa9'\n",
      "b'clich\\xe9'\n",
      "b'clich\\x82'\n"
     ]
    },
    {
     "ename": "UnicodeEncodeError",
     "evalue": "'ascii' codec can't encode character '\\xe9' in position 5: ordinal not in range(128)",
     "output_type": "error",
     "traceback": [
      "\u001b[0;31m---------------------------------------------------------------------------\u001b[0m",
      "\u001b[0;31mUnicodeEncodeError\u001b[0m                        Traceback (most recent call last)",
      "\u001b[0;32m<ipython-input-2-d989c14a1b96>\u001b[0m in \u001b[0;36m<module>\u001b[0;34m\u001b[0m\n\u001b[1;32m      3\u001b[0m \u001b[0mprint\u001b[0m\u001b[0;34m(\u001b[0m\u001b[0mcharacters\u001b[0m\u001b[0;34m.\u001b[0m\u001b[0mencode\u001b[0m\u001b[0;34m(\u001b[0m\u001b[0;34m\"latin-1\"\u001b[0m\u001b[0;34m)\u001b[0m\u001b[0;34m)\u001b[0m\u001b[0;34m\u001b[0m\u001b[0m\n\u001b[1;32m      4\u001b[0m \u001b[0mprint\u001b[0m\u001b[0;34m(\u001b[0m\u001b[0mcharacters\u001b[0m\u001b[0;34m.\u001b[0m\u001b[0mencode\u001b[0m\u001b[0;34m(\u001b[0m\u001b[0;34m\"CP437\"\u001b[0m\u001b[0;34m)\u001b[0m\u001b[0;34m)\u001b[0m\u001b[0;34m\u001b[0m\u001b[0m\n\u001b[0;32m----> 5\u001b[0;31m \u001b[0mprint\u001b[0m\u001b[0;34m(\u001b[0m\u001b[0mcharacters\u001b[0m\u001b[0;34m.\u001b[0m\u001b[0mencode\u001b[0m\u001b[0;34m(\u001b[0m\u001b[0;34m\"ascii\"\u001b[0m\u001b[0;34m)\u001b[0m\u001b[0;34m)\u001b[0m\u001b[0;34m\u001b[0m\u001b[0m\n\u001b[0m",
      "\u001b[0;31mUnicodeEncodeError\u001b[0m: 'ascii' codec can't encode character '\\xe9' in position 5: ordinal not in range(128)"
     ]
    }
   ],
   "source": [
    "characters = \"cliché\"\n",
    "print(characters.encode(\"UTF-8\"))\n",
    "print(characters.encode(\"latin-1\"))\n",
    "print(characters.encode(\"CP437\"))\n",
    "print(characters.encode(\"ascii\"))"
   ]
  },
  {
   "cell_type": "markdown",
   "metadata": {
    "slideshow": {
     "slide_type": "slide"
    }
   },
   "source": [
    "## Regular Expressions:\n",
    "- Given a string, determine whether that string matches a given pattern and, optionally, collect substrings that contain relevant information. \n",
    "- The real tool for parsing strings and pattern finding 👨🏼‍🔧\n",
    "- Hard to read, but really useful!!\n",
    "    - checking if a URL is valid\n",
    "    - Which available files are on the given band we are looking for \n",
    "    - etc, etc, etc (Strings have lots of useful information)"
   ]
  },
  {
   "cell_type": "code",
   "execution_count": 128,
   "metadata": {
    "slideshow": {
     "slide_type": "subslide"
    }
   },
   "outputs": [],
   "source": [
    "def match(search_str, pattern):\n",
    "    match = re.match(pattern, search_str)\n",
    "    if match:\n",
    "        return \"It Matches!\"\n",
    "    else:\n",
    "        return \"No Match!\""
   ]
  },
  {
   "cell_type": "markdown",
   "metadata": {
    "slideshow": {
     "slide_type": "slide"
    }
   },
   "source": [
    "### Matching Patterns: \n"
   ]
  },
  {
   "cell_type": "code",
   "execution_count": 129,
   "metadata": {},
   "outputs": [
    {
     "name": "stdout",
     "output_type": "stream",
     "text": [
      "It Matches!\n",
      "No Match!\n"
     ]
    }
   ],
   "source": [
    "import re\n",
    "search_string = \"hello world\"\n",
    "pattern1 = \"hello\"\n",
    "pattern2 = \"world\"\n",
    "print(match(search_string, pattern1))\n",
    "print(match(search_string, pattern2))"
   ]
  },
  {
   "cell_type": "markdown",
   "metadata": {
    "slideshow": {
     "slide_type": "subslide"
    }
   },
   "source": [
    "#### Notes: \n",
    "- ```match``` matches based on the beggining of the string \n",
    "    - We can use ```^``` and ```$``` to represent the start and end of a string"
   ]
  },
  {
   "cell_type": "code",
   "execution_count": 31,
   "metadata": {},
   "outputs": [
    {
     "name": "stdout",
     "output_type": "stream",
     "text": [
      "It Matches!\n",
      "No Match!\n"
     ]
    }
   ],
   "source": [
    "pat = \"^hello\"\n",
    "print(match(search_string, pat))\n",
    "# But, hello is not at the end of the string \n",
    "print(match(search_string, pat+'$'))"
   ]
  },
  {
   "cell_type": "markdown",
   "metadata": {
    "slideshow": {
     "slide_type": "slide"
    }
   },
   "source": [
    "### Matching a Selection of Characters: \n",
    "- In regex, the ```.``` represents any character wildcard "
   ]
  },
  {
   "cell_type": "code",
   "execution_count": 36,
   "metadata": {},
   "outputs": [
    {
     "name": "stdout",
     "output_type": "stream",
     "text": [
      "It Matches!\n",
      "No Match!\n"
     ]
    }
   ],
   "source": [
    "pat = \"hel.o\"\n",
    "print(match(\"hello world\", pat))\n",
    "\n",
    "print(match(\"hell world\", pat))"
   ]
  },
  {
   "cell_type": "markdown",
   "metadata": {
    "slideshow": {
     "slide_type": "subslide"
    }
   },
   "source": [
    "#### Matching on Specific Sets of Characters: "
   ]
  },
  {
   "cell_type": "code",
   "execution_count": 45,
   "metadata": {},
   "outputs": [
    {
     "name": "stdout",
     "output_type": "stream",
     "text": [
      "It Matches!\n",
      "It Matches!\n"
     ]
    }
   ],
   "source": [
    "# can be either \"l\" or \"p\"\n",
    "pat = \"hel[lp]o\"\n",
    "print(match(\"hello world\", pat))\n",
    "\n",
    "# optional for any letter in that spot (caps or not)\n",
    "pat = \"hel[a-zA-Z]o world\" \n",
    "print(match(\"hello world\", pat))"
   ]
  },
  {
   "cell_type": "markdown",
   "metadata": {
    "slideshow": {
     "slide_type": "slide"
    }
   },
   "source": [
    "### Characters That Must be Escaped: \n",
    "- ```. ^ $ * + > {} [] \\ | ()```\n",
    "- We will also use the ```finditer``` method to match patterns \n",
    "    - Before we only checked if a match occured, now we can store the match and where it is in the text"
   ]
  },
  {
   "cell_type": "code",
   "execution_count": 92,
   "metadata": {},
   "outputs": [
    {
     "name": "stdout",
     "output_type": "stream",
     "text": [
      "<_sre.SRE_Match object; span=(1, 5), match='0.99'>\n",
      "<_sre.SRE_Match object; span=(6, 10), match='0.00'>\n",
      "<_sre.SRE_Match object; span=(177, 181), match='0.67'>\n"
     ]
    }
   ],
   "source": [
    "text = '''\n",
    "0.99\n",
    "0.00\n",
    "Mr. William Norris\n",
    "Mrs. Josey Joserson \n",
    "Mr. Finch Fincherson \n",
    "Ms. Misty Misterson\n",
    "Mr Will \n",
    "Mrs Sanfransisco\n",
    "\n",
    "ArcMap 10.x\n",
    "ArcMap 10.9\n",
    "\n",
    "719-333-9095\n",
    "720-303-4242\n",
    "303.720.6767\n",
    "800-777-9494\n",
    "900-333-5435\n",
    "800-202-5454\n",
    "'''\n",
    "\n",
    "# we must escape the \".\"\n",
    "pattern = re.compile(\"0\\.[0-9][0-9]\")\n",
    "matches = pattern.finditer(text)\n",
    "for match in matches: print(match)"
   ]
  },
  {
   "cell_type": "code",
   "execution_count": 74,
   "metadata": {},
   "outputs": [
    {
     "name": "stdout",
     "output_type": "stream",
     "text": [
      "0.99\n",
      "0.00\n"
     ]
    }
   ],
   "source": [
    "print(text[1:5])\n",
    "print(text[6:10])"
   ]
  },
  {
   "cell_type": "markdown",
   "metadata": {
    "slideshow": {
     "slide_type": "slide"
    }
   },
   "source": [
    "### Pattern Matching with Regex: \n",
    "- ```.```  $\\rightarrow$   Any character except newline \n",
    "- ```\\d```  $\\rightarrow$  Digit (0-9)\n",
    "- ```\\D```  $\\rightarrow$  Not a Digit (0-9)\n",
    "- ```\\w```  $\\rightarrow$  Word Character \n",
    "- ```\\W```  $\\rightarrow$  Not a Word Character \n",
    "- ```\\s```  $\\rightarrow$  Whitespace\n",
    "- ```\\S```  $\\rightarrow$  Take a wild guess!\n",
    "- ```\\b```  $\\rightarrow$  Word Boundary \n",
    "- etc, etc, etc, refer to [the docs](https://docs.python.org/3/library/re.html)"
   ]
  },
  {
   "cell_type": "code",
   "execution_count": 67,
   "metadata": {
    "slideshow": {
     "slide_type": "subslide"
    }
   },
   "outputs": [
    {
     "name": "stdout",
     "output_type": "stream",
     "text": [
      "<_sre.SRE_Match object; span=(11, 13), match='Mr'>\n",
      "<_sre.SRE_Match object; span=(30, 32), match='Mr'>\n",
      "<_sre.SRE_Match object; span=(51, 53), match='Mr'>\n"
     ]
    }
   ],
   "source": [
    "pattern = re.compile(r'\\bMr')\n",
    "matches = pattern.finditer(text)\n",
    "for match in matches: print(match)"
   ]
  },
  {
   "cell_type": "code",
   "execution_count": 68,
   "metadata": {
    "slideshow": {
     "slide_type": "-"
    }
   },
   "outputs": [
    {
     "name": "stdout",
     "output_type": "stream",
     "text": [
      "<_sre.SRE_Match object; span=(11, 14), match='Mr.'>\n",
      "<_sre.SRE_Match object; span=(51, 54), match='Mr.'>\n"
     ]
    }
   ],
   "source": [
    "# To exclude Mrs. we need to ensure we only select men\n",
    "pattern = re.compile(r'\\bMr\\.')\n",
    "matches = pattern.finditer(text)\n",
    "for match in matches: print(match)"
   ]
  },
  {
   "cell_type": "code",
   "execution_count": 76,
   "metadata": {
    "slideshow": {
     "slide_type": "slide"
    }
   },
   "outputs": [
    {
     "name": "stdout",
     "output_type": "stream",
     "text": [
      "<_sre.SRE_Match object; span=(119, 131), match='719-333-9095'>\n",
      "<_sre.SRE_Match object; span=(132, 144), match='720-303-4242'>\n",
      "<_sre.SRE_Match object; span=(145, 157), match='303.720.6767'>\n"
     ]
    }
   ],
   "source": [
    "# lets grab all the phone numbers in our text \n",
    "pattern = re.compile(r'\\d\\d\\d[-.]\\d\\d\\d[-.]\\d\\d\\d\\d')\n",
    "matches = pattern.finditer(text)\n",
    "for match in matches: print(match)"
   ]
  },
  {
   "cell_type": "code",
   "execution_count": 81,
   "metadata": {
    "slideshow": {
     "slide_type": "-"
    }
   },
   "outputs": [
    {
     "name": "stdout",
     "output_type": "stream",
     "text": [
      "<_sre.SRE_Match object; span=(158, 170), match='800-777-9494'>\n",
      "<_sre.SRE_Match object; span=(171, 183), match='900-333-5435'>\n",
      "<_sre.SRE_Match object; span=(184, 196), match='800-202-5454'>\n"
     ]
    }
   ],
   "source": [
    "# only find 800 or 900 numbers\n",
    "pattern = re.compile(r'[89]00[-.]\\d\\d\\d[-.]\\d\\d\\d\\d')\n",
    "matches = pattern.finditer(text)\n",
    "for match in matches: print(match)"
   ]
  },
  {
   "cell_type": "markdown",
   "metadata": {
    "slideshow": {
     "slide_type": "slide"
    }
   },
   "source": [
    "### Character Sets Behave a Little Differently: "
   ]
  },
  {
   "cell_type": "code",
   "execution_count": 84,
   "metadata": {},
   "outputs": [
    {
     "name": "stdout",
     "output_type": "stream",
     "text": [
      "<_sre.SRE_Match object; span=(0, 1), match='\\n'>\n",
      "<_sre.SRE_Match object; span=(1, 2), match='0'>\n",
      "<_sre.SRE_Match object; span=(2, 3), match='.'>\n",
      "<_sre.SRE_Match object; span=(3, 4), match='9'>\n",
      "<_sre.SRE_Match object; span=(4, 5), match='9'>\n",
      "<_sre.SRE_Match object; span=(5, 6), match='\\n'>\n",
      "<_sre.SRE_Match object; span=(6, 7), match='0'>\n",
      "<_sre.SRE_Match object; span=(7, 8), match='.'>\n",
      "<_sre.SRE_Match object; span=(8, 9), match='0'>\n",
      "<_sre.SRE_Match object; span=(9, 10), match='0'>\n",
      "<_sre.SRE_Match object; span=(10, 11), match='\\n'>\n",
      "<_sre.SRE_Match object; span=(13, 14), match='.'>\n",
      "<_sre.SRE_Match object; span=(14, 15), match=' '>\n",
      "<_sre.SRE_Match object; span=(22, 23), match=' '>\n",
      "<_sre.SRE_Match object; span=(29, 30), match='\\n'>\n",
      "<_sre.SRE_Match object; span=(33, 34), match='.'>\n",
      "<_sre.SRE_Match object; span=(34, 35), match=' '>\n",
      "<_sre.SRE_Match object; span=(40, 41), match=' '>\n",
      "<_sre.SRE_Match object; span=(49, 50), match=' '>\n",
      "<_sre.SRE_Match object; span=(50, 51), match='\\n'>\n",
      "<_sre.SRE_Match object; span=(53, 54), match='.'>\n",
      "<_sre.SRE_Match object; span=(54, 55), match=' '>\n",
      "<_sre.SRE_Match object; span=(60, 61), match=' '>\n",
      "<_sre.SRE_Match object; span=(71, 72), match=' '>\n",
      "<_sre.SRE_Match object; span=(72, 73), match='\\n'>\n",
      "<_sre.SRE_Match object; span=(75, 76), match='.'>\n",
      "<_sre.SRE_Match object; span=(76, 77), match=' '>\n",
      "<_sre.SRE_Match object; span=(82, 83), match=' '>\n",
      "<_sre.SRE_Match object; span=(92, 93), match='\\n'>\n",
      "<_sre.SRE_Match object; span=(93, 94), match='\\n'>\n",
      "<_sre.SRE_Match object; span=(100, 101), match=' '>\n",
      "<_sre.SRE_Match object; span=(101, 102), match='1'>\n",
      "<_sre.SRE_Match object; span=(102, 103), match='0'>\n",
      "<_sre.SRE_Match object; span=(103, 104), match='.'>\n",
      "<_sre.SRE_Match object; span=(105, 106), match='\\n'>\n",
      "<_sre.SRE_Match object; span=(112, 113), match=' '>\n",
      "<_sre.SRE_Match object; span=(113, 114), match='1'>\n",
      "<_sre.SRE_Match object; span=(114, 115), match='0'>\n",
      "<_sre.SRE_Match object; span=(115, 116), match='.'>\n",
      "<_sre.SRE_Match object; span=(116, 117), match='9'>\n",
      "<_sre.SRE_Match object; span=(117, 118), match='\\n'>\n",
      "<_sre.SRE_Match object; span=(118, 119), match='\\n'>\n",
      "<_sre.SRE_Match object; span=(119, 120), match='7'>\n",
      "<_sre.SRE_Match object; span=(120, 121), match='1'>\n",
      "<_sre.SRE_Match object; span=(121, 122), match='9'>\n",
      "<_sre.SRE_Match object; span=(122, 123), match='-'>\n",
      "<_sre.SRE_Match object; span=(123, 124), match='3'>\n",
      "<_sre.SRE_Match object; span=(124, 125), match='3'>\n",
      "<_sre.SRE_Match object; span=(125, 126), match='3'>\n",
      "<_sre.SRE_Match object; span=(126, 127), match='-'>\n",
      "<_sre.SRE_Match object; span=(127, 128), match='9'>\n",
      "<_sre.SRE_Match object; span=(128, 129), match='0'>\n",
      "<_sre.SRE_Match object; span=(129, 130), match='9'>\n",
      "<_sre.SRE_Match object; span=(130, 131), match='5'>\n",
      "<_sre.SRE_Match object; span=(131, 132), match='\\n'>\n",
      "<_sre.SRE_Match object; span=(132, 133), match='7'>\n",
      "<_sre.SRE_Match object; span=(133, 134), match='2'>\n",
      "<_sre.SRE_Match object; span=(134, 135), match='0'>\n",
      "<_sre.SRE_Match object; span=(135, 136), match='-'>\n",
      "<_sre.SRE_Match object; span=(136, 137), match='3'>\n",
      "<_sre.SRE_Match object; span=(137, 138), match='0'>\n",
      "<_sre.SRE_Match object; span=(138, 139), match='3'>\n",
      "<_sre.SRE_Match object; span=(139, 140), match='-'>\n",
      "<_sre.SRE_Match object; span=(140, 141), match='4'>\n",
      "<_sre.SRE_Match object; span=(141, 142), match='2'>\n",
      "<_sre.SRE_Match object; span=(142, 143), match='4'>\n",
      "<_sre.SRE_Match object; span=(143, 144), match='2'>\n",
      "<_sre.SRE_Match object; span=(144, 145), match='\\n'>\n",
      "<_sre.SRE_Match object; span=(145, 146), match='3'>\n",
      "<_sre.SRE_Match object; span=(146, 147), match='0'>\n",
      "<_sre.SRE_Match object; span=(147, 148), match='3'>\n",
      "<_sre.SRE_Match object; span=(148, 149), match='.'>\n",
      "<_sre.SRE_Match object; span=(149, 150), match='7'>\n",
      "<_sre.SRE_Match object; span=(150, 151), match='2'>\n",
      "<_sre.SRE_Match object; span=(151, 152), match='0'>\n",
      "<_sre.SRE_Match object; span=(152, 153), match='.'>\n",
      "<_sre.SRE_Match object; span=(153, 154), match='6'>\n",
      "<_sre.SRE_Match object; span=(154, 155), match='7'>\n",
      "<_sre.SRE_Match object; span=(155, 156), match='6'>\n",
      "<_sre.SRE_Match object; span=(156, 157), match='7'>\n",
      "<_sre.SRE_Match object; span=(157, 158), match='\\n'>\n",
      "<_sre.SRE_Match object; span=(158, 159), match='8'>\n",
      "<_sre.SRE_Match object; span=(159, 160), match='0'>\n",
      "<_sre.SRE_Match object; span=(160, 161), match='0'>\n",
      "<_sre.SRE_Match object; span=(161, 162), match='-'>\n",
      "<_sre.SRE_Match object; span=(162, 163), match='7'>\n",
      "<_sre.SRE_Match object; span=(163, 164), match='7'>\n",
      "<_sre.SRE_Match object; span=(164, 165), match='7'>\n",
      "<_sre.SRE_Match object; span=(165, 166), match='-'>\n",
      "<_sre.SRE_Match object; span=(166, 167), match='9'>\n",
      "<_sre.SRE_Match object; span=(167, 168), match='4'>\n",
      "<_sre.SRE_Match object; span=(168, 169), match='9'>\n",
      "<_sre.SRE_Match object; span=(169, 170), match='4'>\n",
      "<_sre.SRE_Match object; span=(170, 171), match='\\n'>\n",
      "<_sre.SRE_Match object; span=(171, 172), match='9'>\n",
      "<_sre.SRE_Match object; span=(172, 173), match='0'>\n",
      "<_sre.SRE_Match object; span=(173, 174), match='0'>\n",
      "<_sre.SRE_Match object; span=(174, 175), match='-'>\n",
      "<_sre.SRE_Match object; span=(175, 176), match='3'>\n",
      "<_sre.SRE_Match object; span=(176, 177), match='3'>\n",
      "<_sre.SRE_Match object; span=(177, 178), match='3'>\n",
      "<_sre.SRE_Match object; span=(178, 179), match='-'>\n",
      "<_sre.SRE_Match object; span=(179, 180), match='5'>\n",
      "<_sre.SRE_Match object; span=(180, 181), match='4'>\n",
      "<_sre.SRE_Match object; span=(181, 182), match='3'>\n",
      "<_sre.SRE_Match object; span=(182, 183), match='5'>\n",
      "<_sre.SRE_Match object; span=(183, 184), match='\\n'>\n",
      "<_sre.SRE_Match object; span=(184, 185), match='8'>\n",
      "<_sre.SRE_Match object; span=(185, 186), match='0'>\n",
      "<_sre.SRE_Match object; span=(186, 187), match='0'>\n",
      "<_sre.SRE_Match object; span=(187, 188), match='-'>\n",
      "<_sre.SRE_Match object; span=(188, 189), match='2'>\n",
      "<_sre.SRE_Match object; span=(189, 190), match='0'>\n",
      "<_sre.SRE_Match object; span=(190, 191), match='2'>\n",
      "<_sre.SRE_Match object; span=(191, 192), match='-'>\n",
      "<_sre.SRE_Match object; span=(192, 193), match='5'>\n",
      "<_sre.SRE_Match object; span=(193, 194), match='4'>\n",
      "<_sre.SRE_Match object; span=(194, 195), match='5'>\n",
      "<_sre.SRE_Match object; span=(195, 196), match='4'>\n",
      "<_sre.SRE_Match object; span=(196, 197), match='\\n'>\n"
     ]
    }
   ],
   "source": [
    "# '^' negates in a character set instead of setting to begining \n",
    "pattern = re.compile(r'[^a-zA-Z]')\n",
    "matches = pattern.finditer(text)\n",
    "for match in matches: print(match)"
   ]
  },
  {
   "cell_type": "markdown",
   "metadata": {
    "slideshow": {
     "slide_type": "slide"
    }
   },
   "source": [
    "### Matching Multiple Characters: \n",
    "Quantifiers: \n",
    "- ```*```  $\\rightarrow$  0 or more \n",
    "- ```+```  $\\rightarrow$  1 or more \n",
    "- ```?```   $\\rightarrow$ 0 or 1\n",
    "- ```{3}```   $\\rightarrow$ exactly 3 things\n",
    "- ```{3,4}```  $\\rightarrow$  range of 3-4 things "
   ]
  },
  {
   "cell_type": "code",
   "execution_count": 86,
   "metadata": {
    "slideshow": {
     "slide_type": "subslide"
    }
   },
   "outputs": [
    {
     "name": "stdout",
     "output_type": "stream",
     "text": [
      "<_sre.SRE_Match object; span=(119, 131), match='719-333-9095'>\n",
      "<_sre.SRE_Match object; span=(132, 144), match='720-303-4242'>\n",
      "<_sre.SRE_Match object; span=(145, 157), match='303.720.6767'>\n",
      "<_sre.SRE_Match object; span=(158, 170), match='800-777-9494'>\n",
      "<_sre.SRE_Match object; span=(171, 183), match='900-333-5435'>\n",
      "<_sre.SRE_Match object; span=(184, 196), match='800-202-5454'>\n"
     ]
    }
   ],
   "source": [
    "pattern = re.compile(r'\\d{3}.\\d{3}.\\d{4}')\n",
    "matches = pattern.finditer(text)\n",
    "for match in matches: print(match)"
   ]
  },
  {
   "cell_type": "code",
   "execution_count": 96,
   "metadata": {},
   "outputs": [
    {
     "name": "stdout",
     "output_type": "stream",
     "text": [
      "<_sre.SRE_Match object; span=(11, 22), match='Mr. William'>\n",
      "<_sre.SRE_Match object; span=(51, 60), match='Mr. Finch'>\n",
      "<_sre.SRE_Match object; span=(93, 100), match='Mr Will'>\n"
     ]
    }
   ],
   "source": [
    "# match the names of all the \"Mr\"s w/ or w/o period  \n",
    "pattern = re.compile(r'Mr\\.?\\s[A-Z]\\w*') # can also be (r'Mr\\.?\\s[A-Z][a-z]*')\n",
    "matches = pattern.finditer(text)\n",
    "for match in matches: print(match)"
   ]
  },
  {
   "cell_type": "code",
   "execution_count": 99,
   "metadata": {},
   "outputs": [
    {
     "name": "stdout",
     "output_type": "stream",
     "text": [
      "<_sre.SRE_Match object; span=(11, 22), match='Mr. William'>\n",
      "<_sre.SRE_Match object; span=(30, 40), match='Mrs. Josey'>\n",
      "<_sre.SRE_Match object; span=(51, 60), match='Mr. Finch'>\n",
      "<_sre.SRE_Match object; span=(73, 82), match='Ms. Misty'>\n",
      "<_sre.SRE_Match object; span=(93, 100), match='Mr Will'>\n",
      "<_sre.SRE_Match object; span=(102, 118), match='Mrs Sanfransisco'>\n"
     ]
    }
   ],
   "source": [
    "# match all of our names \n",
    "pattern = re.compile(r'M(r|s|rs)\\.?\\s[A-Z]\\w*')\n",
    "matches = pattern.finditer(text)\n",
    "for match in matches: print(match)"
   ]
  },
  {
   "cell_type": "code",
   "execution_count": 110,
   "metadata": {
    "slideshow": {
     "slide_type": "slide"
    }
   },
   "outputs": [],
   "source": [
    "emails = '''\n",
    "WillN@gmail.com\n",
    "will_norris@icloud.com\n",
    "wino6687@colorado.edu\n",
    "ilikepizza@pizza.org\n",
    "will.norris@icloud.com\n",
    "'''"
   ]
  },
  {
   "cell_type": "code",
   "execution_count": 111,
   "metadata": {
    "slideshow": {
     "slide_type": "subslide"
    }
   },
   "outputs": [
    {
     "name": "stdout",
     "output_type": "stream",
     "text": [
      "<_sre.SRE_Match object; span=(1, 16), match='WillN@gmail.com'>\n",
      "<_sre.SRE_Match object; span=(22, 39), match='norris@icloud.com'>\n",
      "<_sre.SRE_Match object; span=(62, 82), match='ilikepizza@pizza.org'>\n",
      "<_sre.SRE_Match object; span=(88, 105), match='norris@icloud.com'>\n"
     ]
    }
   ],
   "source": [
    "pattern = re.compile(r'[a-zA-Z]+@[a-zA-z]+\\.[a-z]+')\n",
    "matches = pattern.finditer(emails)\n",
    "for match in matches: print(match)"
   ]
  },
  {
   "cell_type": "code",
   "execution_count": 112,
   "metadata": {},
   "outputs": [
    {
     "name": "stdout",
     "output_type": "stream",
     "text": [
      "<_sre.SRE_Match object; span=(1, 16), match='WillN@gmail.com'>\n",
      "<_sre.SRE_Match object; span=(17, 39), match='will_norris@icloud.com'>\n",
      "<_sre.SRE_Match object; span=(40, 61), match='wino6687@colorado.edu'>\n",
      "<_sre.SRE_Match object; span=(62, 82), match='ilikepizza@pizza.org'>\n",
      "<_sre.SRE_Match object; span=(83, 105), match='will.norris@icloud.com'>\n"
     ]
    }
   ],
   "source": [
    "# we aren't allowing for characters other than text\n",
    "pattern = re.compile(r'[a-zA-Z0-9_.]+@[a-zA-z]+\\.[a-z]+')\n",
    "matches = pattern.finditer(emails)\n",
    "for match in matches: print(match)"
   ]
  },
  {
   "cell_type": "markdown",
   "metadata": {
    "slideshow": {
     "slide_type": "slide"
    }
   },
   "source": [
    "### Creating Groups in Regex"
   ]
  },
  {
   "cell_type": "code",
   "execution_count": 130,
   "metadata": {},
   "outputs": [],
   "source": [
    "urls = '''\n",
    "https://www.google.com\n",
    "http://willmnorris.com\n",
    "https://youtube.com\n",
    "https://www.nasa.gov\n",
    "'''"
   ]
  },
  {
   "cell_type": "code",
   "execution_count": 131,
   "metadata": {
    "slideshow": {
     "slide_type": "subslide"
    }
   },
   "outputs": [
    {
     "name": "stdout",
     "output_type": "stream",
     "text": [
      "https://www.google.com\n",
      "google\n",
      "\n",
      "http://willmnorris.com\n",
      "willmnorris\n",
      "\n",
      "https://youtube.com\n",
      "youtube\n",
      "\n",
      "https://www.nasa.gov\n",
      "nasa\n",
      "\n"
     ]
    }
   ],
   "source": [
    "pattern = re.compile(r'https?://(www\\.)?(\\w+)(\\.\\w+)')\n",
    "matches = pattern.finditer(urls)\n",
    "for match in matches: \n",
    "    print(match.group(0))\n",
    "    print(match.group(2))\n",
    "    print()"
   ]
  },
  {
   "cell_type": "code",
   "execution_count": 132,
   "metadata": {
    "slideshow": {
     "slide_type": "subslide"
    }
   },
   "outputs": [
    {
     "name": "stdout",
     "output_type": "stream",
     "text": [
      "\n",
      "google.com\n",
      "willmnorris.com\n",
      "youtube.com\n",
      "nasa.gov\n",
      "\n"
     ]
    }
   ],
   "source": [
    "# we can extract information using grouping (group 2 and 3)\n",
    "subbed_urls = pattern.sub(r'\\2\\3', urls)\n",
    "print(subbed_urls)"
   ]
  },
  {
   "cell_type": "markdown",
   "metadata": {},
   "source": [
    "## Serializing Objects: \n",
    "- Often, we want to store code to use it later \n",
    "- When we transfer data, it isn't in its complete structured format\n",
    "    - We encode data down to bytes and send binary or other broken down data formats over transmission lines\n",
    "- In python ```pickle``` allows us to store objects in a serialized manner \n",
    "    - Converts code down to bytes that can be transported easily\n",
    "- Serialization is very similar in concept to compression "
   ]
  },
  {
   "cell_type": "code",
   "execution_count": 134,
   "metadata": {
    "slideshow": {
     "slide_type": "slide"
    }
   },
   "outputs": [
    {
     "name": "stdout",
     "output_type": "stream",
     "text": [
      "['a list', 'containing', 5, 'values including another list', ['inner', 'list']]\n"
     ]
    }
   ],
   "source": [
    "import pickle\n",
    "\n",
    "some_data = ['a list', 'containing', 5, \n",
    "             'values including another list',['inner', 'list']]\n",
    "\n",
    "with open(\"pickled_list\", 'wb') as file:\n",
    "    pickle.dump(some_data, file)\n",
    "    \n",
    "with open(\"pickled_list\", 'rb') as file:\n",
    "    loaded_data = pickle.load(file)\n",
    "\n",
    "print(loaded_data)\n",
    "assert loaded_data == some_data"
   ]
  },
  {
   "cell_type": "markdown",
   "metadata": {},
   "source": [
    "Contents of Pickled List: ![](https://i.ibb.co/S05Vtcn/Screen-Shot-2019-02-19-at-4-04-32-PM.png)\n"
   ]
  },
  {
   "cell_type": "code",
   "execution_count": null,
   "metadata": {
    "slideshow": {
     "slide_type": "slide"
    }
   },
   "outputs": [],
   "source": []
  },
  {
   "cell_type": "code",
   "execution_count": null,
   "metadata": {},
   "outputs": [],
   "source": []
  },
  {
   "cell_type": "code",
   "execution_count": null,
   "metadata": {},
   "outputs": [],
   "source": []
  },
  {
   "cell_type": "code",
   "execution_count": null,
   "metadata": {},
   "outputs": [],
   "source": []
  },
  {
   "cell_type": "code",
   "execution_count": null,
   "metadata": {},
   "outputs": [],
   "source": []
  },
  {
   "cell_type": "code",
   "execution_count": null,
   "metadata": {},
   "outputs": [],
   "source": []
  },
  {
   "cell_type": "code",
   "execution_count": null,
   "metadata": {},
   "outputs": [],
   "source": []
  }
 ],
 "metadata": {
  "celltoolbar": "Slideshow",
  "kernelspec": {
   "display_name": "Python 3",
   "language": "python",
   "name": "python3"
  },
  "language_info": {
   "codemirror_mode": {
    "name": "ipython",
    "version": 3
   },
   "file_extension": ".py",
   "mimetype": "text/x-python",
   "name": "python",
   "nbconvert_exporter": "python",
   "pygments_lexer": "ipython3",
   "version": "3.6.6"
  }
 },
 "nbformat": 4,
 "nbformat_minor": 2
}
