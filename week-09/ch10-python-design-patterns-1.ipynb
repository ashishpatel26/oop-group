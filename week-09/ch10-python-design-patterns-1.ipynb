{
 "cells": [
  {
   "cell_type": "markdown",
   "metadata": {
    "slideshow": {
     "slide_type": "slide"
    }
   },
   "source": [
    "## Python Design Patterns I (Chapter 10)\n",
    "\n",
    "### Decorator Pattern\n",
    "\n",
    "*allows us to \"wrap\" an object that provides core functionality with other objects that alter this functionality. Any object that uses the decorated object will interact with it in exactly the same way as if it were undecorated* (Dusty Phillips, pg 301)\n",
    "\n",
    "*A function that takes another function as an argument and adds some kind of functionality and then returns another function. All of this without altering the source code of the original function that you passed in.* (Corey Schafer <a href=\"https://www.youtube.com/watch?v=FsAPt_9Bf3U\" target=\"_blank\">min 4:48</a>)\n",
    "\n",
    "#### Why Use It?\n",
    "\n",
    "* to expand on the response of a function/component, before/as the response is sent to a second component\n",
    "* to allow for multiple optional behaviors (as an alternative to multiple inheritance)"
   ]
  },
  {
   "cell_type": "code",
   "execution_count": 1,
   "metadata": {
    "slideshow": {
     "slide_type": "slide"
    }
   },
   "outputs": [],
   "source": [
    "# Quick review of nested functions\n",
    "def outer_function():\n",
    "    message = 'Hi!'\n",
    "    \n",
    "    def inner_function():\n",
    "        print(message)\n",
    "   \n",
    "    # inner_function is called\n",
    "    return inner_function()"
   ]
  },
  {
   "cell_type": "code",
   "execution_count": 2,
   "metadata": {
    "slideshow": {
     "slide_type": "fragment"
    }
   },
   "outputs": [
    {
     "name": "stdout",
     "output_type": "stream",
     "text": [
      "Hi!\n"
     ]
    }
   ],
   "source": [
    "# We can call the outer_function\n",
    "outer_function()"
   ]
  },
  {
   "cell_type": "code",
   "execution_count": 5,
   "metadata": {
    "slideshow": {
     "slide_type": "fragment"
    }
   },
   "outputs": [
    {
     "name": "stdout",
     "output_type": "stream",
     "text": [
      "Hi!\n"
     ]
    },
    {
     "ename": "TypeError",
     "evalue": "'NoneType' object is not callable",
     "output_type": "error",
     "traceback": [
      "\u001b[0;31m---------------------------------------------------------------------------\u001b[0m",
      "\u001b[0;31mTypeError\u001b[0m                                 Traceback (most recent call last)",
      "\u001b[0;32m<ipython-input-5-cc4f14b1f3c9>\u001b[0m in \u001b[0;36m<module>\u001b[0;34m()\u001b[0m\n\u001b[1;32m      2\u001b[0m \u001b[0mmy_func\u001b[0m \u001b[0;34m=\u001b[0m \u001b[0mouter_function\u001b[0m\u001b[0;34m(\u001b[0m\u001b[0;34m)\u001b[0m\u001b[0;34m\u001b[0m\u001b[0m\n\u001b[1;32m      3\u001b[0m \u001b[0;34m\u001b[0m\u001b[0m\n\u001b[0;32m----> 4\u001b[0;31m \u001b[0mmy_func\u001b[0m\u001b[0;34m(\u001b[0m\u001b[0;34m)\u001b[0m\u001b[0;34m\u001b[0m\u001b[0m\n\u001b[0m",
      "\u001b[0;31mTypeError\u001b[0m: 'NoneType' object is not callable"
     ]
    }
   ],
   "source": [
    "# But we cannot create a new instance of the outer_function\n",
    "my_func = outer_function()\n",
    "my_func()"
   ]
  },
  {
   "cell_type": "code",
   "execution_count": 4,
   "metadata": {
    "slideshow": {
     "slide_type": "slide"
    }
   },
   "outputs": [],
   "source": [
    "# Quick review of closures:\n",
    "    # Requires nested function that refers to a value defined\n",
    "    # in the enclosing function, which returns the nested function\n",
    "def outer_function():\n",
    "    message = 'Hi!'\n",
    "    \n",
    "    def inner_function():\n",
    "        print(message)\n",
    "    \n",
    "    # Closure returns the inner function \n",
    "    # that can access variables created in local scope\n",
    "    return inner_function"
   ]
  },
  {
   "cell_type": "code",
   "execution_count": 5,
   "metadata": {
    "slideshow": {
     "slide_type": "fragment"
    }
   },
   "outputs": [
    {
     "data": {
      "text/plain": [
       "<function __main__.outer_function.<locals>.inner_function()>"
      ]
     },
     "execution_count": 5,
     "metadata": {},
     "output_type": "execute_result"
    }
   ],
   "source": [
    "# inner_function is returned, waiting to be executed\n",
    "outer_function()"
   ]
  },
  {
   "cell_type": "code",
   "execution_count": 6,
   "metadata": {
    "slideshow": {
     "slide_type": "fragment"
    }
   },
   "outputs": [
    {
     "name": "stdout",
     "output_type": "stream",
     "text": [
      "Hi!\n"
     ]
    }
   ],
   "source": [
    "# Now, we can create a new instance of the outer_function\n",
    "my_func = outer_function()\n",
    "my_func()"
   ]
  },
  {
   "cell_type": "code",
   "execution_count": 9,
   "metadata": {
    "slideshow": {
     "slide_type": "slide"
    }
   },
   "outputs": [],
   "source": [
    "# Closures With Arguments\n",
    "def outer_function(msg):\n",
    "    def inner_function():\n",
    "        print(msg)    \n",
    "    return inner_function"
   ]
  },
  {
   "cell_type": "code",
   "execution_count": 10,
   "metadata": {
    "slideshow": {
     "slide_type": "fragment"
    }
   },
   "outputs": [
    {
     "name": "stdout",
     "output_type": "stream",
     "text": [
      "Hi!\n",
      "Bye!\n"
     ]
    }
   ],
   "source": [
    "# Closure returns the message variable\n",
    "# passed to the outer_function\n",
    "hi_func = outer_function('Hi!')\n",
    "bye_func = outer_function('Bye!')\n",
    "\n",
    "hi_func()\n",
    "bye_func()"
   ]
  },
  {
   "cell_type": "code",
   "execution_count": 13,
   "metadata": {
    "slideshow": {
     "slide_type": "slide"
    }
   },
   "outputs": [],
   "source": [
    "# From closure, which accepts a message as an argument\n",
    "def decorator_function(msg):\n",
    "    def wrapper_function():\n",
    "        print(msg)    \n",
    "    return wrapper_function"
   ]
  },
  {
   "cell_type": "code",
   "execution_count": 14,
   "metadata": {
    "slideshow": {
     "slide_type": "fragment"
    }
   },
   "outputs": [],
   "source": [
    "# To decorator, which accepts a function as an argument\n",
    "def decorator_function(original_function):\n",
    "    def wrapper_function():\n",
    "        \n",
    "        # So we can add functionality to the wrapper\n",
    "        # without the need to modify the original_function\n",
    "        print('wrapper executed this before {}'.format(original_function.__name__))        \n",
    "        return original_function()  \n",
    "    return wrapper_function\n",
    "\n",
    "def display():\n",
    "    print('display function ran')"
   ]
  },
  {
   "cell_type": "code",
   "execution_count": 15,
   "metadata": {
    "slideshow": {
     "slide_type": "fragment"
    }
   },
   "outputs": [
    {
     "name": "stdout",
     "output_type": "stream",
     "text": [
      "wrapper executed this before display\n",
      "display function ran\n"
     ]
    }
   ],
   "source": [
    "# display function is passed to decorator_function\n",
    "# which returns a wrapper function that is waiting to be executed\n",
    "decorated_display = decorator_function(display)\n",
    "decorated_display()"
   ]
  },
  {
   "cell_type": "code",
   "execution_count": 16,
   "metadata": {
    "slideshow": {
     "slide_type": "slide"
    }
   },
   "outputs": [],
   "source": [
    "# Cleaner implementation of decorator\n",
    "def decorator_function(original_function):\n",
    "    def wrapper_function():\n",
    "        print('wrapper executed this before {}'.format(original_function.__name__))        \n",
    "        return original_function()  \n",
    "    return wrapper_function\n",
    "\n",
    "# This syntax clearly indicates that function has been decorated at definition\n",
    "@decorator_function\n",
    "def display():\n",
    "    print('display function ran')"
   ]
  },
  {
   "cell_type": "code",
   "execution_count": 17,
   "metadata": {
    "slideshow": {
     "slide_type": "fragment"
    }
   },
   "outputs": [
    {
     "name": "stdout",
     "output_type": "stream",
     "text": [
      "wrapper executed this before display\n",
      "display function ran\n"
     ]
    }
   ],
   "source": [
    "# No need to explicitly pass original_function to decorator_function\n",
    "# i.e. decorated_display = decorator_function(display)\n",
    "display()"
   ]
  },
  {
   "cell_type": "code",
   "execution_count": 18,
   "metadata": {
    "slideshow": {
     "slide_type": "slide"
    }
   },
   "outputs": [],
   "source": [
    "# What if original_function takes arguments?\n",
    "def decorator_function(original_function):\n",
    "    def wrapper_function():\n",
    "        print('wrapper executed this before {}'.format(original_function.__name__))        \n",
    "        return original_function()  \n",
    "    return wrapper_function\n",
    "\n",
    "@decorator_function\n",
    "def display_info(name, age):\n",
    "    print('display_info function ran with arguments ({}, {})'.format(name, age))"
   ]
  },
  {
   "cell_type": "code",
   "execution_count": 19,
   "metadata": {
    "slideshow": {
     "slide_type": "fragment"
    }
   },
   "outputs": [
    {
     "ename": "TypeError",
     "evalue": "wrapper_function() takes 0 positional arguments but 2 were given",
     "output_type": "error",
     "traceback": [
      "\u001b[0;31m---------------------------------------------------------------------------\u001b[0m",
      "\u001b[0;31mTypeError\u001b[0m                                 Traceback (most recent call last)",
      "\u001b[0;32m<ipython-input-19-ff2b70fd10f1>\u001b[0m in \u001b[0;36m<module>\u001b[0;34m()\u001b[0m\n\u001b[1;32m      1\u001b[0m \u001b[0;31m# Does not work\u001b[0m\u001b[0;34m\u001b[0m\u001b[0;34m\u001b[0m\u001b[0m\n\u001b[0;32m----> 2\u001b[0;31m \u001b[0mdisplay_info\u001b[0m\u001b[0;34m(\u001b[0m\u001b[0;34m\"Jane\"\u001b[0m\u001b[0;34m,\u001b[0m \u001b[0;36m50\u001b[0m\u001b[0;34m)\u001b[0m\u001b[0;34m\u001b[0m\u001b[0m\n\u001b[0m",
      "\u001b[0;31mTypeError\u001b[0m: wrapper_function() takes 0 positional arguments but 2 were given"
     ]
    }
   ],
   "source": [
    "# Does not work\n",
    "display_info(\"Jane\", 50)"
   ]
  },
  {
   "cell_type": "code",
   "execution_count": 20,
   "metadata": {
    "slideshow": {
     "slide_type": "slide"
    }
   },
   "outputs": [],
   "source": [
    "# We need to be able to pass a variable number of arguments to wrapper\n",
    "def decorator_function(original_function):\n",
    "    def wrapper_function(*args, **kwargs):\n",
    "        print('wrapper executed this before {}'.format(original_function.__name__))        \n",
    "        return original_function(*args, **kwargs)  \n",
    "    return wrapper_function\n",
    "\n",
    "@decorator_function\n",
    "def display_info(name, age):\n",
    "    print('display_info function ran with arguments ({}, {})'.format(name, age))"
   ]
  },
  {
   "cell_type": "code",
   "execution_count": 21,
   "metadata": {
    "slideshow": {
     "slide_type": "fragment"
    }
   },
   "outputs": [
    {
     "name": "stdout",
     "output_type": "stream",
     "text": [
      "wrapper executed this before display_info\n",
      "display_info function ran with arguments (Jane, 50)\n"
     ]
    }
   ],
   "source": [
    "display_info(\"Jane\", 50)\n",
    "\n",
    "# For decorators that take arguments, see: https://www.youtube.com/watch?v=KlBPCzcQNU8&t=3s"
   ]
  },
  {
   "cell_type": "markdown",
   "metadata": {
    "slideshow": {
     "slide_type": "slide"
    }
   },
   "source": [
    "### Observer Pattern\n",
    "\n",
    "*useful for state monitoring and event handling situations... allows a given object to be monitored by an unknown and dynamic group of \"observer\" objects* (Dusty Phillips, pg 307)\n",
    "\n",
    "#### Why Use It?\n",
    "\n",
    "* when value in core object changes, observer objects are notified using an update() method\n",
    "* detaches the code being observed from the code doing the observing\n",
    "    * core object doesn't need to know about observers\n",
    "    * can be multiple observers responsible for different tasks after a change to the core object \n",
    "    * no need to include the core object's code within the observer code"
   ]
  },
  {
   "cell_type": "code",
   "execution_count": 39,
   "metadata": {
    "slideshow": {
     "slide_type": "slide"
    }
   },
   "outputs": [],
   "source": [
    "# Observed object (also referred to as publisher)\n",
    "class Inventory:\n",
    "    def __init__(self):\n",
    "        self.observers = []\n",
    "        self._product = None\n",
    "        self._quantity = 0\n",
    "    \n",
    "    # Attach observer to the inventory object\n",
    "    # Also known as: attach subscriber to publisher\n",
    "    def attach(self, observer):\n",
    "        self.observers.append(observer)\n",
    "    \n",
    "    # Set product and update observers\n",
    "    @property\n",
    "    def product(self):\n",
    "        return self._product\n",
    "    @product.setter\n",
    "    def product(self, value):\n",
    "        self._product = value\n",
    "        self._update_observers()\n",
    "    \n",
    "    # Set quantity and update observers\n",
    "    @property\n",
    "    def quantity(self):\n",
    "        return self._quantity\n",
    "    @quantity.setter\n",
    "    def quantity(self, value):\n",
    "        self._quantity = value\n",
    "        self._update_observers()\n",
    "    \n",
    "    # Call observer to update\n",
    "    def _update_observers(self):\n",
    "        for observer in self.observers:\n",
    "            observer()"
   ]
  },
  {
   "cell_type": "code",
   "execution_count": 40,
   "metadata": {
    "slideshow": {
     "slide_type": "fragment"
    }
   },
   "outputs": [],
   "source": [
    "# Simple observer object that prints info from observed\n",
    "class ConsoleObserver:\n",
    "    def __init__(self, inventory):\n",
    "        self.inventory = inventory\n",
    "        \n",
    "    def __call__(self):\n",
    "        print(self.inventory.product)\n",
    "        print(self.inventory.quantity)"
   ]
  },
  {
   "cell_type": "code",
   "execution_count": 41,
   "metadata": {
    "slideshow": {
     "slide_type": "slide"
    }
   },
   "outputs": [
    {
     "name": "stdout",
     "output_type": "stream",
     "text": [
      "Widget\n",
      "0\n",
      "Widget\n",
      "5\n"
     ]
    }
   ],
   "source": [
    "# Instance of observed (publisher)\n",
    "i = Inventory()\n",
    "\n",
    "# Instance of observer (subscriber)\n",
    "c = ConsoleObserver(i)\n",
    "\n",
    "# Attach observer to observed\n",
    "i.attach(c)\n",
    "\n",
    "# Changes to observed result in call to observer\n",
    "i.product = \"Widget\"\n",
    "i.quantity = 5"
   ]
  },
  {
   "cell_type": "code",
   "execution_count": 42,
   "metadata": {
    "slideshow": {
     "slide_type": "fragment"
    }
   },
   "outputs": [
    {
     "name": "stdout",
     "output_type": "stream",
     "text": [
      "Gadget\n",
      "0\n",
      "Gadget\n",
      "0\n"
     ]
    }
   ],
   "source": [
    "# There can be multiple instances of observer\n",
    "i = Inventory()\n",
    "c1 = ConsoleObserver(i)\n",
    "c2 = ConsoleObserver(i)\n",
    "\n",
    "i.attach(c1)\n",
    "i.attach(c2)\n",
    "\n",
    "i.product = \"Gadget\""
   ]
  },
  {
   "cell_type": "code",
   "execution_count": 43,
   "metadata": {
    "slideshow": {
     "slide_type": "fragment"
    }
   },
   "outputs": [
    {
     "name": "stdout",
     "output_type": "stream",
     "text": [
      "Gadget\n",
      "2\n",
      "Gadget\n",
      "2\n"
     ]
    }
   ],
   "source": [
    "i.quantity = 2"
   ]
  },
  {
   "cell_type": "markdown",
   "metadata": {
    "slideshow": {
     "slide_type": "slide"
    }
   },
   "source": [
    "### Strategy Pattern\n",
    "\n",
    "*common demonstration of abstraction in object-oriented programming. The pattern implements different solutions to a single problem, each in a different object. The client code can then choose the most appropriate implementation dynamically at runtime* (Dusty Phillips, pg 310)\n",
    "\n",
    "#### Why Use It?\n",
    "\n",
    "* used to abstract the code doing the work from the code calling the function (i.e. Modularity)\n",
    "* performs same task in different ways, but nothing changes for the end user/interface/client initiating the task"
   ]
  },
  {
   "cell_type": "code",
   "execution_count": 9,
   "metadata": {
    "slideshow": {
     "slide_type": "slide"
    }
   },
   "outputs": [
    {
     "name": "stdout",
     "output_type": "stream",
     "text": [
      "[1, 2, 3, 4, 5]\n",
      "[1, 2, 3, 4, 5]\n",
      "[('dave', 'B', 10), ('jane', 'B', 12), ('john', 'A', 15)]\n"
     ]
    }
   ],
   "source": [
    "# Simple example: sorted()\n",
    "a_list = [5, 2, 3, 1, 4]\n",
    "a_dict = {1: 'D', 2: 'B', 3: 'B', 4: 'E', 5: 'A'}\n",
    "tuples = [\n",
    "    ('john', 'A', 15),\n",
    "    ('jane', 'B', 12),\n",
    "    ('dave', 'B', 10),\n",
    "    ]\n",
    "\n",
    "print(sorted(a_list))\n",
    "print(sorted(a_dict))\n",
    "print(sorted(tuples, key=lambda student: student[2]))  # sort by age"
   ]
  },
  {
   "cell_type": "code",
   "execution_count": 12,
   "metadata": {
    "slideshow": {
     "slide_type": "slide"
    }
   },
   "outputs": [],
   "source": [
    "# Example from book\n",
    "from PIL import Image\n",
    "\n",
    "# Each strategy has a make_background method with the same arguments\n",
    "\n",
    "# Loops over input image and based on width/height copies it \n",
    "# into the appropriate tile location\n",
    "class TiledStrategy:\n",
    "    def make_background(self, img_file, desktop_size):\n",
    "        in_img = Image.open(img_file)\n",
    "        out_img = Image.new('RGB', desktop_size)\n",
    "        num_tiles = [\n",
    "        o // i + 1 for o, i in\n",
    "        zip(out_img.size, in_img.size)\n",
    "        ]\n",
    "        for x in range(num_tiles[0]):\n",
    "            for y in range(num_tiles[1]):\n",
    "                out_img.paste(\n",
    "                    in_img,\n",
    "                    (\n",
    "                        in_img.size[0] * x,\n",
    "                        in_img.size[1] * y,\n",
    "                        in_img.size[0] * (x+1),\n",
    "                        in_img.size[1] * (y+1)\n",
    "                    )\n",
    "                )\n",
    "        return out_img\n",
    "\n",
    "# Figures out how much space needs to be left on edges to center image\n",
    "class CenteredStrategy:\n",
    "    def make_background(self, img_file, desktop_size):\n",
    "        in_img = Image.open(img_file)\n",
    "        out_img = Image.new('RGB', desktop_size)\n",
    "        left = (out_img.size[0] - in_img.size[0]) // 2\n",
    "        top = (out_img.size[1] - in_img.size[1]) // 2\n",
    "        out_img.paste(\n",
    "            in_img,\n",
    "            (\n",
    "                left,\n",
    "                top,\n",
    "                left+in_img.size[0],\n",
    "                top + in_img.size[1]\n",
    "            )\n",
    "        )\n",
    "        return out_img\n",
    "\n",
    "# Sets the image to the output size (ignoring aspect ratio)\n",
    "class ScaledStrategy:\n",
    "    def make_background(self, img_file, desktop_size):\n",
    "        in_img = Image.open(img_file)\n",
    "        out_img = in_img.resize(desktop_size)\n",
    "        return out_img"
   ]
  },
  {
   "cell_type": "markdown",
   "metadata": {
    "slideshow": {
     "slide_type": "slide"
    }
   },
   "source": [
    "### Typical Python Approach\n",
    "\n",
    "* previous approach not as common in Python, as other object-oriented languages\n",
    "    * because each class only provides a single function, might as well just call function directly like sorted()\n",
    "* typically implemented in Python using first-class functions, as they can be used like any other object:\n",
    "    * used as parameters\n",
    "    * used as a return value\n",
    "    * assigned to variables..."
   ]
  },
  {
   "cell_type": "markdown",
   "metadata": {
    "slideshow": {
     "slide_type": "slide"
    }
   },
   "source": [
    "### State Pattern\n",
    "\n",
    "*represent state-transition systems... need a manager, or context class that provides an interface for switching states. Internally, this class contains a pointer to the current state; each state knows what other states it is allowed to be in and will transition to those states depending on actions invoked upon it* (Dusty Phillips, pg 313)\n",
    "\n",
    "#### Why Use It?\n",
    "\n",
    "* allow objects to switch between different states dynamically, as some process evolves\n",
    "* looks similar to strategy pattern but strategy is used to choose appropriate code at runtime\n",
    "    * instead state pattern relies on the states (or context) to know which other states it can switch it dynamically if needed  \n",
    "* can be implemented in various ways in Python: first-class functions, context managers, coroutines"
   ]
  },
  {
   "cell_type": "code",
   "execution_count": 3,
   "metadata": {
    "slideshow": {
     "slide_type": "slide"
    }
   },
   "outputs": [],
   "source": [
    "import rasterio as rio\n",
    "import matplotlib.pyplot as plt\n",
    "\n",
    "raster_path = '../n39_w106_3arc_v2.tif'\n",
    "\n",
    "# When rasterio context manager is entered:\n",
    "    # GDAL drivers are registered\n",
    "    # error handlers are configured\n",
    "    # configuration options are set\n",
    "# When rasterio context manager is exited:\n",
    "    # drivers are removed from the registry\n",
    "    # other configurations are removed\n",
    "with rio.open(raster_path) as src:\n",
    "    image = src.read()"
   ]
  },
  {
   "cell_type": "code",
   "execution_count": 4,
   "metadata": {
    "slideshow": {
     "slide_type": "fragment"
    }
   },
   "outputs": [],
   "source": [
    "# Equivalent to \n",
    "src = rio.open(raster_path)\n",
    "image = src.read()\n",
    "src.close()"
   ]
  },
  {
   "cell_type": "code",
   "execution_count": 13,
   "metadata": {
    "slideshow": {
     "slide_type": "slide"
    }
   },
   "outputs": [],
   "source": [
    "# Achieve similar effect to state pattern using coroutines\n",
    "def grep(pattern):\n",
    "    print(\"Searching for\", pattern)\n",
    "    while True:\n",
    "        line = (yield) # values supplied externally\n",
    "        if pattern in line:\n",
    "            print(line)"
   ]
  },
  {
   "cell_type": "code",
   "execution_count": 14,
   "metadata": {
    "slideshow": {
     "slide_type": "fragment"
    }
   },
   "outputs": [
    {
     "name": "stdout",
     "output_type": "stream",
     "text": [
      "Searching for Python\n",
      "This one contains Python!\n"
     ]
    }
   ],
   "source": [
    "search = grep('Python')\n",
    "\n",
    "# Start coroutine\n",
    "next(search)\n",
    "\n",
    "# Supply values using the .send() method\n",
    "search.send(\"This text does not contain the keyword\")\n",
    "search.send(\"Neither does this one\")\n",
    "search.send(\"This one contains Python!\")\n",
    "\n",
    "# Close coroutine\n",
    "search.close()"
   ]
  },
  {
   "cell_type": "markdown",
   "metadata": {
    "slideshow": {
     "slide_type": "slide"
    }
   },
   "source": [
    "### Singleton Pattern\n",
    "\n",
    "*one of the most controversial patterns; many have accused it of being an \"anti-pattern\", a pattern that should be avoided, not promoted. In Python, if someone is using the singleton pattern, they're almost certainly doing something wrong* (Dusty Phillips, pg. 320).\n",
    "\n",
    "#### Why Discuss It?\n",
    "\n",
    "* commonly used in other object-oriented languages\n",
    "* fundamental idea is useful to know, even if implementation in Python is different \n",
    "    * allow exactly one instance of a certain object to exist using a manager object\n",
    "    * other objects can request the single instance of the manager object from the class\n",
    "        * minimizes the need to pass around the reference to the manager object"
   ]
  },
  {
   "cell_type": "code",
   "execution_count": 6,
   "metadata": {
    "slideshow": {
     "slide_type": "slide"
    }
   },
   "outputs": [],
   "source": [
    "class OneOnly:\n",
    "    _singleton = None\n",
    "    def __new__(cls, *args, **kwargs):\n",
    "        if not cls._singleton:\n",
    "            cls._singleton = super(OneOnly, cls\n",
    "                ).__new__(cls, *args, **kwargs)\n",
    "        return cls._singleton"
   ]
  },
  {
   "cell_type": "code",
   "execution_count": 7,
   "metadata": {
    "slideshow": {
     "slide_type": "fragment"
    }
   },
   "outputs": [
    {
     "data": {
      "text/plain": [
       "True"
      ]
     },
     "execution_count": 7,
     "metadata": {},
     "output_type": "execute_result"
    }
   ],
   "source": [
    "o1 = OneOnly()\n",
    "o2 = OneOnly()\n",
    "\n",
    "o1 == o2"
   ]
  },
  {
   "cell_type": "markdown",
   "metadata": {
    "slideshow": {
     "slide_type": "slide"
    }
   },
   "source": [
    "#### Why Not Use It?\n",
    "\n",
    "* you do not know how others might want to use your code (even if you may think only one instance of the object is ever needed)\n",
    "* can interfere with distributed computing, parallel programming, and automated testing, etc\n",
    "    * cases where it can be very useful to have multiple or alternative instances of a specific object even if not required under typical use of object\n",
    "    \n",
    "#### Module-level Variables As Alternative\n",
    "\n",
    "* provide mechanism to get access to the \"default singleton\" value, while also allowing creation of other instances if needed\n",
    "* not technically a singleton, but provides the most Pythonic solution for singleton-like behavior"
   ]
  },
  {
   "cell_type": "code",
   "execution_count": null,
   "metadata": {
    "slideshow": {
     "slide_type": "slide"
    }
   },
   "outputs": [],
   "source": [
    "# Use of module-level variable to enhance state pattern\n",
    "# No wasting memory on new instances by reusing a single state object for each state\n",
    "\n",
    "class FirstTag:\n",
    "    def process(self, remaining_string, parser):\n",
    "        i_start_tag = remaining_string.find('<')\n",
    "        i_end_tag = remaining_string.find('>')\n",
    "        tag_name = remaining_string[i_start_tag+1:i_end_tag]\n",
    "        root = Node(tag_name)\n",
    "        parser.root = parser.current_node = root \n",
    "        parser.state = child_node # single state object reused for this state\n",
    "        return remaining_string[i_end_tag+1:]\n",
    "    \n",
    "class ChildNode:\n",
    "    def process(self, remaining_string, parser):\n",
    "        stripped = remaining_string.strip()\n",
    "        \n",
    "        if stripped.startswith(\"</\"):\n",
    "            parser.state = close_tag # single state object reused for this state\n",
    "        elif stripped.startswith(\"<\"):\n",
    "            parser.state = open_tag # single state object reused for this state\n",
    "        else:\n",
    "            parser.state = text_node # single state object reused for this state\n",
    "        return stripped"
   ]
  },
  {
   "cell_type": "markdown",
   "metadata": {
    "slideshow": {
     "slide_type": "slide"
    }
   },
   "source": [
    "### Template Pattern\n",
    "\n",
    "*designed for situations where we have several different tasks to accomplish that have some, but not all, steps in common. The common steps are implemented in a base class, and the distinct steps are overridden in subclasses to provide custom behavior* (Dusty Phillips, pg. 325) \n",
    "\n",
    "*the flow goes from the base class to a subclass, a principle called Inversion of Control (IoC). IoC, also called Hollywood Principle - Don’t call us, we’ll call you - decouples the execution of a task from its implementation* (<a href=\"https://www.giacomodebidda.com/template-method-pattern-in-python/\" target=\"_blank\">Giacomo Debidda</a>). \n",
    "\n",
    "#### Why Use It?\n",
    "\n",
    "* useful for writing DRY code\n",
    "* similar to strategy pattern, but selection of implementation method does not happen runtime, but rather at compile-time by subclassing the template\n",
    "* capture the abstraction in an interface, and bury the implementation details in its subclasses\n",
    "    * client code doesn't call implementation methods directly, but calls a template_method that then calls the implementation methods"
   ]
  },
  {
   "cell_type": "code",
   "execution_count": 13,
   "metadata": {
    "slideshow": {
     "slide_type": "slide"
    }
   },
   "outputs": [],
   "source": [
    "# From https://github.com/jackdbd/design-patterns\n",
    "import sys\n",
    "from abc import ABC, abstractmethod\n",
    "\n",
    "# Base class defining the template_method\n",
    "class algorithm(ABC):\n",
    "\n",
    "    def template_method(self):\n",
    "        \"\"\"Skeleton of operations to perform. DON'T override me.\n",
    "\n",
    "        The Template Method defines a skeleton of an algorithm in an operation,\n",
    "        and defers some steps to subclasses.\n",
    "        \"\"\"\n",
    "        self.__do_absolutely_this()\n",
    "        self.do_step_1()\n",
    "        self.do_step_2()\n",
    "        self.do_something()\n",
    "\n",
    "    def __do_absolutely_this(self): # indicates that cannot be overridden by subclass\n",
    "        \"\"\"Protected operation. DON'T override me.\"\"\"\n",
    "        this_method_name = sys._getframe().f_code.co_name\n",
    "        print('{}.{}'.format(self.__class__.__name__, this_method_name))\n",
    "\n",
    "    @abstractmethod # indicates that must be overridden by subclass\n",
    "    def do_step_1(self):\n",
    "        \"\"\"Primitive operation. You HAVE TO override me, I'm a placeholder.\"\"\"\n",
    "        pass\n",
    "\n",
    "    @abstractmethod # indicates that must be overridden by subclass\n",
    "    def do_step_2(self):\n",
    "        \"\"\"Primitive operation. You HAVE TO override me, I'm a placeholder.\"\"\"\n",
    "        pass\n",
    "\n",
    "    def do_something(self): # can be overridden by subclass or simply used a default\n",
    "        \"\"\"Hook. You CAN override me, I'm NOT a placeholder.\"\"\"\n",
    "        print('do something')"
   ]
  },
  {
   "cell_type": "code",
   "execution_count": 14,
   "metadata": {
    "slideshow": {
     "slide_type": "slide"
    }
   },
   "outputs": [],
   "source": [
    "# Subclass override of abstract methods\n",
    "# Subclass use of default for do_something\n",
    "class algorithm_a(algorithm):\n",
    "\n",
    "    def do_step_1(self):\n",
    "        print('do step 1 for Algorithm A')\n",
    "\n",
    "    def do_step_2(self):\n",
    "        print('now do step 2 for Algorithm A')\n",
    "\n",
    "# Subclass override of abstract methods\n",
    "# Subclass override of do_something\n",
    "class algorithm_b(algorithm):\n",
    "\n",
    "    def do_step_1(self):\n",
    "        print('do different step 1 for Algorithm B')\n",
    "\n",
    "    def do_step_2(self):\n",
    "        print('now do different step 2 for Algorithm B')\n",
    "\n",
    "    def do_something(self):\n",
    "        print('do something else')"
   ]
  },
  {
   "cell_type": "code",
   "execution_count": 16,
   "metadata": {
    "slideshow": {
     "slide_type": "fragment"
    }
   },
   "outputs": [
    {
     "name": "stdout",
     "output_type": "stream",
     "text": [
      "Algorithm A\n",
      "algorithm_a.__do_absolutely_this\n",
      "do step 1 for Algorithm A\n",
      "now do step 2 for Algorithm A\n",
      "do something\n",
      "\n",
      "Algorithm B\n",
      "algorithm_b.__do_absolutely_this\n",
      "do different step 1 for Algorithm B\n",
      "now do different step 2 for Algorithm B\n",
      "do something else\n"
     ]
    }
   ],
   "source": [
    "# Client code\n",
    "def main():\n",
    "    print('Algorithm A')\n",
    "    a = algorithm_a()\n",
    "    a.template_method()\n",
    "\n",
    "    print('\\nAlgorithm B')\n",
    "    b = algorithm_b()\n",
    "    b.template_method()\n",
    "\n",
    "if __name__ == '__main__':\n",
    "    main()"
   ]
  },
  {
   "cell_type": "markdown",
   "metadata": {
    "slideshow": {
     "slide_type": "slide"
    }
   },
   "source": [
    "## Recap\n",
    "\n",
    "**Decorator Pattern**: useful for expanding on the response of a function/component, before/as the response is sent to a second component; allows for multiple optional behaviors (as an alternative to multiple inheritance)\n",
    "\n",
    "**Observer Pattern**: useful for decoupling the code being observed from the code doing the observing; can have multiple observers and none to know about the others; observer also does not need to know it is being observed\n",
    "\n",
    "**Strategy Pattern**: useful for abstracting the code doing the work from the code calling the function (i.e. Modularity; first class functions in Python); performs same task in different ways, but nothing changes for the end user/interface/client initiating the task\n",
    "\n",
    "**State Pattern**: allow objects to switch between different states dynamically, as some process evolves; strategy/implementation method is used to choose appropriate code at runtime\n",
    "\n",
    "**Singleton Pattern**: considered anti-pattern in Python and suggestion is to use module-level variables as an alternative\n",
    "\n",
    "**Template Pattern**: useful for DRY code; subclasses can share a core set of functionality and have the ability to override selected methods"
   ]
  },
  {
   "cell_type": "code",
   "execution_count": null,
   "metadata": {},
   "outputs": [],
   "source": []
  }
 ],
 "metadata": {
  "celltoolbar": "Slideshow",
  "kernelspec": {
   "display_name": "Python 3",
   "language": "python",
   "name": "python3"
  },
  "language_info": {
   "codemirror_mode": {
    "name": "ipython",
    "version": 3
   },
   "file_extension": ".py",
   "mimetype": "text/x-python",
   "name": "python",
   "nbconvert_exporter": "python",
   "pygments_lexer": "ipython3",
   "version": "3.6.7"
  }
 },
 "nbformat": 4,
 "nbformat_minor": 2
}
