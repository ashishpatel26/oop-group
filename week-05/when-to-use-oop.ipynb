{
 "cells": [
  {
   "cell_type": "markdown",
   "metadata": {
    "slideshow": {
     "slide_type": "slide"
    }
   },
   "source": [
    "# Ch. 5 When to use object-oriented programming\n",
    "\n",
    "\"As the program expands, we will later find that we are passing the same set of related variables to a set of functions.\""
   ]
  },
  {
   "cell_type": "markdown",
   "metadata": {
    "slideshow": {
     "slide_type": "slide"
    }
   },
   "source": [
    "## Adding behavior to class data with properties\n",
    "\n",
    "Propoerties make methods look like attributes"
   ]
  },
  {
   "cell_type": "code",
   "execution_count": null,
   "metadata": {
    "slideshow": {
     "slide_type": "slide"
    }
   },
   "outputs": [],
   "source": [
    "class Color:\n",
    "    def __init__(self, name):\n",
    "        self._name = name\n",
    "    \n",
    "    def _set_name(self, name):\n",
    "        if not name:\n",
    "            raise ValueError(\"Invalid Name\")\n",
    "        self._name = name\n",
    "    \n",
    "    def _get_name(self):\n",
    "        return self._name\n",
    "\n",
    "# try get, set, get"
   ]
  },
  {
   "cell_type": "code",
   "execution_count": null,
   "metadata": {
    "slideshow": {
     "slide_type": "slide"
    }
   },
   "outputs": [],
   "source": [
    "class Color:\n",
    "    def __init__(self, name):\n",
    "        self._name = name\n",
    "    \n",
    "    def _set_name(self, name):\n",
    "        if not name:\n",
    "            raise ValueError(\"Invalid Name\")\n",
    "        self._name = name\n",
    "    \n",
    "    def _get_name(self):\n",
    "        return self._name\n",
    "    \n",
    "    name = property(_get_name, _set_name)\n",
    "\n",
    "# try get, set, get (& raise our ValueError)"
   ]
  },
  {
   "cell_type": "markdown",
   "metadata": {
    "slideshow": {
     "slide_type": "slide"
    }
   },
   "source": [
    "Why do this?"
   ]
  },
  {
   "cell_type": "markdown",
   "metadata": {
    "slideshow": {
     "slide_type": "slide"
    }
   },
   "source": [
    "## Decorators (turn functions into properties)\n",
    "\n",
    "\"Clouding the division between behavior and data\""
   ]
  },
  {
   "cell_type": "code",
   "execution_count": null,
   "metadata": {
    "slideshow": {
     "slide_type": "slide"
    }
   },
   "outputs": [],
   "source": [
    "class Color:\n",
    "    def __init__(self, name):\n",
    "        self._name = name\n",
    "\n",
    "    @property\n",
    "    def name(self):\n",
    "        return self._name\n",
    "\n",
    "    @name.setter\n",
    "    def name(self, value):\n",
    "        if not value:\n",
    "            raise ValueError(\"Invalid Name\")\n",
    "        self._name = value\n",
    "\n",
    "# get, set get"
   ]
  },
  {
   "cell_type": "markdown",
   "metadata": {
    "slideshow": {
     "slide_type": "slide"
    }
   },
   "source": [
    "### When to use properties instead of attributes\n",
    "\n",
    "\"In general, always use a standard attribute\n",
    "until you need to **control access** to that property in some way.\"\n",
    "\n",
    "- also avoiding redundant computations\n",
    "\n",
    "e.g., https://github.com/mapbox/rasterio/blob/87836436fe2b843ab723a391a519439008d882d5/rasterio/crs.py#L123\n",
    "\n",
    "- also calculating things on the fly\n",
    "\n",
    "e.g., https://github.com/pandas-dev/pandas/blob/145ade2a2f011dbfbe531347fd0dc563ee0b5642/pandas/core/arrays/datetimes.py#L1303\n",
    "\n",
    "- also protecting users from themselves\n",
    "\n",
    "e.g., https://github.com/pandas-dev/pandas/blob/145ade2a2f011dbfbe531347fd0dc563ee0b5642/pandas/core/arrays/datetimes.py#L551"
   ]
  },
  {
   "cell_type": "markdown",
   "metadata": {
    "slideshow": {
     "slide_type": "slide"
    }
   },
   "source": [
    "## Re-using code\n",
    "\n",
    "e.g., we need to \n",
    "\n",
    "1. Unzip a .zip file\n",
    "2. Do some stuff\n",
    "3. Zip the stuff"
   ]
  },
  {
   "cell_type": "code",
   "execution_count": null,
   "metadata": {
    "slideshow": {
     "slide_type": "slide"
    }
   },
   "outputs": [],
   "source": [
    "import sys\n",
    "import os\n",
    "import shutil\n",
    "import zipfile\n",
    "from pathlib import Path\n",
    "\n",
    "class ZipProcessor:\n",
    "    def __init__(self, zipname):\n",
    "        self.zipname = zipname\n",
    "        self.tmpdir = Path('unzipped-{}'.format(zipname[:-4]))\n",
    "    \n",
    "    def process_zip(self):\n",
    "        self.unzip_files()\n",
    "        self.do_stuff()\n",
    "        self.zip_files()\n",
    "    \n",
    "    def unzip_files(self):\n",
    "        self.tmpdir.mkdir()\n",
    "        with zipfile.ZipFile(self.zipname) as zip:\n",
    "            zip.extractall(str(self.tmpdir))\n",
    "    \n",
    "    def zip_files(self):\n",
    "        with zipfile.ZipFile(self.zipname, 'w') as file:\n",
    "            for filename in self.tmpdir.iterdir():\n",
    "                file.write(str(filename), filename.name)\n",
    "        shutil.rmtree(str(self.tmpdir))\n",
    "\n",
    "\n",
    "# create a subclass that does a find and replace\n",
    "class ZipReplace(ZipProcessor):\n",
    "    def __init__(self, filename, find, replace):\n",
    "        super().__init__(filename)\n",
    "        self.find = find\n",
    "        self.replace = replace\n",
    "\n",
    "    def do_stuff(self):\n",
    "        '''perform a search and replace on all files in the\n",
    "        temporary directory'''\n",
    "        for filename in self.tmpdir.iterdir():\n",
    "            with filename.open() as file:\n",
    "                contents = file.read()\n",
    "            contents = contents.replace(self.find, self.replace)\n",
    "            with filename.open(\"w\") as file:\n",
    "                file.write(contents)"
   ]
  },
  {
   "cell_type": "code",
   "execution_count": null,
   "metadata": {
    "slideshow": {
     "slide_type": "slide"
    }
   },
   "outputs": [],
   "source": [
    "zip_replacer = ZipReplace(filename = 'lyrics.zip', \n",
    "                          find = 'birthday', \n",
    "                          replace = 'friday')\n",
    "\n",
    "zip_replacer.process_zip()"
   ]
  }
 ],
 "metadata": {
  "celltoolbar": "Slideshow",
  "kernelspec": {
   "display_name": "Python 3",
   "language": "python",
   "name": "python3"
  },
  "language_info": {
   "codemirror_mode": {
    "name": "ipython",
    "version": 3
   },
   "file_extension": ".py",
   "mimetype": "text/x-python",
   "name": "python",
   "nbconvert_exporter": "python",
   "pygments_lexer": "ipython3",
   "version": "3.7.1"
  }
 },
 "nbformat": 4,
 "nbformat_minor": 2
}
