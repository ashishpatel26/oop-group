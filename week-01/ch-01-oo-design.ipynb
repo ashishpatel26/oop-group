{
 "cells": [
  {
   "cell_type": "markdown",
   "metadata": {
    "slideshow": {
     "slide_type": "slide"
    }
   },
   "source": [
    "# Object oriented design\n",
    "\n",
    "A conceptual flyover \n",
    "\n",
    "![Photo: https://commons.wikimedia.org/wiki/Category:Aircraft_in_flight#/media/File:Aerial_Bliss_(31291883).jpeg](https://upload.wikimedia.org/wikipedia/commons/thumb/e/e2/Aerial_Bliss_%2831291883%29.jpeg/640px-Aerial_Bliss_%2831291883%29.jpeg)\n",
    "\n",
    "$\\tiny{\\text{Summary of Ch. 2 Python 3 Object-oriented Programming, Dusty Phillips}}$"
   ]
  },
  {
   "cell_type": "markdown",
   "metadata": {
    "slideshow": {
     "slide_type": "slide"
    }
   },
   "source": [
    "# Classes\n",
    "\n",
    "Kinds of objects with **attributes** and **behaviors**, e.g., oranges\n",
    "\n",
    "![https://commons.wikimedia.org/wiki/Category:Oranges_in_art#/media/File:Basket_of_oranges.jpg](https://upload.wikimedia.org/wikipedia/commons/thumb/c/cc/Basket_of_oranges.jpg/424px-Basket_of_oranges.jpg)"
   ]
  },
  {
   "cell_type": "markdown",
   "metadata": {
    "slideshow": {
     "slide_type": "slide"
    }
   },
   "source": [
    "## Python's `list` class"
   ]
  },
  {
   "cell_type": "code",
   "execution_count": 1,
   "metadata": {
    "slideshow": {
     "slide_type": "fragment"
    }
   },
   "outputs": [
    {
     "name": "stdout",
     "output_type": "stream",
     "text": [
      "<class 'list'>\n"
     ]
    }
   ],
   "source": [
    "x = ['a', 'list']\n",
    "\n",
    "print(type(x))"
   ]
  },
  {
   "cell_type": "markdown",
   "metadata": {
    "slideshow": {
     "slide_type": "fragment"
    }
   },
   "source": [
    "- `x` is an object \n",
    "- `x` is an instance of a list\n",
    "- the class of `x` is 'list'"
   ]
  },
  {
   "cell_type": "markdown",
   "metadata": {
    "slideshow": {
     "slide_type": "slide"
    }
   },
   "source": [
    "# What objects are in front of us??\n",
    "\n",
    "### What classes?\n",
    "\n",
    "- attributes?\n",
    "- behaviors?"
   ]
  },
  {
   "cell_type": "markdown",
   "metadata": {
    "slideshow": {
     "slide_type": "slide"
    }
   },
   "source": [
    "# Attributes vs. methods\n",
    "\n",
    "**Attributes**: Data, traits, qualities\n",
    "\n",
    "**Methods**: Behaviors, functions, actions"
   ]
  },
  {
   "cell_type": "code",
   "execution_count": 2,
   "metadata": {
    "slideshow": {
     "slide_type": "fragment"
    }
   },
   "outputs": [
    {
     "name": "stdout",
     "output_type": "stream",
     "text": [
      "[[1 0]\n",
      " [0 1]]\n"
     ]
    }
   ],
   "source": [
    "import numpy as np\n",
    "\n",
    "arr = np.array([[1, 0], [0, 1]])\n",
    "print(arr)"
   ]
  },
  {
   "cell_type": "code",
   "execution_count": 3,
   "metadata": {
    "slideshow": {
     "slide_type": "fragment"
    }
   },
   "outputs": [
    {
     "data": {
      "text/plain": [
       "(2, 2)"
      ]
     },
     "execution_count": 3,
     "metadata": {},
     "output_type": "execute_result"
    }
   ],
   "source": [
    "# access an attribute\n",
    "arr.shape"
   ]
  },
  {
   "cell_type": "code",
   "execution_count": 4,
   "metadata": {
    "slideshow": {
     "slide_type": "fragment"
    }
   },
   "outputs": [
    {
     "data": {
      "text/plain": [
       "array([1, 0, 0, 1])"
      ]
     },
     "execution_count": 4,
     "metadata": {},
     "output_type": "execute_result"
    }
   ],
   "source": [
    "# use a method\n",
    "arr.flatten()"
   ]
  },
  {
   "cell_type": "markdown",
   "metadata": {
    "slideshow": {
     "slide_type": "slide"
    }
   },
   "source": [
    "## Hiding details\n",
    "\n",
    "Users can ignore things\n",
    "\n",
    "![](https://media.giphy.com/media/T3Qc3C4QuZa1y/giphy.gif)\n",
    "\n",
    "https://giphy.com/gifs/how-works-gearbox-T3Qc3C4QuZa1y"
   ]
  },
  {
   "cell_type": "markdown",
   "metadata": {
    "slideshow": {
     "slide_type": "slide"
    }
   },
   "source": [
    "## Details hidden behind the `flatten()` method\n",
    "\n",
    "https://github.com/numpy/numpy/blob/1ba4173d20f16348f793c1d87f8cc03cd87588ad/numpy/core/src/multiarray/shape.c#L950-L980\n",
    "\n",
    "```c\n",
    "/*NUMPY_API\n",
    " * Flatten\n",
    " */\n",
    "NPY_NO_EXPORT PyObject *\n",
    "PyArray_Flatten(PyArrayObject *a, NPY_ORDER order)\n",
    "{\n",
    "    PyArrayObject *ret;\n",
    "    npy_intp size;\n",
    "\n",
    "\n",
    "    if (order == NPY_ANYORDER) {\n",
    "        order = PyArray_ISFORTRAN(a) ? NPY_FORTRANORDER : NPY_CORDER;\n",
    "    }\n",
    "\n",
    "\n",
    "    size = PyArray_SIZE(a);\n",
    "    Py_INCREF(PyArray_DESCR(a));\n",
    "    ret = (PyArrayObject *)PyArray_NewFromDescr(Py_TYPE(a),\n",
    "                               PyArray_DESCR(a),\n",
    "                               1, &size,\n",
    "                               NULL,\n",
    "                               NULL,\n",
    "                               0, (PyObject *)a);\n",
    "    if (ret == NULL) {\n",
    "        return NULL;\n",
    "    }\n",
    "\n",
    "\n",
    "    if (PyArray_CopyAsFlat(ret, a, order) < 0) {\n",
    "        Py_DECREF(ret);\n",
    "        return NULL;\n",
    "    }\n",
    "    return (PyObject *)ret;\n",
    "}\n",
    "```"
   ]
  },
  {
   "cell_type": "markdown",
   "metadata": {
    "slideshow": {
     "slide_type": "slide"
    }
   },
   "source": [
    "# Abstraction\n",
    "\n",
    "### Working at the right level of detail\n",
    "\n",
    "* Muffin eater > baker > chemist\n",
    "\n",
    "![https://commons.wikimedia.org/wiki/File:Muffin_NIH.jpg](https://upload.wikimedia.org/wikipedia/commons/thumb/8/8a/Muffin_NIH.jpg/587px-Muffin_NIH.jpg)"
   ]
  },
  {
   "cell_type": "markdown",
   "metadata": {
    "slideshow": {
     "slide_type": "slide"
    }
   },
   "source": [
    "## Abstraction & numpy arrays\n",
    "\n",
    "**User**: I define an array to represent a matrix\n",
    "\n",
    "**Dev**: The floats comprising the numpy array are mapped to specific memory locations and..?(other fancy sounding things that I'm glad to not have to know)\n",
    "\n",
    "![](https://i.stack.imgur.com/C0HYH.jpg)\n",
    "\n",
    "https://stackoverflow.com/questions/44865261/what-is-the-difference-between-numpy-shares-memory-and-numpy-may-share-memory"
   ]
  },
  {
   "cell_type": "markdown",
   "metadata": {
    "slideshow": {
     "slide_type": "slide"
    }
   },
   "source": [
    "### Composition: collecting several objects to create a new one\n",
    "\n",
    "- `float` is a numpy data type (e.g., 1.300002340302506081) \n",
    "- `longcomplexfloat` is a data type composed of two 128-bit floats\n",
    "\n",
    "![](https://upload.wikimedia.org/wikipedia/commons/thumb/8/83/Complex_number_illustration_multiple_arguments.svg/451px-Complex_number_illustration_multiple_arguments.svg.png)\n",
    "\n",
    "https://commons.wikimedia.org/wiki/File:Complex_number_illustration_multiple_arguments.svg"
   ]
  },
  {
   "cell_type": "markdown",
   "metadata": {
    "slideshow": {
     "slide_type": "slide"
    }
   },
   "source": [
    "## Inheritance\n",
    "\n",
    "Class A \"inherits from\" class B\n",
    "\n",
    "OrderedDicts inherit from the dict class\n",
    "\n",
    "https://docs.python.org/3/library/collections.html#collections.OrderedDict"
   ]
  },
  {
   "cell_type": "code",
   "execution_count": 5,
   "metadata": {
    "slideshow": {
     "slide_type": "fragment"
    }
   },
   "outputs": [],
   "source": [
    "from collections import OrderedDict\n",
    "\n",
    "a_dictionary = {\"key\": \"value\"}\n",
    "an_ordered_dict = OrderedDict({\"key\": \"value\"})"
   ]
  },
  {
   "cell_type": "code",
   "execution_count": 6,
   "metadata": {
    "slideshow": {
     "slide_type": "fragment"
    }
   },
   "outputs": [
    {
     "data": {
      "text/plain": [
       "True"
      ]
     },
     "execution_count": 6,
     "metadata": {},
     "output_type": "execute_result"
    }
   ],
   "source": [
    "# the ordered dictionary has all attributes and methods of a dictionary\n",
    "all([attr in dir(an_ordered_dict) for attr in dir(a_dictionary)])"
   ]
  },
  {
   "cell_type": "code",
   "execution_count": 7,
   "metadata": {
    "slideshow": {
     "slide_type": "fragment"
    }
   },
   "outputs": [
    {
     "name": "stdout",
     "output_type": "stream",
     "text": [
      "['__dict__', '__reversed__', 'move_to_end']\n"
     ]
    }
   ],
   "source": [
    "# the ordered dictionary also has some unique stuff\n",
    "print([attr for attr in dir(an_ordered_dict) if attr not in dir(a_dictionary)])"
   ]
  },
  {
   "cell_type": "markdown",
   "metadata": {
    "slideshow": {
     "slide_type": "slide"
    }
   },
   "source": [
    "# Major concepts that were introduced\n",
    "\n",
    "- objects\n",
    "- classes\n",
    "- attributes\n",
    "- methods\n",
    "\n",
    "## We will dig further into\n",
    "\n",
    "- hiding details\n",
    "- abstraction\n",
    "- composition\n",
    "- inheritance\n"
   ]
  },
  {
   "cell_type": "markdown",
   "metadata": {
    "slideshow": {
     "slide_type": "slide"
    }
   },
   "source": [
    "# If we have time\n",
    "\n",
    "## Hands-on skills\n",
    "\n",
    "- How to find the class of a Python object?\n",
    "- How to list all attributes and methods?\n",
    "- How to find parent classes of a subclass?\n",
    "\n",
    "## Conceptual stuff\n",
    "\n",
    "- Find additional examples of composition\n",
    "- Find additional examples of inheritance"
   ]
  },
  {
   "cell_type": "code",
   "execution_count": 34,
   "metadata": {
    "slideshow": {
     "slide_type": "slide"
    }
   },
   "outputs": [
    {
     "data": {
      "text/plain": [
       "[('__add__', 'func'),\n",
       " ('__class__', 'func'),\n",
       " ('__contains__', 'func'),\n",
       " ('__delattr__', 'func'),\n",
       " ('__delitem__', 'func'),\n",
       " ('__dir__', 'func'),\n",
       " ('__doc__', 'attr'),\n",
       " ('__eq__', 'func'),\n",
       " ('__format__', 'func'),\n",
       " ('__ge__', 'func'),\n",
       " ('__getattribute__', 'func'),\n",
       " ('__getitem__', 'func'),\n",
       " ('__gt__', 'func'),\n",
       " ('__hash__', 'attr'),\n",
       " ('__iadd__', 'func'),\n",
       " ('__imul__', 'func'),\n",
       " ('__init__', 'func'),\n",
       " ('__init_subclass__', 'func'),\n",
       " ('__iter__', 'func'),\n",
       " ('__le__', 'func'),\n",
       " ('__len__', 'func'),\n",
       " ('__lt__', 'func'),\n",
       " ('__mul__', 'func'),\n",
       " ('__ne__', 'func'),\n",
       " ('__new__', 'func'),\n",
       " ('__reduce__', 'func'),\n",
       " ('__reduce_ex__', 'func'),\n",
       " ('__repr__', 'func'),\n",
       " ('__reversed__', 'func'),\n",
       " ('__rmul__', 'func'),\n",
       " ('__setattr__', 'func'),\n",
       " ('__setitem__', 'func'),\n",
       " ('__sizeof__', 'func'),\n",
       " ('__str__', 'func'),\n",
       " ('__subclasshook__', 'func'),\n",
       " ('append', 'func'),\n",
       " ('clear', 'func'),\n",
       " ('copy', 'func'),\n",
       " ('count', 'func'),\n",
       " ('extend', 'func'),\n",
       " ('index', 'func'),\n",
       " ('insert', 'func'),\n",
       " ('pop', 'func'),\n",
       " ('remove', 'func'),\n",
       " ('reverse', 'func'),\n",
       " ('sort', 'func')]"
      ]
     },
     "execution_count": 34,
     "metadata": {},
     "output_type": "execute_result"
    }
   ],
   "source": [
    "obj = [1]\n",
    "[(a, 'func' if callable(getattr(obj, a)) else 'attr') for a in dir(obj)]"
   ]
  }
 ],
 "metadata": {
  "celltoolbar": "Slideshow",
  "kernelspec": {
   "display_name": "Python 3",
   "language": "python",
   "name": "python3"
  },
  "language_info": {
   "codemirror_mode": {
    "name": "ipython",
    "version": 3
   },
   "file_extension": ".py",
   "mimetype": "text/x-python",
   "name": "python",
   "nbconvert_exporter": "python",
   "pygments_lexer": "ipython3",
   "version": "3.6.4"
  },
  "rise": {
   "autolaunch": true
  }
 },
 "nbformat": 4,
 "nbformat_minor": 2
}
