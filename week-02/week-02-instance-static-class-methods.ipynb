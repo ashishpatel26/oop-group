{
 "cells": [
  {
   "cell_type": "markdown",
   "metadata": {
    "slideshow": {
     "slide_type": "slide"
    }
   },
   "source": [
    "## Previous OYO\n",
    "\n",
    "Biscuit payment calculator method!!"
   ]
  },
  {
   "cell_type": "code",
   "execution_count": 1,
   "metadata": {
    "slideshow": {
     "slide_type": "slide"
    }
   },
   "outputs": [],
   "source": [
    "# Add name and age attributes to your class\n",
    "class workingDog:\n",
    "    \n",
    "    type = \"Service Animal\"\n",
    "    \n",
    "    def __init__(self, first_name, last_name, age, biscuits):\n",
    "        \"\"\"All dogs will have a name (string) and an age (int)\"\"\"\n",
    "        self.first_name = first_name\n",
    "        self.last_name = last_name\n",
    "        self.age = age\n",
    "        self.biscuits = biscuits\n",
    "        \n",
    "    def dog_to_human_years(self):\n",
    "        return self.age * 7\n",
    "    \n",
    "    def annual_buscuits(self):\n",
    "        return self.biscuits * 365"
   ]
  },
  {
   "cell_type": "code",
   "execution_count": 5,
   "metadata": {
    "slideshow": {
     "slide_type": "slide"
    }
   },
   "outputs": [
    {
     "name": "stdout",
     "output_type": "stream",
     "text": [
      "Jenny's dog gets 4380 biscuits\n",
      "Max's dog gets 43800 biscuits\n"
     ]
    }
   ],
   "source": [
    "# Now let's redefine the dog objects\n",
    "joes_dog = workingDog(first_name=\"James\", last_name = \"McGlinchy\", \n",
    "                      age=10, biscuits=12)\n",
    "maxs_dog = workingDog(first_name=\"Haddie\", last_name = \"Joseph\", \n",
    "                      age=2, biscuits=120)\n",
    "jennys_dog = workingDog(first_name=\"Boy\", last_name = \"Palomino\", \n",
    "                        age=6, biscuits=12)\n",
    "\n",
    "print(\"Jenny's dog gets\", jennys_dog.annual_buscuits(), \"biscuits\")\n",
    "print(\"Max's dog gets\", maxs_dog.annual_buscuits(), \"biscuits\")"
   ]
  },
  {
   "cell_type": "markdown",
   "metadata": {
    "slideshow": {
     "slide_type": "slide"
    }
   },
   "source": [
    "## Building out our class\n",
    "\n",
    "Let's pretend that we have a few other goals associated with our class. We want to:\n",
    "\n",
    "1. keep track of how many working dogs we have in our working dog posse AND\n",
    "2. we want the ability to give these dogs a well deserved raise for all of their hard work"
   ]
  },
  {
   "cell_type": "code",
   "execution_count": 43,
   "metadata": {
    "slideshow": {
     "slide_type": "slide"
    }
   },
   "outputs": [],
   "source": [
    "# Add a class attribute called total_dogs to keep track \n",
    "# of the total number of objects\n",
    "class workingDog:\n",
    "    \n",
    "    type = \"Service Animal\"\n",
    "    total_dogs = 0\n",
    "    \n",
    "    def __init__(self, first_name, last_name, age, biscuits):\n",
    "        \"\"\"All dogs will have a name (string) and an age (int)\"\"\"\n",
    "        self.first_name = first_name\n",
    "        self.last_name = last_name\n",
    "        self.age = age\n",
    "        self.biscuits = biscuits\n",
    "        \n",
    "        workingDog.total_dogs += 1\n",
    "        \n",
    "    def dog_to_human_years(self):\n",
    "        return self.age * 7\n",
    "    \n",
    "    def annual_buscuits(self):\n",
    "        return self.biscuits * 365"
   ]
  },
  {
   "cell_type": "code",
   "execution_count": 44,
   "metadata": {
    "slideshow": {
     "slide_type": "slide"
    }
   },
   "outputs": [
    {
     "name": "stdout",
     "output_type": "stream",
     "text": [
      "total dogs before 0\n",
      "total dogs after 3\n"
     ]
    }
   ],
   "source": [
    "# Now let's redefine the dogs\n",
    "print(\"total dogs before\", workingDog.total_dogs)\n",
    "joes_dog = workingDog(first_name=\"James\", last_name = \"McGlinchy\", \n",
    "                      age=10, biscuits=12)\n",
    "maxs_dog = workingDog(first_name=\"Haddie\", last_name = \"Joseph\", \n",
    "                      age=2, biscuits=120)\n",
    "jennys_dog = workingDog(first_name=\"Boy\", last_name = \"Palomino\", \n",
    "                        age=6, biscuits=12)\n",
    "print(\"total dogs after\", workingDog.total_dogs)\n"
   ]
  },
  {
   "cell_type": "markdown",
   "metadata": {
    "slideshow": {
     "slide_type": "slide"
    }
   },
   "source": [
    "# Assign Raise Values\n",
    "\n",
    "Let's assume that we want to on average provide the dogs with a 6% raise"
   ]
  },
  {
   "cell_type": "code",
   "execution_count": 45,
   "metadata": {
    "slideshow": {
     "slide_type": "slide"
    }
   },
   "outputs": [],
   "source": [
    "# Add a class attribute called total_dogs to keep track of the total number of objects\n",
    "class workingDog:\n",
    "    \n",
    "    type = \"Service Animal\"\n",
    "    total_dogs = 0\n",
    "    raise_amt = 1.06\n",
    "    \n",
    "    def __init__(self, first_name, last_name, age, biscuits):\n",
    "        \"\"\"All dogs will have a name (string) and an age (int)\"\"\"\n",
    "        self.first_name = first_name\n",
    "        self.last_name = last_name\n",
    "        self.age = age\n",
    "        self.biscuits = biscuits\n",
    "        \n",
    "        workingDog.total_dogs += 1\n",
    "        \n",
    "    def dog_to_human_years(self):\n",
    "        return self.age * 7\n",
    "    \n",
    "    def annual_buscuits(self):\n",
    "        return self.biscuits * 365\n",
    "    \n",
    "    @classmethod\n",
    "    def set_raise_amt(cls, amount):\n",
    "        cls.raise_amt = amount\n",
    "          \n",
    "    def apply_raise(self):\n",
    "        self.biscuits = int(self.biscuits * self.raise_amt)"
   ]
  },
  {
   "cell_type": "code",
   "execution_count": 48,
   "metadata": {
    "slideshow": {
     "slide_type": "slide"
    }
   },
   "outputs": [],
   "source": [
    "# Reinitialize the objects given the class updates\n",
    "joes_dog = workingDog(first_name=\"James\", last_name = \"McGlinchy\", \n",
    "                      age=10, biscuits=12)\n",
    "maxs_dog = workingDog(first_name=\"Haddie\", last_name = \"Joseph\", \n",
    "                      age=2, biscuits=120)\n",
    "jennys_dog = workingDog(first_name=\"Boy\", last_name = \"Palomino\", \n",
    "                        age=6, biscuits=12)\n"
   ]
  },
  {
   "cell_type": "code",
   "execution_count": 63,
   "metadata": {
    "slideshow": {
     "slide_type": "slide"
    }
   },
   "outputs": [
    {
     "name": "stdout",
     "output_type": "stream",
     "text": [
      "1.1\n",
      "1.1\n",
      "1\n",
      "2\n",
      "2\n",
      "1\n",
      "2\n",
      "2\n",
      "1\n",
      "2\n",
      "2\n"
     ]
    }
   ],
   "source": [
    "workingDog.set_raise_amt(1.10)\n",
    "print(joes_dog.raise_amt)\n",
    "print(maxs_dog.raise_amt)\n",
    "jennys_dog.set_raise_amt(2)\n",
    "print(jennys_dog.raise_amt)\n",
    "print(joes_dog.raise_amt)\n",
    "print(maxs_dog.raise_amt)\n",
    "\n",
    "jennys_dog.raise_amt  = 1\n",
    "print(jennys_dog.raise_amt)\n",
    "print(joes_dog.raise_amt)\n",
    "print(maxs_dog.raise_amt)\n",
    "maxs_dog.kitchen = 5\n",
    "maxs_dog.kitchen\n",
    "\n",
    "workingDog.set_raise_amt(2)\n",
    "print(jennys_dog.raise_amt)\n",
    "print(joes_dog.raise_amt)\n",
    "print(maxs_dog.raise_amt)"
   ]
  },
  {
   "cell_type": "code",
   "execution_count": 32,
   "metadata": {
    "slideshow": {
     "slide_type": "slide"
    }
   },
   "outputs": [
    {
     "name": "stdout",
     "output_type": "stream",
     "text": [
      "Biscuit payment a day was: 20\n",
      "Biscuit payment a day is now: 22\n",
      "Total annual biscuits: 8030\n"
     ]
    }
   ],
   "source": [
    "print(\"Biscuit payment a day was:\", joes_dog.biscuits)\n",
    "joes_dog.apply_raise()\n",
    "print(\"Biscuit payment a day is now:\", joes_dog.biscuits)\n",
    "print(\"Total annual biscuits:\", joes_dog.annual_buscuits())"
   ]
  },
  {
   "cell_type": "code",
   "execution_count": 35,
   "metadata": {
    "slideshow": {
     "slide_type": "slide"
    }
   },
   "outputs": [
    {
     "data": {
      "text/plain": [
       "{'first_name': 'Haddie', 'last_name': 'Joseph', 'age': 2, 'biscuits': 120}"
      ]
     },
     "execution_count": 35,
     "metadata": {},
     "output_type": "execute_result"
    }
   ],
   "source": [
    "# Explore objects\n",
    "joes_dog.__dict__\n",
    "maxs_dog.__dict__"
   ]
  },
  {
   "cell_type": "markdown",
   "metadata": {
    "slideshow": {
     "slide_type": "slide"
    }
   },
   "source": [
    "## Questions\n",
    "\n",
    "* How do you view a list of all objects associate with the class?\n",
    "* How do you remove objects?"
   ]
  }
 ],
 "metadata": {
  "celltoolbar": "Slideshow",
  "kernelspec": {
   "display_name": "Python [default]",
   "language": "python",
   "name": "python3"
  },
  "language_info": {
   "codemirror_mode": {
    "name": "ipython",
    "version": 3
   },
   "file_extension": ".py",
   "mimetype": "text/x-python",
   "name": "python",
   "nbconvert_exporter": "python",
   "pygments_lexer": "ipython3",
   "version": "3.6.6"
  }
 },
 "nbformat": 4,
 "nbformat_minor": 2
}
